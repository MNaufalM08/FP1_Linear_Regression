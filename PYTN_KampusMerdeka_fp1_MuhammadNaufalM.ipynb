{
  "cells": [
    {
      "cell_type": "markdown",
      "metadata": {
        "id": "UwN39slFVWg2"
      },
      "source": [
        "# **FINAL PROJECT 1** - Linear Regression"
      ]
    },
    {
      "cell_type": "markdown",
      "metadata": {
        "id": "CIjDS9HkVWg5"
      },
      "source": [
        "Kelompok 5 - PYTN 013\n",
        "- Muhammad Naufal Misbahuddin\n",
        "- Nayla Salsabila Cindiva Utomo Putri\n",
        "- Nabila Regitasyari Irmawan"
      ]
    },
    {
      "cell_type": "markdown",
      "metadata": {
        "id": "ZzKBjPyk9LR_"
      },
      "source": [
        "# A. Perkenalan"
      ]
    },
    {
      "cell_type": "markdown",
      "metadata": {
        "id": "3J93f0MzVWg7"
      },
      "source": [
        "Uber dan Lyft merupakan penyedia jasa Taxi online yang banyak digunakan khususnya di Boston, USA. Pada Final Project Pertama ini kami dari kelompok 5 mencoba untuk memprediksi peluang pengguna memilih lyft daripada uber yang dipengaruhi oleh harga/price, distance/jarak, dan juga surge multiplier/lonjakan harga.\n",
        "\n",
        "Dari dataset yang berasal dari platform kaggle yang bertajuk \"Uber and Lyft Dataset Boston, MA\" yang berisi 57 atribut denga data yang berjumlah 693071 kami mencoba menyederhanakannya agar tujuan dari prediksi yang akan kami buat sesuai (price, distance, surge_multiplier). \n",
        "\n",
        "Objektivitas berkutat pada atribut cab_type yang dipengaruhi price, distance, dan juga surge_multiplier dengan model yang sesuai dengan ketentuan pada final project pertama ini."
      ]
    },
    {
      "cell_type": "markdown",
      "metadata": {
        "id": "36CjBNBETImv"
      },
      "source": [
        "# B. Import Library yang dibutuhkan"
      ]
    },
    {
      "cell_type": "code",
      "execution_count": null,
      "metadata": {
        "id": "LQ3tVuhaSRvL"
      },
      "outputs": [],
      "source": [
        "#Data Processing\n",
        "import pandas as pd\n",
        "import numpy as np\n",
        "from datetime import date\n",
        "#Machine Learning Library\n",
        "from sklearn.model_selection import train_test_split\n",
        "from sklearn.linear_model import LinearRegression\n",
        "from sklearn.linear_model import LogisticRegression\n",
        "from sklearn.neighbors import KNeighborsClassifier\n",
        "from sklearn.neighbors import KNeighborsRegressor\n",
        "from sklearn.naive_bayes import GaussianNB\n",
        "from sklearn.tree import DecisionTreeClassifier\n",
        "from sklearn.ensemble import RandomForestClassifier\n",
        "from sklearn.svm import SVR\n",
        "from sklearn.metrics import mean_squared_error, r2_score\n",
        "from sklearn.metrics import accuracy_score, classification_report\n",
        "from sklearn.metrics import mean_absolute_error, mean_absolute_percentage_error\n",
        "from statsmodels.stats.outliers_influence import variance_inflation_factor\n",
        "from sklearn.preprocessing import StandardScaler\n",
        "from sklearn.ensemble import RandomForestRegressor\n",
        "#Data Visualization \n",
        "import matplotlib.pyplot as plt\n",
        "import seaborn as sns\n",
        "\n",
        "%matplotlib inline"
      ]
    },
    {
      "cell_type": "markdown",
      "metadata": {
        "id": "iKyASLvHY3Fl"
      },
      "source": [
        "# C. Data Loading"
      ]
    },
    {
      "cell_type": "code",
      "execution_count": null,
      "metadata": {
        "colab": {
          "base_uri": "https://localhost:8080/",
          "height": 531
        },
        "id": "aU-6yljjY7nr",
        "outputId": "8158019f-47fc-40cb-ea0a-aab25793220b"
      },
      "outputs": [
        {
          "output_type": "execute_result",
          "data": {
            "text/plain": [
              "                                     id     timestamp  hour  day  month  \\\n",
              "0  424553bb-7174-41ea-aeb4-fe06d4f4b9d7  1.544953e+09     9   16     12   \n",
              "1  4bd23055-6827-41c6-b23b-3c491f24e74d  1.543284e+09     2   27     11   \n",
              "2  981a3613-77af-4620-a42a-0c0866077d1e  1.543367e+09     1   28     11   \n",
              "3  c2d88af2-d278-4bfd-a8d0-29ca77cc5512  1.543554e+09     4   30     11   \n",
              "4  e0126e1f-8ca9-4f2e-82b3-50505a09db9a  1.543463e+09     3   29     11   \n",
              "\n",
              "              datetime          timezone            source    destination  \\\n",
              "0  2018-12-16 09:30:07  America/New_York  Haymarket Square  North Station   \n",
              "1  2018-11-27 02:00:23  America/New_York  Haymarket Square  North Station   \n",
              "2  2018-11-28 01:00:22  America/New_York  Haymarket Square  North Station   \n",
              "3  2018-11-30 04:53:02  America/New_York  Haymarket Square  North Station   \n",
              "4  2018-11-29 03:49:20  America/New_York  Haymarket Square  North Station   \n",
              "\n",
              "  cab_type    product_id          name  price  distance  surge_multiplier  \\\n",
              "0     Lyft     lyft_line        Shared    5.0      0.44               1.0   \n",
              "1     Lyft  lyft_premier           Lux   11.0      0.44               1.0   \n",
              "2     Lyft          lyft          Lyft    7.0      0.44               1.0   \n",
              "3     Lyft   lyft_luxsuv  Lux Black XL   26.0      0.44               1.0   \n",
              "4     Lyft     lyft_plus       Lyft XL    9.0      0.44               1.0   \n",
              "\n",
              "   latitude  longitude  temperature  apparentTemperature    short_summary  \\\n",
              "0   42.2148    -71.033        42.34                37.12   Mostly Cloudy    \n",
              "1   42.2148    -71.033        43.58                37.35            Rain    \n",
              "2   42.2148    -71.033        38.33                32.93           Clear    \n",
              "3   42.2148    -71.033        34.38                29.63           Clear    \n",
              "4   42.2148    -71.033        37.44                30.88   Partly Cloudy    \n",
              "\n",
              "                                        long_summary  precipIntensity  \\\n",
              "0                          Rain throughout the day.            0.0000   \n",
              "1   Rain until morning, starting again in the eve...           0.1299   \n",
              "2                        Light rain in the morning.            0.0000   \n",
              "3                 Partly cloudy throughout the day.            0.0000   \n",
              "4                 Mostly cloudy throughout the day.            0.0000   \n",
              "\n",
              "   precipProbability  humidity  windSpeed  windGust  windGustTime  visibility  \\\n",
              "0                0.0      0.68       8.66      9.17    1545015600      10.000   \n",
              "1                1.0      0.94      11.98     11.98    1543291200       4.786   \n",
              "2                0.0      0.75       7.33      7.33    1543334400      10.000   \n",
              "3                0.0      0.73       5.28      5.28    1543514400      10.000   \n",
              "4                0.0      0.70       9.14      9.14    1543446000      10.000   \n",
              "\n",
              "   temperatureHigh  temperatureHighTime  temperatureLow  temperatureLowTime  \\\n",
              "0            43.68           1544968800           34.19          1545048000   \n",
              "1            47.30           1543251600           42.10          1543298400   \n",
              "2            47.55           1543320000           33.10          1543402800   \n",
              "3            45.03           1543510800           28.90          1543579200   \n",
              "4            42.18           1543420800           36.71          1543478400   \n",
              "\n",
              "   apparentTemperatureHigh  apparentTemperatureHighTime  \\\n",
              "0                    37.95                 1.544969e+09   \n",
              "1                    43.92                 1.543252e+09   \n",
              "2                    44.12                 1.543320e+09   \n",
              "3                    38.53                 1.543511e+09   \n",
              "4                    35.75                 1.543421e+09   \n",
              "\n",
              "   apparentTemperatureLow  apparentTemperatureLowTime                   icon  \\\n",
              "0                   27.39                1.545044e+09   partly-cloudy-night    \n",
              "1                   36.20                1.543291e+09                  rain    \n",
              "2                   29.11                1.543392e+09           clear-night    \n",
              "3                   26.20                1.543576e+09           clear-night    \n",
              "4                   30.29                1.543460e+09   partly-cloudy-night    \n",
              "\n",
              "   dewPoint  pressure  windBearing  cloudCover  uvIndex  visibility.1  ozone  \\\n",
              "0     32.70   1021.98         57.0        0.72      0.0        10.000  303.8   \n",
              "1     41.83   1003.97         90.0        1.00      0.0         4.786  291.1   \n",
              "2     31.10    992.28        240.0        0.03      0.0        10.000  315.7   \n",
              "3     26.64   1013.73        310.0        0.00      0.0        10.000  291.1   \n",
              "4     28.61    998.36        303.0        0.44      0.0        10.000  347.7   \n",
              "\n",
              "    sunriseTime    sunsetTime  moonPhase  precipIntensityMax   uvIndexTime  \\\n",
              "0  1.544962e+09  1.544995e+09       0.30              0.1276  1.544980e+09   \n",
              "1  1.543233e+09  1.543267e+09       0.64              0.1300  1.543252e+09   \n",
              "2  1.543319e+09  1.543353e+09       0.68              0.1064  1.543338e+09   \n",
              "3  1.543492e+09  1.543526e+09       0.75              0.0000  1.543507e+09   \n",
              "4  1.543406e+09  1.543440e+09       0.72              0.0001  1.543421e+09   \n",
              "\n",
              "   temperatureMin  temperatureMinTime  temperatureMax  temperatureMaxTime  \\\n",
              "0           39.89        1.545012e+09           43.68        1.544969e+09   \n",
              "1           40.49        1.543234e+09           47.30        1.543252e+09   \n",
              "2           35.36        1.543378e+09           47.55        1.543320e+09   \n",
              "3           34.67        1.543550e+09           45.03        1.543511e+09   \n",
              "4           33.10        1.543403e+09           42.18        1.543421e+09   \n",
              "\n",
              "   apparentTemperatureMin  apparentTemperatureMinTime  apparentTemperatureMax  \\\n",
              "0                   33.73                1.545012e+09                   38.07   \n",
              "1                   36.20                1.543291e+09                   43.92   \n",
              "2                   31.04                1.543378e+09                   44.12   \n",
              "3                   30.30                1.543550e+09                   38.53   \n",
              "4                   29.11                1.543392e+09                   35.75   \n",
              "\n",
              "   apparentTemperatureMaxTime  \n",
              "0                1.544958e+09  \n",
              "1                1.543252e+09  \n",
              "2                1.543320e+09  \n",
              "3                1.543511e+09  \n",
              "4                1.543421e+09  "
            ],
            "text/html": [
              "\n",
              "  <div id=\"df-c12e38f3-52c1-494d-a6ea-6ab6dd92c830\">\n",
              "    <div class=\"colab-df-container\">\n",
              "      <div>\n",
              "<style scoped>\n",
              "    .dataframe tbody tr th:only-of-type {\n",
              "        vertical-align: middle;\n",
              "    }\n",
              "\n",
              "    .dataframe tbody tr th {\n",
              "        vertical-align: top;\n",
              "    }\n",
              "\n",
              "    .dataframe thead th {\n",
              "        text-align: right;\n",
              "    }\n",
              "</style>\n",
              "<table border=\"1\" class=\"dataframe\">\n",
              "  <thead>\n",
              "    <tr style=\"text-align: right;\">\n",
              "      <th></th>\n",
              "      <th>id</th>\n",
              "      <th>timestamp</th>\n",
              "      <th>hour</th>\n",
              "      <th>day</th>\n",
              "      <th>month</th>\n",
              "      <th>datetime</th>\n",
              "      <th>timezone</th>\n",
              "      <th>source</th>\n",
              "      <th>destination</th>\n",
              "      <th>cab_type</th>\n",
              "      <th>product_id</th>\n",
              "      <th>name</th>\n",
              "      <th>price</th>\n",
              "      <th>distance</th>\n",
              "      <th>surge_multiplier</th>\n",
              "      <th>latitude</th>\n",
              "      <th>longitude</th>\n",
              "      <th>temperature</th>\n",
              "      <th>apparentTemperature</th>\n",
              "      <th>short_summary</th>\n",
              "      <th>long_summary</th>\n",
              "      <th>precipIntensity</th>\n",
              "      <th>precipProbability</th>\n",
              "      <th>humidity</th>\n",
              "      <th>windSpeed</th>\n",
              "      <th>windGust</th>\n",
              "      <th>windGustTime</th>\n",
              "      <th>visibility</th>\n",
              "      <th>temperatureHigh</th>\n",
              "      <th>temperatureHighTime</th>\n",
              "      <th>temperatureLow</th>\n",
              "      <th>temperatureLowTime</th>\n",
              "      <th>apparentTemperatureHigh</th>\n",
              "      <th>apparentTemperatureHighTime</th>\n",
              "      <th>apparentTemperatureLow</th>\n",
              "      <th>apparentTemperatureLowTime</th>\n",
              "      <th>icon</th>\n",
              "      <th>dewPoint</th>\n",
              "      <th>pressure</th>\n",
              "      <th>windBearing</th>\n",
              "      <th>cloudCover</th>\n",
              "      <th>uvIndex</th>\n",
              "      <th>visibility.1</th>\n",
              "      <th>ozone</th>\n",
              "      <th>sunriseTime</th>\n",
              "      <th>sunsetTime</th>\n",
              "      <th>moonPhase</th>\n",
              "      <th>precipIntensityMax</th>\n",
              "      <th>uvIndexTime</th>\n",
              "      <th>temperatureMin</th>\n",
              "      <th>temperatureMinTime</th>\n",
              "      <th>temperatureMax</th>\n",
              "      <th>temperatureMaxTime</th>\n",
              "      <th>apparentTemperatureMin</th>\n",
              "      <th>apparentTemperatureMinTime</th>\n",
              "      <th>apparentTemperatureMax</th>\n",
              "      <th>apparentTemperatureMaxTime</th>\n",
              "    </tr>\n",
              "  </thead>\n",
              "  <tbody>\n",
              "    <tr>\n",
              "      <th>0</th>\n",
              "      <td>424553bb-7174-41ea-aeb4-fe06d4f4b9d7</td>\n",
              "      <td>1.544953e+09</td>\n",
              "      <td>9</td>\n",
              "      <td>16</td>\n",
              "      <td>12</td>\n",
              "      <td>2018-12-16 09:30:07</td>\n",
              "      <td>America/New_York</td>\n",
              "      <td>Haymarket Square</td>\n",
              "      <td>North Station</td>\n",
              "      <td>Lyft</td>\n",
              "      <td>lyft_line</td>\n",
              "      <td>Shared</td>\n",
              "      <td>5.0</td>\n",
              "      <td>0.44</td>\n",
              "      <td>1.0</td>\n",
              "      <td>42.2148</td>\n",
              "      <td>-71.033</td>\n",
              "      <td>42.34</td>\n",
              "      <td>37.12</td>\n",
              "      <td>Mostly Cloudy</td>\n",
              "      <td>Rain throughout the day.</td>\n",
              "      <td>0.0000</td>\n",
              "      <td>0.0</td>\n",
              "      <td>0.68</td>\n",
              "      <td>8.66</td>\n",
              "      <td>9.17</td>\n",
              "      <td>1545015600</td>\n",
              "      <td>10.000</td>\n",
              "      <td>43.68</td>\n",
              "      <td>1544968800</td>\n",
              "      <td>34.19</td>\n",
              "      <td>1545048000</td>\n",
              "      <td>37.95</td>\n",
              "      <td>1.544969e+09</td>\n",
              "      <td>27.39</td>\n",
              "      <td>1.545044e+09</td>\n",
              "      <td>partly-cloudy-night</td>\n",
              "      <td>32.70</td>\n",
              "      <td>1021.98</td>\n",
              "      <td>57.0</td>\n",
              "      <td>0.72</td>\n",
              "      <td>0.0</td>\n",
              "      <td>10.000</td>\n",
              "      <td>303.8</td>\n",
              "      <td>1.544962e+09</td>\n",
              "      <td>1.544995e+09</td>\n",
              "      <td>0.30</td>\n",
              "      <td>0.1276</td>\n",
              "      <td>1.544980e+09</td>\n",
              "      <td>39.89</td>\n",
              "      <td>1.545012e+09</td>\n",
              "      <td>43.68</td>\n",
              "      <td>1.544969e+09</td>\n",
              "      <td>33.73</td>\n",
              "      <td>1.545012e+09</td>\n",
              "      <td>38.07</td>\n",
              "      <td>1.544958e+09</td>\n",
              "    </tr>\n",
              "    <tr>\n",
              "      <th>1</th>\n",
              "      <td>4bd23055-6827-41c6-b23b-3c491f24e74d</td>\n",
              "      <td>1.543284e+09</td>\n",
              "      <td>2</td>\n",
              "      <td>27</td>\n",
              "      <td>11</td>\n",
              "      <td>2018-11-27 02:00:23</td>\n",
              "      <td>America/New_York</td>\n",
              "      <td>Haymarket Square</td>\n",
              "      <td>North Station</td>\n",
              "      <td>Lyft</td>\n",
              "      <td>lyft_premier</td>\n",
              "      <td>Lux</td>\n",
              "      <td>11.0</td>\n",
              "      <td>0.44</td>\n",
              "      <td>1.0</td>\n",
              "      <td>42.2148</td>\n",
              "      <td>-71.033</td>\n",
              "      <td>43.58</td>\n",
              "      <td>37.35</td>\n",
              "      <td>Rain</td>\n",
              "      <td>Rain until morning, starting again in the eve...</td>\n",
              "      <td>0.1299</td>\n",
              "      <td>1.0</td>\n",
              "      <td>0.94</td>\n",
              "      <td>11.98</td>\n",
              "      <td>11.98</td>\n",
              "      <td>1543291200</td>\n",
              "      <td>4.786</td>\n",
              "      <td>47.30</td>\n",
              "      <td>1543251600</td>\n",
              "      <td>42.10</td>\n",
              "      <td>1543298400</td>\n",
              "      <td>43.92</td>\n",
              "      <td>1.543252e+09</td>\n",
              "      <td>36.20</td>\n",
              "      <td>1.543291e+09</td>\n",
              "      <td>rain</td>\n",
              "      <td>41.83</td>\n",
              "      <td>1003.97</td>\n",
              "      <td>90.0</td>\n",
              "      <td>1.00</td>\n",
              "      <td>0.0</td>\n",
              "      <td>4.786</td>\n",
              "      <td>291.1</td>\n",
              "      <td>1.543233e+09</td>\n",
              "      <td>1.543267e+09</td>\n",
              "      <td>0.64</td>\n",
              "      <td>0.1300</td>\n",
              "      <td>1.543252e+09</td>\n",
              "      <td>40.49</td>\n",
              "      <td>1.543234e+09</td>\n",
              "      <td>47.30</td>\n",
              "      <td>1.543252e+09</td>\n",
              "      <td>36.20</td>\n",
              "      <td>1.543291e+09</td>\n",
              "      <td>43.92</td>\n",
              "      <td>1.543252e+09</td>\n",
              "    </tr>\n",
              "    <tr>\n",
              "      <th>2</th>\n",
              "      <td>981a3613-77af-4620-a42a-0c0866077d1e</td>\n",
              "      <td>1.543367e+09</td>\n",
              "      <td>1</td>\n",
              "      <td>28</td>\n",
              "      <td>11</td>\n",
              "      <td>2018-11-28 01:00:22</td>\n",
              "      <td>America/New_York</td>\n",
              "      <td>Haymarket Square</td>\n",
              "      <td>North Station</td>\n",
              "      <td>Lyft</td>\n",
              "      <td>lyft</td>\n",
              "      <td>Lyft</td>\n",
              "      <td>7.0</td>\n",
              "      <td>0.44</td>\n",
              "      <td>1.0</td>\n",
              "      <td>42.2148</td>\n",
              "      <td>-71.033</td>\n",
              "      <td>38.33</td>\n",
              "      <td>32.93</td>\n",
              "      <td>Clear</td>\n",
              "      <td>Light rain in the morning.</td>\n",
              "      <td>0.0000</td>\n",
              "      <td>0.0</td>\n",
              "      <td>0.75</td>\n",
              "      <td>7.33</td>\n",
              "      <td>7.33</td>\n",
              "      <td>1543334400</td>\n",
              "      <td>10.000</td>\n",
              "      <td>47.55</td>\n",
              "      <td>1543320000</td>\n",
              "      <td>33.10</td>\n",
              "      <td>1543402800</td>\n",
              "      <td>44.12</td>\n",
              "      <td>1.543320e+09</td>\n",
              "      <td>29.11</td>\n",
              "      <td>1.543392e+09</td>\n",
              "      <td>clear-night</td>\n",
              "      <td>31.10</td>\n",
              "      <td>992.28</td>\n",
              "      <td>240.0</td>\n",
              "      <td>0.03</td>\n",
              "      <td>0.0</td>\n",
              "      <td>10.000</td>\n",
              "      <td>315.7</td>\n",
              "      <td>1.543319e+09</td>\n",
              "      <td>1.543353e+09</td>\n",
              "      <td>0.68</td>\n",
              "      <td>0.1064</td>\n",
              "      <td>1.543338e+09</td>\n",
              "      <td>35.36</td>\n",
              "      <td>1.543378e+09</td>\n",
              "      <td>47.55</td>\n",
              "      <td>1.543320e+09</td>\n",
              "      <td>31.04</td>\n",
              "      <td>1.543378e+09</td>\n",
              "      <td>44.12</td>\n",
              "      <td>1.543320e+09</td>\n",
              "    </tr>\n",
              "    <tr>\n",
              "      <th>3</th>\n",
              "      <td>c2d88af2-d278-4bfd-a8d0-29ca77cc5512</td>\n",
              "      <td>1.543554e+09</td>\n",
              "      <td>4</td>\n",
              "      <td>30</td>\n",
              "      <td>11</td>\n",
              "      <td>2018-11-30 04:53:02</td>\n",
              "      <td>America/New_York</td>\n",
              "      <td>Haymarket Square</td>\n",
              "      <td>North Station</td>\n",
              "      <td>Lyft</td>\n",
              "      <td>lyft_luxsuv</td>\n",
              "      <td>Lux Black XL</td>\n",
              "      <td>26.0</td>\n",
              "      <td>0.44</td>\n",
              "      <td>1.0</td>\n",
              "      <td>42.2148</td>\n",
              "      <td>-71.033</td>\n",
              "      <td>34.38</td>\n",
              "      <td>29.63</td>\n",
              "      <td>Clear</td>\n",
              "      <td>Partly cloudy throughout the day.</td>\n",
              "      <td>0.0000</td>\n",
              "      <td>0.0</td>\n",
              "      <td>0.73</td>\n",
              "      <td>5.28</td>\n",
              "      <td>5.28</td>\n",
              "      <td>1543514400</td>\n",
              "      <td>10.000</td>\n",
              "      <td>45.03</td>\n",
              "      <td>1543510800</td>\n",
              "      <td>28.90</td>\n",
              "      <td>1543579200</td>\n",
              "      <td>38.53</td>\n",
              "      <td>1.543511e+09</td>\n",
              "      <td>26.20</td>\n",
              "      <td>1.543576e+09</td>\n",
              "      <td>clear-night</td>\n",
              "      <td>26.64</td>\n",
              "      <td>1013.73</td>\n",
              "      <td>310.0</td>\n",
              "      <td>0.00</td>\n",
              "      <td>0.0</td>\n",
              "      <td>10.000</td>\n",
              "      <td>291.1</td>\n",
              "      <td>1.543492e+09</td>\n",
              "      <td>1.543526e+09</td>\n",
              "      <td>0.75</td>\n",
              "      <td>0.0000</td>\n",
              "      <td>1.543507e+09</td>\n",
              "      <td>34.67</td>\n",
              "      <td>1.543550e+09</td>\n",
              "      <td>45.03</td>\n",
              "      <td>1.543511e+09</td>\n",
              "      <td>30.30</td>\n",
              "      <td>1.543550e+09</td>\n",
              "      <td>38.53</td>\n",
              "      <td>1.543511e+09</td>\n",
              "    </tr>\n",
              "    <tr>\n",
              "      <th>4</th>\n",
              "      <td>e0126e1f-8ca9-4f2e-82b3-50505a09db9a</td>\n",
              "      <td>1.543463e+09</td>\n",
              "      <td>3</td>\n",
              "      <td>29</td>\n",
              "      <td>11</td>\n",
              "      <td>2018-11-29 03:49:20</td>\n",
              "      <td>America/New_York</td>\n",
              "      <td>Haymarket Square</td>\n",
              "      <td>North Station</td>\n",
              "      <td>Lyft</td>\n",
              "      <td>lyft_plus</td>\n",
              "      <td>Lyft XL</td>\n",
              "      <td>9.0</td>\n",
              "      <td>0.44</td>\n",
              "      <td>1.0</td>\n",
              "      <td>42.2148</td>\n",
              "      <td>-71.033</td>\n",
              "      <td>37.44</td>\n",
              "      <td>30.88</td>\n",
              "      <td>Partly Cloudy</td>\n",
              "      <td>Mostly cloudy throughout the day.</td>\n",
              "      <td>0.0000</td>\n",
              "      <td>0.0</td>\n",
              "      <td>0.70</td>\n",
              "      <td>9.14</td>\n",
              "      <td>9.14</td>\n",
              "      <td>1543446000</td>\n",
              "      <td>10.000</td>\n",
              "      <td>42.18</td>\n",
              "      <td>1543420800</td>\n",
              "      <td>36.71</td>\n",
              "      <td>1543478400</td>\n",
              "      <td>35.75</td>\n",
              "      <td>1.543421e+09</td>\n",
              "      <td>30.29</td>\n",
              "      <td>1.543460e+09</td>\n",
              "      <td>partly-cloudy-night</td>\n",
              "      <td>28.61</td>\n",
              "      <td>998.36</td>\n",
              "      <td>303.0</td>\n",
              "      <td>0.44</td>\n",
              "      <td>0.0</td>\n",
              "      <td>10.000</td>\n",
              "      <td>347.7</td>\n",
              "      <td>1.543406e+09</td>\n",
              "      <td>1.543440e+09</td>\n",
              "      <td>0.72</td>\n",
              "      <td>0.0001</td>\n",
              "      <td>1.543421e+09</td>\n",
              "      <td>33.10</td>\n",
              "      <td>1.543403e+09</td>\n",
              "      <td>42.18</td>\n",
              "      <td>1.543421e+09</td>\n",
              "      <td>29.11</td>\n",
              "      <td>1.543392e+09</td>\n",
              "      <td>35.75</td>\n",
              "      <td>1.543421e+09</td>\n",
              "    </tr>\n",
              "  </tbody>\n",
              "</table>\n",
              "</div>\n",
              "      <button class=\"colab-df-convert\" onclick=\"convertToInteractive('df-c12e38f3-52c1-494d-a6ea-6ab6dd92c830')\"\n",
              "              title=\"Convert this dataframe to an interactive table.\"\n",
              "              style=\"display:none;\">\n",
              "        \n",
              "  <svg xmlns=\"http://www.w3.org/2000/svg\" height=\"24px\"viewBox=\"0 0 24 24\"\n",
              "       width=\"24px\">\n",
              "    <path d=\"M0 0h24v24H0V0z\" fill=\"none\"/>\n",
              "    <path d=\"M18.56 5.44l.94 2.06.94-2.06 2.06-.94-2.06-.94-.94-2.06-.94 2.06-2.06.94zm-11 1L8.5 8.5l.94-2.06 2.06-.94-2.06-.94L8.5 2.5l-.94 2.06-2.06.94zm10 10l.94 2.06.94-2.06 2.06-.94-2.06-.94-.94-2.06-.94 2.06-2.06.94z\"/><path d=\"M17.41 7.96l-1.37-1.37c-.4-.4-.92-.59-1.43-.59-.52 0-1.04.2-1.43.59L10.3 9.45l-7.72 7.72c-.78.78-.78 2.05 0 2.83L4 21.41c.39.39.9.59 1.41.59.51 0 1.02-.2 1.41-.59l7.78-7.78 2.81-2.81c.8-.78.8-2.07 0-2.86zM5.41 20L4 18.59l7.72-7.72 1.47 1.35L5.41 20z\"/>\n",
              "  </svg>\n",
              "      </button>\n",
              "      \n",
              "  <style>\n",
              "    .colab-df-container {\n",
              "      display:flex;\n",
              "      flex-wrap:wrap;\n",
              "      gap: 12px;\n",
              "    }\n",
              "\n",
              "    .colab-df-convert {\n",
              "      background-color: #E8F0FE;\n",
              "      border: none;\n",
              "      border-radius: 50%;\n",
              "      cursor: pointer;\n",
              "      display: none;\n",
              "      fill: #1967D2;\n",
              "      height: 32px;\n",
              "      padding: 0 0 0 0;\n",
              "      width: 32px;\n",
              "    }\n",
              "\n",
              "    .colab-df-convert:hover {\n",
              "      background-color: #E2EBFA;\n",
              "      box-shadow: 0px 1px 2px rgba(60, 64, 67, 0.3), 0px 1px 3px 1px rgba(60, 64, 67, 0.15);\n",
              "      fill: #174EA6;\n",
              "    }\n",
              "\n",
              "    [theme=dark] .colab-df-convert {\n",
              "      background-color: #3B4455;\n",
              "      fill: #D2E3FC;\n",
              "    }\n",
              "\n",
              "    [theme=dark] .colab-df-convert:hover {\n",
              "      background-color: #434B5C;\n",
              "      box-shadow: 0px 1px 3px 1px rgba(0, 0, 0, 0.15);\n",
              "      filter: drop-shadow(0px 1px 2px rgba(0, 0, 0, 0.3));\n",
              "      fill: #FFFFFF;\n",
              "    }\n",
              "  </style>\n",
              "\n",
              "      <script>\n",
              "        const buttonEl =\n",
              "          document.querySelector('#df-c12e38f3-52c1-494d-a6ea-6ab6dd92c830 button.colab-df-convert');\n",
              "        buttonEl.style.display =\n",
              "          google.colab.kernel.accessAllowed ? 'block' : 'none';\n",
              "\n",
              "        async function convertToInteractive(key) {\n",
              "          const element = document.querySelector('#df-c12e38f3-52c1-494d-a6ea-6ab6dd92c830');\n",
              "          const dataTable =\n",
              "            await google.colab.kernel.invokeFunction('convertToInteractive',\n",
              "                                                     [key], {});\n",
              "          if (!dataTable) return;\n",
              "\n",
              "          const docLinkHtml = 'Like what you see? Visit the ' +\n",
              "            '<a target=\"_blank\" href=https://colab.research.google.com/notebooks/data_table.ipynb>data table notebook</a>'\n",
              "            + ' to learn more about interactive tables.';\n",
              "          element.innerHTML = '';\n",
              "          dataTable['output_type'] = 'display_data';\n",
              "          await google.colab.output.renderOutput(dataTable, element);\n",
              "          const docLink = document.createElement('div');\n",
              "          docLink.innerHTML = docLinkHtml;\n",
              "          element.appendChild(docLink);\n",
              "        }\n",
              "      </script>\n",
              "    </div>\n",
              "  </div>\n",
              "  "
            ]
          },
          "metadata": {},
          "execution_count": 2
        }
      ],
      "source": [
        "ride_share_data = pd.read_csv('rideshare_kaggle.csv')\n",
        "pd.set_option('display.max_columns',None)\n",
        "#Melihat 5 data teratas\n",
        "ride_share_data.head()"
      ]
    },
    {
      "cell_type": "code",
      "execution_count": null,
      "metadata": {
        "colab": {
          "base_uri": "https://localhost:8080/"
        },
        "id": "2aq3o4xSZx4u",
        "outputId": "ecbd2c09-a3a8-498e-8b86-1de53dc70caa"
      },
      "outputs": [
        {
          "output_type": "execute_result",
          "data": {
            "text/plain": [
              "(595454, 57)"
            ]
          },
          "metadata": {},
          "execution_count": 3
        }
      ],
      "source": [
        "#Melihat Dimensi Data\n",
        "ride_share_data.shape"
      ]
    },
    {
      "cell_type": "code",
      "execution_count": null,
      "metadata": {
        "colab": {
          "base_uri": "https://localhost:8080/"
        },
        "id": "9q_3h-r2aagy",
        "outputId": "8f18d0ed-476f-4b56-d95d-923ef232da81"
      },
      "outputs": [
        {
          "output_type": "stream",
          "name": "stdout",
          "text": [
            "<class 'pandas.core.frame.DataFrame'>\n",
            "RangeIndex: 595454 entries, 0 to 595453\n",
            "Data columns (total 57 columns):\n",
            " #   Column                       Non-Null Count   Dtype  \n",
            "---  ------                       --------------   -----  \n",
            " 0   id                           595454 non-null  object \n",
            " 1   timestamp                    595454 non-null  float64\n",
            " 2   hour                         595454 non-null  int64  \n",
            " 3   day                          595454 non-null  int64  \n",
            " 4   month                        595454 non-null  int64  \n",
            " 5   datetime                     595454 non-null  object \n",
            " 6   timezone                     595454 non-null  object \n",
            " 7   source                       595454 non-null  object \n",
            " 8   destination                  595454 non-null  object \n",
            " 9   cab_type                     595454 non-null  object \n",
            " 10  product_id                   595454 non-null  object \n",
            " 11  name                         595454 non-null  object \n",
            " 12  price                        548189 non-null  float64\n",
            " 13  distance                     595454 non-null  float64\n",
            " 14  surge_multiplier             595454 non-null  float64\n",
            " 15  latitude                     595454 non-null  float64\n",
            " 16  longitude                    595454 non-null  float64\n",
            " 17  temperature                  595454 non-null  float64\n",
            " 18  apparentTemperature          595454 non-null  float64\n",
            " 19  short_summary                595454 non-null  object \n",
            " 20  long_summary                 595454 non-null  object \n",
            " 21  precipIntensity              595454 non-null  float64\n",
            " 22  precipProbability            595454 non-null  float64\n",
            " 23  humidity                     595454 non-null  float64\n",
            " 24  windSpeed                    595454 non-null  float64\n",
            " 25  windGust                     595454 non-null  float64\n",
            " 26  windGustTime                 595454 non-null  int64  \n",
            " 27  visibility                   595454 non-null  float64\n",
            " 28  temperatureHigh              595454 non-null  float64\n",
            " 29  temperatureHighTime          595454 non-null  int64  \n",
            " 30  temperatureLow               595454 non-null  float64\n",
            " 31  temperatureLowTime           595454 non-null  int64  \n",
            " 32  apparentTemperatureHigh      595453 non-null  float64\n",
            " 33  apparentTemperatureHighTime  595453 non-null  float64\n",
            " 34  apparentTemperatureLow       595453 non-null  float64\n",
            " 35  apparentTemperatureLowTime   595453 non-null  float64\n",
            " 36  icon                         595453 non-null  object \n",
            " 37  dewPoint                     595453 non-null  float64\n",
            " 38  pressure                     595453 non-null  float64\n",
            " 39  windBearing                  595453 non-null  float64\n",
            " 40  cloudCover                   595453 non-null  float64\n",
            " 41  uvIndex                      595453 non-null  float64\n",
            " 42  visibility.1                 595453 non-null  float64\n",
            " 43  ozone                        595453 non-null  float64\n",
            " 44  sunriseTime                  595453 non-null  float64\n",
            " 45  sunsetTime                   595453 non-null  float64\n",
            " 46  moonPhase                    595453 non-null  float64\n",
            " 47  precipIntensityMax           595453 non-null  float64\n",
            " 48  uvIndexTime                  595453 non-null  float64\n",
            " 49  temperatureMin               595453 non-null  float64\n",
            " 50  temperatureMinTime           595453 non-null  float64\n",
            " 51  temperatureMax               595453 non-null  float64\n",
            " 52  temperatureMaxTime           595453 non-null  float64\n",
            " 53  apparentTemperatureMin       595453 non-null  float64\n",
            " 54  apparentTemperatureMinTime   595453 non-null  float64\n",
            " 55  apparentTemperatureMax       595453 non-null  float64\n",
            " 56  apparentTemperatureMaxTime   595453 non-null  float64\n",
            "dtypes: float64(40), int64(6), object(11)\n",
            "memory usage: 258.9+ MB\n"
          ]
        }
      ],
      "source": [
        "#Melihat Informasi data\n",
        "ride_share_data.info()"
      ]
    },
    {
      "cell_type": "markdown",
      "metadata": {
        "id": "JYsvlmRGcv9o"
      },
      "source": [
        "**Analisis** \n",
        "\n",
        "Dari sini kita bisa melihat bahwa terdapat 11 data bertipe kategorikal dan 46 data bertipe numerikal. Ada yang janggal karena tidak ada data yang missing values. kita akan melakukan pengelompokan terlebih dahulu kemudian akan mengecek data yang missing values.\n",
        "\n",
        "\n",
        " "
      ]
    },
    {
      "cell_type": "markdown",
      "metadata": {
        "id": "515lIjLMhQDC"
      },
      "source": [
        "## Mengelompokan Data antara Numerikal dan Kategorikal"
      ]
    },
    {
      "cell_type": "code",
      "execution_count": null,
      "metadata": {
        "id": "cW8MxGVvhabP"
      },
      "outputs": [],
      "source": [
        "numerical = list(ride_share_data.select_dtypes(include=['float64']).columns.values) + list(ride_share_data.select_dtypes(include=['int64']).columns.values)\n",
        "kategorikal = list(ride_share_data.select_dtypes(include=['object']).columns.values)"
      ]
    },
    {
      "cell_type": "code",
      "execution_count": null,
      "metadata": {
        "colab": {
          "base_uri": "https://localhost:8080/"
        },
        "id": "Jg81SKvgjVLf",
        "outputId": "8fb69db6-9f2d-47ff-b814-876c03485938"
      },
      "outputs": [
        {
          "output_type": "execute_result",
          "data": {
            "text/plain": [
              "['timestamp',\n",
              " 'price',\n",
              " 'distance',\n",
              " 'surge_multiplier',\n",
              " 'latitude',\n",
              " 'longitude',\n",
              " 'temperature',\n",
              " 'apparentTemperature',\n",
              " 'precipIntensity',\n",
              " 'precipProbability',\n",
              " 'humidity',\n",
              " 'windSpeed',\n",
              " 'windGust',\n",
              " 'visibility',\n",
              " 'temperatureHigh',\n",
              " 'temperatureLow',\n",
              " 'apparentTemperatureHigh',\n",
              " 'apparentTemperatureHighTime',\n",
              " 'apparentTemperatureLow',\n",
              " 'apparentTemperatureLowTime',\n",
              " 'dewPoint',\n",
              " 'pressure',\n",
              " 'windBearing',\n",
              " 'cloudCover',\n",
              " 'uvIndex',\n",
              " 'visibility.1',\n",
              " 'ozone',\n",
              " 'sunriseTime',\n",
              " 'sunsetTime',\n",
              " 'moonPhase',\n",
              " 'precipIntensityMax',\n",
              " 'uvIndexTime',\n",
              " 'temperatureMin',\n",
              " 'temperatureMinTime',\n",
              " 'temperatureMax',\n",
              " 'temperatureMaxTime',\n",
              " 'apparentTemperatureMin',\n",
              " 'apparentTemperatureMinTime',\n",
              " 'apparentTemperatureMax',\n",
              " 'apparentTemperatureMaxTime',\n",
              " 'hour',\n",
              " 'day',\n",
              " 'month',\n",
              " 'windGustTime',\n",
              " 'temperatureHighTime',\n",
              " 'temperatureLowTime']"
            ]
          },
          "metadata": {},
          "execution_count": 6
        }
      ],
      "source": [
        "#Melihat kolom numerical\n",
        "numerical"
      ]
    },
    {
      "cell_type": "code",
      "execution_count": null,
      "metadata": {
        "colab": {
          "base_uri": "https://localhost:8080/"
        },
        "id": "9GmNENGQjcag",
        "outputId": "828bd294-7309-454a-d154-c818d7dd0bfc"
      },
      "outputs": [
        {
          "output_type": "execute_result",
          "data": {
            "text/plain": [
              "['id',\n",
              " 'datetime',\n",
              " 'timezone',\n",
              " 'source',\n",
              " 'destination',\n",
              " 'cab_type',\n",
              " 'product_id',\n",
              " 'name',\n",
              " 'short_summary',\n",
              " 'long_summary',\n",
              " 'icon']"
            ]
          },
          "metadata": {},
          "execution_count": 7
        }
      ],
      "source": [
        "#Melihat Kolom Kategorikal\n",
        "kategorikal"
      ]
    },
    {
      "cell_type": "markdown",
      "metadata": {
        "id": "6YIQmuLQlkfe"
      },
      "source": [
        "## Melihat statistik deskriptif kolom numerikal"
      ]
    },
    {
      "cell_type": "code",
      "execution_count": null,
      "metadata": {
        "colab": {
          "base_uri": "https://localhost:8080/",
          "height": 364
        },
        "id": "upq-308Xl5_c",
        "outputId": "fd00ecab-a843-4aae-eaa6-722329aac06e"
      },
      "outputs": [
        {
          "output_type": "execute_result",
          "data": {
            "text/plain": [
              "          timestamp          price       distance  surge_multiplier  \\\n",
              "count  5.954540e+05  548189.000000  595454.000000     595454.000000   \n",
              "mean   1.544045e+09      16.546423       2.189443          1.013935   \n",
              "std    6.893266e+05       9.328313       1.140407          0.091999   \n",
              "min    1.543204e+09       2.500000       0.020000          1.000000   \n",
              "25%    1.543444e+09       9.000000       1.280000          1.000000   \n",
              "50%    1.543736e+09      13.500000       2.160000          1.000000   \n",
              "75%    1.544827e+09      22.500000       2.930000          1.000000   \n",
              "max    1.545161e+09      92.000000       7.620000          3.000000   \n",
              "\n",
              "            latitude      longitude    temperature  apparentTemperature  \\\n",
              "count  595454.000000  595454.000000  595454.000000        595454.000000   \n",
              "mean       42.338161     -71.066129      39.571885            35.867645   \n",
              "std         0.047868       0.020287       6.719017             7.899811   \n",
              "min        42.214800     -71.105400      18.910000            12.130000   \n",
              "25%        42.350300     -71.081000      36.450000            31.910000   \n",
              "50%        42.351900     -71.063100      40.490000            35.900000   \n",
              "75%        42.364700     -71.054200      43.580000            40.010000   \n",
              "max        42.366100     -71.033000      57.220000            57.220000   \n",
              "\n",
              "       precipIntensity  precipProbability       humidity      windSpeed  \\\n",
              "count    595454.000000      595454.000000  595454.000000  595454.000000   \n",
              "mean          0.008926           0.145559       0.740929       6.186218   \n",
              "std           0.026946           0.328495       0.138426       3.145722   \n",
              "min           0.000000           0.000000       0.380000       0.450000   \n",
              "25%           0.000000           0.000000       0.640000       3.410000   \n",
              "50%           0.000000           0.000000       0.710000       5.910000   \n",
              "75%           0.000000           0.000000       0.880000       8.410000   \n",
              "max           0.144700           1.000000       0.960000      15.000000   \n",
              "\n",
              "            windGust     visibility  temperatureHigh  temperatureLow  \\\n",
              "count  595454.000000  595454.000000    595454.000000   595454.000000   \n",
              "mean        8.464470       8.473411        45.028493       34.144156   \n",
              "std         5.277567       2.598714         5.987402        6.377974   \n",
              "min         0.800000       0.717000        32.680000       17.850000   \n",
              "25%         4.060000       8.432000        42.570000       30.170000   \n",
              "50%         7.550000       9.880000        44.660000       34.180000   \n",
              "75%        11.740000       9.996000        46.910000       38.730000   \n",
              "max        27.250000      10.000000        57.870000       46.600000   \n",
              "\n",
              "       apparentTemperatureHigh  apparentTemperatureHighTime  \\\n",
              "count            595453.000000                 5.954530e+05   \n",
              "mean                 41.599102                 1.544050e+09   \n",
              "std                   7.650563                 6.943488e+05   \n",
              "min                  22.620000                 1.543187e+09   \n",
              "25%                  36.570000                 1.543439e+09   \n",
              "50%                  40.950000                 1.543788e+09   \n",
              "75%                  44.090000                 1.544818e+09   \n",
              "max                  57.200000                 1.545160e+09   \n",
              "\n",
              "       apparentTemperatureLow  apparentTemperatureLowTime       dewPoint  \\\n",
              "count           595453.000000                5.954530e+05  595453.000000   \n",
              "mean                30.128834                1.544098e+09      31.638578   \n",
              "std                  8.046598                6.929149e+05       9.126255   \n",
              "min                 11.810000                1.543234e+09       4.390000   \n",
              "25%                 27.700000                1.543478e+09      27.490000   \n",
              "50%                 30.030000                1.543817e+09      30.690000   \n",
              "75%                 35.320000                1.544836e+09      38.120000   \n",
              "max                 47.250000                1.545199e+09      50.670000   \n",
              "\n",
              "            pressure    windBearing     cloudCover        uvIndex  \\\n",
              "count  595453.000000  595453.000000  595453.000000  595453.000000   \n",
              "mean     1010.104965     220.059993       0.686169       0.248764   \n",
              "std        13.481178      99.123984       0.358685       0.474249   \n",
              "min       988.090000       2.000000       0.000000       0.000000   \n",
              "25%       999.820000     124.000000       0.370000       0.000000   \n",
              "50%      1009.250000     258.000000       0.820000       0.000000   \n",
              "75%      1021.860000     303.000000       1.000000       0.000000   \n",
              "max      1035.550000     356.000000       1.000000       2.000000   \n",
              "\n",
              "        visibility.1          ozone   sunriseTime    sunsetTime  \\\n",
              "count  595453.000000  595453.000000  5.954530e+05  5.954530e+05   \n",
              "mean        8.473409     313.530516  1.544027e+09  1.544060e+09   \n",
              "std         2.598716      27.919966  6.913106e+05  6.908345e+05   \n",
              "min         0.717000     269.400000  1.543147e+09  1.543181e+09   \n",
              "25%         8.432000     290.900000  1.543406e+09  1.543440e+09   \n",
              "50%         9.880000     307.400000  1.543752e+09  1.543785e+09   \n",
              "75%         9.996000     331.800000  1.544789e+09  1.544822e+09   \n",
              "max        10.000000     378.900000  1.545135e+09  1.545168e+09   \n",
              "\n",
              "           moonPhase  precipIntensityMax   uvIndexTime  temperatureMin  \\\n",
              "count  595453.000000       595453.000000  5.954530e+05   595453.000000   \n",
              "mean        0.578703            0.037342  1.544044e+09       33.450188   \n",
              "std         0.244663            0.055214  6.913742e+05        6.471142   \n",
              "min         0.090000            0.000000  1.543162e+09       15.630000   \n",
              "25%         0.300000            0.000000  1.543421e+09       30.170000   \n",
              "50%         0.680000            0.000400  1.543770e+09       34.220000   \n",
              "75%         0.790000            0.091600  1.544807e+09       38.880000   \n",
              "max         0.930000            0.145900  1.545152e+09       43.100000   \n",
              "\n",
              "       temperatureMinTime  temperatureMax  temperatureMaxTime  \\\n",
              "count        5.954530e+05   595453.000000        5.954530e+05   \n",
              "mean         1.544041e+09       45.246916        1.544047e+09   \n",
              "std          6.903267e+05        5.638989        6.903235e+05   \n",
              "min          1.543122e+09       33.510000        1.543154e+09   \n",
              "25%          1.543399e+09       42.570000        1.543439e+09   \n",
              "50%          1.543727e+09       44.660000        1.543788e+09   \n",
              "75%          1.544789e+09       46.910000        1.544814e+09   \n",
              "max          1.545192e+09       57.870000        1.545109e+09   \n",
              "\n",
              "       apparentTemperatureMin  apparentTemperatureMinTime  \\\n",
              "count           595453.000000                5.954530e+05   \n",
              "mean                29.723707                1.544048e+09   \n",
              "std                  7.106228                6.873325e+05   \n",
              "min                 11.810000                1.543136e+09   \n",
              "25%                 27.760000                1.543399e+09   \n",
              "50%                 30.130000                1.543745e+09   \n",
              "75%                 35.330000                1.544789e+09   \n",
              "max                 40.050000                1.545134e+09   \n",
              "\n",
              "       apparentTemperatureMax  apparentTemperatureMaxTime           hour  \\\n",
              "count           595453.000000                5.954530e+05  595454.000000   \n",
              "mean                41.979051                1.544048e+09      11.617903   \n",
              "std                  6.927224                6.912824e+05       6.951875   \n",
              "min                 28.950000                1.543187e+09       0.000000   \n",
              "25%                 36.570000                1.543439e+09       6.000000   \n",
              "50%                 40.950000                1.543788e+09      12.000000   \n",
              "75%                 44.090000                1.544818e+09      18.000000   \n",
              "max                 57.200000                1.545109e+09      23.000000   \n",
              "\n",
              "                 day          month  windGustTime  temperatureHighTime  \\\n",
              "count  595454.000000  595454.000000  5.954540e+05         5.954540e+05   \n",
              "mean       17.823706      11.585535  1.544048e+09         1.544049e+09   \n",
              "std         9.974253       0.492630  6.929780e+05         6.939668e+05   \n",
              "min         1.000000      11.000000  1.543151e+09         1.543154e+09   \n",
              "25%        13.000000      11.000000  1.543432e+09         1.543439e+09   \n",
              "50%        17.000000      12.000000  1.543756e+09         1.543788e+09   \n",
              "75%        28.000000      12.000000  1.544846e+09         1.544814e+09   \n",
              "max        30.000000      12.000000  1.545127e+09         1.545160e+09   \n",
              "\n",
              "       temperatureLowTime  \n",
              "count        5.954540e+05  \n",
              "mean         1.544102e+09  \n",
              "std          6.924533e+05  \n",
              "min          1.543234e+09  \n",
              "25%          1.543489e+09  \n",
              "50%          1.543817e+09  \n",
              "75%          1.544836e+09  \n",
              "max          1.545221e+09  "
            ],
            "text/html": [
              "\n",
              "  <div id=\"df-947a2db8-442c-4e79-8054-7abc1083ca71\">\n",
              "    <div class=\"colab-df-container\">\n",
              "      <div>\n",
              "<style scoped>\n",
              "    .dataframe tbody tr th:only-of-type {\n",
              "        vertical-align: middle;\n",
              "    }\n",
              "\n",
              "    .dataframe tbody tr th {\n",
              "        vertical-align: top;\n",
              "    }\n",
              "\n",
              "    .dataframe thead th {\n",
              "        text-align: right;\n",
              "    }\n",
              "</style>\n",
              "<table border=\"1\" class=\"dataframe\">\n",
              "  <thead>\n",
              "    <tr style=\"text-align: right;\">\n",
              "      <th></th>\n",
              "      <th>timestamp</th>\n",
              "      <th>price</th>\n",
              "      <th>distance</th>\n",
              "      <th>surge_multiplier</th>\n",
              "      <th>latitude</th>\n",
              "      <th>longitude</th>\n",
              "      <th>temperature</th>\n",
              "      <th>apparentTemperature</th>\n",
              "      <th>precipIntensity</th>\n",
              "      <th>precipProbability</th>\n",
              "      <th>humidity</th>\n",
              "      <th>windSpeed</th>\n",
              "      <th>windGust</th>\n",
              "      <th>visibility</th>\n",
              "      <th>temperatureHigh</th>\n",
              "      <th>temperatureLow</th>\n",
              "      <th>apparentTemperatureHigh</th>\n",
              "      <th>apparentTemperatureHighTime</th>\n",
              "      <th>apparentTemperatureLow</th>\n",
              "      <th>apparentTemperatureLowTime</th>\n",
              "      <th>dewPoint</th>\n",
              "      <th>pressure</th>\n",
              "      <th>windBearing</th>\n",
              "      <th>cloudCover</th>\n",
              "      <th>uvIndex</th>\n",
              "      <th>visibility.1</th>\n",
              "      <th>ozone</th>\n",
              "      <th>sunriseTime</th>\n",
              "      <th>sunsetTime</th>\n",
              "      <th>moonPhase</th>\n",
              "      <th>precipIntensityMax</th>\n",
              "      <th>uvIndexTime</th>\n",
              "      <th>temperatureMin</th>\n",
              "      <th>temperatureMinTime</th>\n",
              "      <th>temperatureMax</th>\n",
              "      <th>temperatureMaxTime</th>\n",
              "      <th>apparentTemperatureMin</th>\n",
              "      <th>apparentTemperatureMinTime</th>\n",
              "      <th>apparentTemperatureMax</th>\n",
              "      <th>apparentTemperatureMaxTime</th>\n",
              "      <th>hour</th>\n",
              "      <th>day</th>\n",
              "      <th>month</th>\n",
              "      <th>windGustTime</th>\n",
              "      <th>temperatureHighTime</th>\n",
              "      <th>temperatureLowTime</th>\n",
              "    </tr>\n",
              "  </thead>\n",
              "  <tbody>\n",
              "    <tr>\n",
              "      <th>count</th>\n",
              "      <td>5.954540e+05</td>\n",
              "      <td>548189.000000</td>\n",
              "      <td>595454.000000</td>\n",
              "      <td>595454.000000</td>\n",
              "      <td>595454.000000</td>\n",
              "      <td>595454.000000</td>\n",
              "      <td>595454.000000</td>\n",
              "      <td>595454.000000</td>\n",
              "      <td>595454.000000</td>\n",
              "      <td>595454.000000</td>\n",
              "      <td>595454.000000</td>\n",
              "      <td>595454.000000</td>\n",
              "      <td>595454.000000</td>\n",
              "      <td>595454.000000</td>\n",
              "      <td>595454.000000</td>\n",
              "      <td>595454.000000</td>\n",
              "      <td>595453.000000</td>\n",
              "      <td>5.954530e+05</td>\n",
              "      <td>595453.000000</td>\n",
              "      <td>5.954530e+05</td>\n",
              "      <td>595453.000000</td>\n",
              "      <td>595453.000000</td>\n",
              "      <td>595453.000000</td>\n",
              "      <td>595453.000000</td>\n",
              "      <td>595453.000000</td>\n",
              "      <td>595453.000000</td>\n",
              "      <td>595453.000000</td>\n",
              "      <td>5.954530e+05</td>\n",
              "      <td>5.954530e+05</td>\n",
              "      <td>595453.000000</td>\n",
              "      <td>595453.000000</td>\n",
              "      <td>5.954530e+05</td>\n",
              "      <td>595453.000000</td>\n",
              "      <td>5.954530e+05</td>\n",
              "      <td>595453.000000</td>\n",
              "      <td>5.954530e+05</td>\n",
              "      <td>595453.000000</td>\n",
              "      <td>5.954530e+05</td>\n",
              "      <td>595453.000000</td>\n",
              "      <td>5.954530e+05</td>\n",
              "      <td>595454.000000</td>\n",
              "      <td>595454.000000</td>\n",
              "      <td>595454.000000</td>\n",
              "      <td>5.954540e+05</td>\n",
              "      <td>5.954540e+05</td>\n",
              "      <td>5.954540e+05</td>\n",
              "    </tr>\n",
              "    <tr>\n",
              "      <th>mean</th>\n",
              "      <td>1.544045e+09</td>\n",
              "      <td>16.546423</td>\n",
              "      <td>2.189443</td>\n",
              "      <td>1.013935</td>\n",
              "      <td>42.338161</td>\n",
              "      <td>-71.066129</td>\n",
              "      <td>39.571885</td>\n",
              "      <td>35.867645</td>\n",
              "      <td>0.008926</td>\n",
              "      <td>0.145559</td>\n",
              "      <td>0.740929</td>\n",
              "      <td>6.186218</td>\n",
              "      <td>8.464470</td>\n",
              "      <td>8.473411</td>\n",
              "      <td>45.028493</td>\n",
              "      <td>34.144156</td>\n",
              "      <td>41.599102</td>\n",
              "      <td>1.544050e+09</td>\n",
              "      <td>30.128834</td>\n",
              "      <td>1.544098e+09</td>\n",
              "      <td>31.638578</td>\n",
              "      <td>1010.104965</td>\n",
              "      <td>220.059993</td>\n",
              "      <td>0.686169</td>\n",
              "      <td>0.248764</td>\n",
              "      <td>8.473409</td>\n",
              "      <td>313.530516</td>\n",
              "      <td>1.544027e+09</td>\n",
              "      <td>1.544060e+09</td>\n",
              "      <td>0.578703</td>\n",
              "      <td>0.037342</td>\n",
              "      <td>1.544044e+09</td>\n",
              "      <td>33.450188</td>\n",
              "      <td>1.544041e+09</td>\n",
              "      <td>45.246916</td>\n",
              "      <td>1.544047e+09</td>\n",
              "      <td>29.723707</td>\n",
              "      <td>1.544048e+09</td>\n",
              "      <td>41.979051</td>\n",
              "      <td>1.544048e+09</td>\n",
              "      <td>11.617903</td>\n",
              "      <td>17.823706</td>\n",
              "      <td>11.585535</td>\n",
              "      <td>1.544048e+09</td>\n",
              "      <td>1.544049e+09</td>\n",
              "      <td>1.544102e+09</td>\n",
              "    </tr>\n",
              "    <tr>\n",
              "      <th>std</th>\n",
              "      <td>6.893266e+05</td>\n",
              "      <td>9.328313</td>\n",
              "      <td>1.140407</td>\n",
              "      <td>0.091999</td>\n",
              "      <td>0.047868</td>\n",
              "      <td>0.020287</td>\n",
              "      <td>6.719017</td>\n",
              "      <td>7.899811</td>\n",
              "      <td>0.026946</td>\n",
              "      <td>0.328495</td>\n",
              "      <td>0.138426</td>\n",
              "      <td>3.145722</td>\n",
              "      <td>5.277567</td>\n",
              "      <td>2.598714</td>\n",
              "      <td>5.987402</td>\n",
              "      <td>6.377974</td>\n",
              "      <td>7.650563</td>\n",
              "      <td>6.943488e+05</td>\n",
              "      <td>8.046598</td>\n",
              "      <td>6.929149e+05</td>\n",
              "      <td>9.126255</td>\n",
              "      <td>13.481178</td>\n",
              "      <td>99.123984</td>\n",
              "      <td>0.358685</td>\n",
              "      <td>0.474249</td>\n",
              "      <td>2.598716</td>\n",
              "      <td>27.919966</td>\n",
              "      <td>6.913106e+05</td>\n",
              "      <td>6.908345e+05</td>\n",
              "      <td>0.244663</td>\n",
              "      <td>0.055214</td>\n",
              "      <td>6.913742e+05</td>\n",
              "      <td>6.471142</td>\n",
              "      <td>6.903267e+05</td>\n",
              "      <td>5.638989</td>\n",
              "      <td>6.903235e+05</td>\n",
              "      <td>7.106228</td>\n",
              "      <td>6.873325e+05</td>\n",
              "      <td>6.927224</td>\n",
              "      <td>6.912824e+05</td>\n",
              "      <td>6.951875</td>\n",
              "      <td>9.974253</td>\n",
              "      <td>0.492630</td>\n",
              "      <td>6.929780e+05</td>\n",
              "      <td>6.939668e+05</td>\n",
              "      <td>6.924533e+05</td>\n",
              "    </tr>\n",
              "    <tr>\n",
              "      <th>min</th>\n",
              "      <td>1.543204e+09</td>\n",
              "      <td>2.500000</td>\n",
              "      <td>0.020000</td>\n",
              "      <td>1.000000</td>\n",
              "      <td>42.214800</td>\n",
              "      <td>-71.105400</td>\n",
              "      <td>18.910000</td>\n",
              "      <td>12.130000</td>\n",
              "      <td>0.000000</td>\n",
              "      <td>0.000000</td>\n",
              "      <td>0.380000</td>\n",
              "      <td>0.450000</td>\n",
              "      <td>0.800000</td>\n",
              "      <td>0.717000</td>\n",
              "      <td>32.680000</td>\n",
              "      <td>17.850000</td>\n",
              "      <td>22.620000</td>\n",
              "      <td>1.543187e+09</td>\n",
              "      <td>11.810000</td>\n",
              "      <td>1.543234e+09</td>\n",
              "      <td>4.390000</td>\n",
              "      <td>988.090000</td>\n",
              "      <td>2.000000</td>\n",
              "      <td>0.000000</td>\n",
              "      <td>0.000000</td>\n",
              "      <td>0.717000</td>\n",
              "      <td>269.400000</td>\n",
              "      <td>1.543147e+09</td>\n",
              "      <td>1.543181e+09</td>\n",
              "      <td>0.090000</td>\n",
              "      <td>0.000000</td>\n",
              "      <td>1.543162e+09</td>\n",
              "      <td>15.630000</td>\n",
              "      <td>1.543122e+09</td>\n",
              "      <td>33.510000</td>\n",
              "      <td>1.543154e+09</td>\n",
              "      <td>11.810000</td>\n",
              "      <td>1.543136e+09</td>\n",
              "      <td>28.950000</td>\n",
              "      <td>1.543187e+09</td>\n",
              "      <td>0.000000</td>\n",
              "      <td>1.000000</td>\n",
              "      <td>11.000000</td>\n",
              "      <td>1.543151e+09</td>\n",
              "      <td>1.543154e+09</td>\n",
              "      <td>1.543234e+09</td>\n",
              "    </tr>\n",
              "    <tr>\n",
              "      <th>25%</th>\n",
              "      <td>1.543444e+09</td>\n",
              "      <td>9.000000</td>\n",
              "      <td>1.280000</td>\n",
              "      <td>1.000000</td>\n",
              "      <td>42.350300</td>\n",
              "      <td>-71.081000</td>\n",
              "      <td>36.450000</td>\n",
              "      <td>31.910000</td>\n",
              "      <td>0.000000</td>\n",
              "      <td>0.000000</td>\n",
              "      <td>0.640000</td>\n",
              "      <td>3.410000</td>\n",
              "      <td>4.060000</td>\n",
              "      <td>8.432000</td>\n",
              "      <td>42.570000</td>\n",
              "      <td>30.170000</td>\n",
              "      <td>36.570000</td>\n",
              "      <td>1.543439e+09</td>\n",
              "      <td>27.700000</td>\n",
              "      <td>1.543478e+09</td>\n",
              "      <td>27.490000</td>\n",
              "      <td>999.820000</td>\n",
              "      <td>124.000000</td>\n",
              "      <td>0.370000</td>\n",
              "      <td>0.000000</td>\n",
              "      <td>8.432000</td>\n",
              "      <td>290.900000</td>\n",
              "      <td>1.543406e+09</td>\n",
              "      <td>1.543440e+09</td>\n",
              "      <td>0.300000</td>\n",
              "      <td>0.000000</td>\n",
              "      <td>1.543421e+09</td>\n",
              "      <td>30.170000</td>\n",
              "      <td>1.543399e+09</td>\n",
              "      <td>42.570000</td>\n",
              "      <td>1.543439e+09</td>\n",
              "      <td>27.760000</td>\n",
              "      <td>1.543399e+09</td>\n",
              "      <td>36.570000</td>\n",
              "      <td>1.543439e+09</td>\n",
              "      <td>6.000000</td>\n",
              "      <td>13.000000</td>\n",
              "      <td>11.000000</td>\n",
              "      <td>1.543432e+09</td>\n",
              "      <td>1.543439e+09</td>\n",
              "      <td>1.543489e+09</td>\n",
              "    </tr>\n",
              "    <tr>\n",
              "      <th>50%</th>\n",
              "      <td>1.543736e+09</td>\n",
              "      <td>13.500000</td>\n",
              "      <td>2.160000</td>\n",
              "      <td>1.000000</td>\n",
              "      <td>42.351900</td>\n",
              "      <td>-71.063100</td>\n",
              "      <td>40.490000</td>\n",
              "      <td>35.900000</td>\n",
              "      <td>0.000000</td>\n",
              "      <td>0.000000</td>\n",
              "      <td>0.710000</td>\n",
              "      <td>5.910000</td>\n",
              "      <td>7.550000</td>\n",
              "      <td>9.880000</td>\n",
              "      <td>44.660000</td>\n",
              "      <td>34.180000</td>\n",
              "      <td>40.950000</td>\n",
              "      <td>1.543788e+09</td>\n",
              "      <td>30.030000</td>\n",
              "      <td>1.543817e+09</td>\n",
              "      <td>30.690000</td>\n",
              "      <td>1009.250000</td>\n",
              "      <td>258.000000</td>\n",
              "      <td>0.820000</td>\n",
              "      <td>0.000000</td>\n",
              "      <td>9.880000</td>\n",
              "      <td>307.400000</td>\n",
              "      <td>1.543752e+09</td>\n",
              "      <td>1.543785e+09</td>\n",
              "      <td>0.680000</td>\n",
              "      <td>0.000400</td>\n",
              "      <td>1.543770e+09</td>\n",
              "      <td>34.220000</td>\n",
              "      <td>1.543727e+09</td>\n",
              "      <td>44.660000</td>\n",
              "      <td>1.543788e+09</td>\n",
              "      <td>30.130000</td>\n",
              "      <td>1.543745e+09</td>\n",
              "      <td>40.950000</td>\n",
              "      <td>1.543788e+09</td>\n",
              "      <td>12.000000</td>\n",
              "      <td>17.000000</td>\n",
              "      <td>12.000000</td>\n",
              "      <td>1.543756e+09</td>\n",
              "      <td>1.543788e+09</td>\n",
              "      <td>1.543817e+09</td>\n",
              "    </tr>\n",
              "    <tr>\n",
              "      <th>75%</th>\n",
              "      <td>1.544827e+09</td>\n",
              "      <td>22.500000</td>\n",
              "      <td>2.930000</td>\n",
              "      <td>1.000000</td>\n",
              "      <td>42.364700</td>\n",
              "      <td>-71.054200</td>\n",
              "      <td>43.580000</td>\n",
              "      <td>40.010000</td>\n",
              "      <td>0.000000</td>\n",
              "      <td>0.000000</td>\n",
              "      <td>0.880000</td>\n",
              "      <td>8.410000</td>\n",
              "      <td>11.740000</td>\n",
              "      <td>9.996000</td>\n",
              "      <td>46.910000</td>\n",
              "      <td>38.730000</td>\n",
              "      <td>44.090000</td>\n",
              "      <td>1.544818e+09</td>\n",
              "      <td>35.320000</td>\n",
              "      <td>1.544836e+09</td>\n",
              "      <td>38.120000</td>\n",
              "      <td>1021.860000</td>\n",
              "      <td>303.000000</td>\n",
              "      <td>1.000000</td>\n",
              "      <td>0.000000</td>\n",
              "      <td>9.996000</td>\n",
              "      <td>331.800000</td>\n",
              "      <td>1.544789e+09</td>\n",
              "      <td>1.544822e+09</td>\n",
              "      <td>0.790000</td>\n",
              "      <td>0.091600</td>\n",
              "      <td>1.544807e+09</td>\n",
              "      <td>38.880000</td>\n",
              "      <td>1.544789e+09</td>\n",
              "      <td>46.910000</td>\n",
              "      <td>1.544814e+09</td>\n",
              "      <td>35.330000</td>\n",
              "      <td>1.544789e+09</td>\n",
              "      <td>44.090000</td>\n",
              "      <td>1.544818e+09</td>\n",
              "      <td>18.000000</td>\n",
              "      <td>28.000000</td>\n",
              "      <td>12.000000</td>\n",
              "      <td>1.544846e+09</td>\n",
              "      <td>1.544814e+09</td>\n",
              "      <td>1.544836e+09</td>\n",
              "    </tr>\n",
              "    <tr>\n",
              "      <th>max</th>\n",
              "      <td>1.545161e+09</td>\n",
              "      <td>92.000000</td>\n",
              "      <td>7.620000</td>\n",
              "      <td>3.000000</td>\n",
              "      <td>42.366100</td>\n",
              "      <td>-71.033000</td>\n",
              "      <td>57.220000</td>\n",
              "      <td>57.220000</td>\n",
              "      <td>0.144700</td>\n",
              "      <td>1.000000</td>\n",
              "      <td>0.960000</td>\n",
              "      <td>15.000000</td>\n",
              "      <td>27.250000</td>\n",
              "      <td>10.000000</td>\n",
              "      <td>57.870000</td>\n",
              "      <td>46.600000</td>\n",
              "      <td>57.200000</td>\n",
              "      <td>1.545160e+09</td>\n",
              "      <td>47.250000</td>\n",
              "      <td>1.545199e+09</td>\n",
              "      <td>50.670000</td>\n",
              "      <td>1035.550000</td>\n",
              "      <td>356.000000</td>\n",
              "      <td>1.000000</td>\n",
              "      <td>2.000000</td>\n",
              "      <td>10.000000</td>\n",
              "      <td>378.900000</td>\n",
              "      <td>1.545135e+09</td>\n",
              "      <td>1.545168e+09</td>\n",
              "      <td>0.930000</td>\n",
              "      <td>0.145900</td>\n",
              "      <td>1.545152e+09</td>\n",
              "      <td>43.100000</td>\n",
              "      <td>1.545192e+09</td>\n",
              "      <td>57.870000</td>\n",
              "      <td>1.545109e+09</td>\n",
              "      <td>40.050000</td>\n",
              "      <td>1.545134e+09</td>\n",
              "      <td>57.200000</td>\n",
              "      <td>1.545109e+09</td>\n",
              "      <td>23.000000</td>\n",
              "      <td>30.000000</td>\n",
              "      <td>12.000000</td>\n",
              "      <td>1.545127e+09</td>\n",
              "      <td>1.545160e+09</td>\n",
              "      <td>1.545221e+09</td>\n",
              "    </tr>\n",
              "  </tbody>\n",
              "</table>\n",
              "</div>\n",
              "      <button class=\"colab-df-convert\" onclick=\"convertToInteractive('df-947a2db8-442c-4e79-8054-7abc1083ca71')\"\n",
              "              title=\"Convert this dataframe to an interactive table.\"\n",
              "              style=\"display:none;\">\n",
              "        \n",
              "  <svg xmlns=\"http://www.w3.org/2000/svg\" height=\"24px\"viewBox=\"0 0 24 24\"\n",
              "       width=\"24px\">\n",
              "    <path d=\"M0 0h24v24H0V0z\" fill=\"none\"/>\n",
              "    <path d=\"M18.56 5.44l.94 2.06.94-2.06 2.06-.94-2.06-.94-.94-2.06-.94 2.06-2.06.94zm-11 1L8.5 8.5l.94-2.06 2.06-.94-2.06-.94L8.5 2.5l-.94 2.06-2.06.94zm10 10l.94 2.06.94-2.06 2.06-.94-2.06-.94-.94-2.06-.94 2.06-2.06.94z\"/><path d=\"M17.41 7.96l-1.37-1.37c-.4-.4-.92-.59-1.43-.59-.52 0-1.04.2-1.43.59L10.3 9.45l-7.72 7.72c-.78.78-.78 2.05 0 2.83L4 21.41c.39.39.9.59 1.41.59.51 0 1.02-.2 1.41-.59l7.78-7.78 2.81-2.81c.8-.78.8-2.07 0-2.86zM5.41 20L4 18.59l7.72-7.72 1.47 1.35L5.41 20z\"/>\n",
              "  </svg>\n",
              "      </button>\n",
              "      \n",
              "  <style>\n",
              "    .colab-df-container {\n",
              "      display:flex;\n",
              "      flex-wrap:wrap;\n",
              "      gap: 12px;\n",
              "    }\n",
              "\n",
              "    .colab-df-convert {\n",
              "      background-color: #E8F0FE;\n",
              "      border: none;\n",
              "      border-radius: 50%;\n",
              "      cursor: pointer;\n",
              "      display: none;\n",
              "      fill: #1967D2;\n",
              "      height: 32px;\n",
              "      padding: 0 0 0 0;\n",
              "      width: 32px;\n",
              "    }\n",
              "\n",
              "    .colab-df-convert:hover {\n",
              "      background-color: #E2EBFA;\n",
              "      box-shadow: 0px 1px 2px rgba(60, 64, 67, 0.3), 0px 1px 3px 1px rgba(60, 64, 67, 0.15);\n",
              "      fill: #174EA6;\n",
              "    }\n",
              "\n",
              "    [theme=dark] .colab-df-convert {\n",
              "      background-color: #3B4455;\n",
              "      fill: #D2E3FC;\n",
              "    }\n",
              "\n",
              "    [theme=dark] .colab-df-convert:hover {\n",
              "      background-color: #434B5C;\n",
              "      box-shadow: 0px 1px 3px 1px rgba(0, 0, 0, 0.15);\n",
              "      filter: drop-shadow(0px 1px 2px rgba(0, 0, 0, 0.3));\n",
              "      fill: #FFFFFF;\n",
              "    }\n",
              "  </style>\n",
              "\n",
              "      <script>\n",
              "        const buttonEl =\n",
              "          document.querySelector('#df-947a2db8-442c-4e79-8054-7abc1083ca71 button.colab-df-convert');\n",
              "        buttonEl.style.display =\n",
              "          google.colab.kernel.accessAllowed ? 'block' : 'none';\n",
              "\n",
              "        async function convertToInteractive(key) {\n",
              "          const element = document.querySelector('#df-947a2db8-442c-4e79-8054-7abc1083ca71');\n",
              "          const dataTable =\n",
              "            await google.colab.kernel.invokeFunction('convertToInteractive',\n",
              "                                                     [key], {});\n",
              "          if (!dataTable) return;\n",
              "\n",
              "          const docLinkHtml = 'Like what you see? Visit the ' +\n",
              "            '<a target=\"_blank\" href=https://colab.research.google.com/notebooks/data_table.ipynb>data table notebook</a>'\n",
              "            + ' to learn more about interactive tables.';\n",
              "          element.innerHTML = '';\n",
              "          dataTable['output_type'] = 'display_data';\n",
              "          await google.colab.output.renderOutput(dataTable, element);\n",
              "          const docLink = document.createElement('div');\n",
              "          docLink.innerHTML = docLinkHtml;\n",
              "          element.appendChild(docLink);\n",
              "        }\n",
              "      </script>\n",
              "    </div>\n",
              "  </div>\n",
              "  "
            ]
          },
          "metadata": {},
          "execution_count": 8
        }
      ],
      "source": [
        "ride_share_data[numerical].describe()"
      ]
    },
    {
      "cell_type": "markdown",
      "metadata": {
        "id": "sX9_p0Q7nO9l"
      },
      "source": [
        "## Grouping data berdasarkan cab_type(uber/lyft)"
      ]
    },
    {
      "cell_type": "code",
      "execution_count": null,
      "metadata": {
        "colab": {
          "base_uri": "https://localhost:8080/",
          "height": 207
        },
        "id": "Y2GJRMIUmnk3",
        "outputId": "fd6d9f46-9a4d-4925-d89b-dd38ed7a34cf"
      },
      "outputs": [
        {
          "output_type": "execute_result",
          "data": {
            "text/plain": [
              "              id  timestamp    hour     day   month  datetime  timezone  \\\n",
              "cab_type                                                                  \n",
              "Lyft      264875     264875  264875  264875  264875    264875    264875   \n",
              "Uber      330579     330579  330579  330579  330579    330579    330579   \n",
              "\n",
              "          source  destination  product_id    name   price  distance  \\\n",
              "cab_type                                                              \n",
              "Lyft      264875       264875      264875  264875  264875    264875   \n",
              "Uber      330579       330579      330579  330579  283314    330579   \n",
              "\n",
              "          surge_multiplier  latitude  longitude  temperature  \\\n",
              "cab_type                                                       \n",
              "Lyft                264875    264875     264875       264875   \n",
              "Uber                330579    330579     330579       330579   \n",
              "\n",
              "          apparentTemperature  short_summary  long_summary  precipIntensity  \\\n",
              "cab_type                                                                      \n",
              "Lyft                   264875         264875        264875           264875   \n",
              "Uber                   330579         330579        330579           330579   \n",
              "\n",
              "          precipProbability  humidity  windSpeed  windGust  windGustTime  \\\n",
              "cab_type                                                                   \n",
              "Lyft                 264875    264875     264875    264875        264875   \n",
              "Uber                 330579    330579     330579    330579        330579   \n",
              "\n",
              "          visibility  temperatureHigh  temperatureHighTime  temperatureLow  \\\n",
              "cab_type                                                                     \n",
              "Lyft          264875           264875               264875          264875   \n",
              "Uber          330579           330579               330579          330579   \n",
              "\n",
              "          temperatureLowTime  apparentTemperatureHigh  \\\n",
              "cab_type                                                \n",
              "Lyft                  264875                   264874   \n",
              "Uber                  330579                   330579   \n",
              "\n",
              "          apparentTemperatureHighTime  apparentTemperatureLow  \\\n",
              "cab_type                                                        \n",
              "Lyft                           264874                  264874   \n",
              "Uber                           330579                  330579   \n",
              "\n",
              "          apparentTemperatureLowTime    icon  dewPoint  pressure  windBearing  \\\n",
              "cab_type                                                                        \n",
              "Lyft                          264874  264874    264874    264874       264874   \n",
              "Uber                          330579  330579    330579    330579       330579   \n",
              "\n",
              "          cloudCover  uvIndex  visibility.1   ozone  sunriseTime  sunsetTime  \\\n",
              "cab_type                                                                       \n",
              "Lyft          264874   264874        264874  264874       264874      264874   \n",
              "Uber          330579   330579        330579  330579       330579      330579   \n",
              "\n",
              "          moonPhase  precipIntensityMax  uvIndexTime  temperatureMin  \\\n",
              "cab_type                                                               \n",
              "Lyft         264874              264874       264874          264874   \n",
              "Uber         330579              330579       330579          330579   \n",
              "\n",
              "          temperatureMinTime  temperatureMax  temperatureMaxTime  \\\n",
              "cab_type                                                           \n",
              "Lyft                  264874          264874              264874   \n",
              "Uber                  330579          330579              330579   \n",
              "\n",
              "          apparentTemperatureMin  apparentTemperatureMinTime  \\\n",
              "cab_type                                                       \n",
              "Lyft                      264874                      264874   \n",
              "Uber                      330579                      330579   \n",
              "\n",
              "          apparentTemperatureMax  apparentTemperatureMaxTime  \n",
              "cab_type                                                      \n",
              "Lyft                      264874                      264874  \n",
              "Uber                      330579                      330579  "
            ],
            "text/html": [
              "\n",
              "  <div id=\"df-98808a5a-b486-41b6-b6ff-acf9c6d68d3f\">\n",
              "    <div class=\"colab-df-container\">\n",
              "      <div>\n",
              "<style scoped>\n",
              "    .dataframe tbody tr th:only-of-type {\n",
              "        vertical-align: middle;\n",
              "    }\n",
              "\n",
              "    .dataframe tbody tr th {\n",
              "        vertical-align: top;\n",
              "    }\n",
              "\n",
              "    .dataframe thead th {\n",
              "        text-align: right;\n",
              "    }\n",
              "</style>\n",
              "<table border=\"1\" class=\"dataframe\">\n",
              "  <thead>\n",
              "    <tr style=\"text-align: right;\">\n",
              "      <th></th>\n",
              "      <th>id</th>\n",
              "      <th>timestamp</th>\n",
              "      <th>hour</th>\n",
              "      <th>day</th>\n",
              "      <th>month</th>\n",
              "      <th>datetime</th>\n",
              "      <th>timezone</th>\n",
              "      <th>source</th>\n",
              "      <th>destination</th>\n",
              "      <th>product_id</th>\n",
              "      <th>name</th>\n",
              "      <th>price</th>\n",
              "      <th>distance</th>\n",
              "      <th>surge_multiplier</th>\n",
              "      <th>latitude</th>\n",
              "      <th>longitude</th>\n",
              "      <th>temperature</th>\n",
              "      <th>apparentTemperature</th>\n",
              "      <th>short_summary</th>\n",
              "      <th>long_summary</th>\n",
              "      <th>precipIntensity</th>\n",
              "      <th>precipProbability</th>\n",
              "      <th>humidity</th>\n",
              "      <th>windSpeed</th>\n",
              "      <th>windGust</th>\n",
              "      <th>windGustTime</th>\n",
              "      <th>visibility</th>\n",
              "      <th>temperatureHigh</th>\n",
              "      <th>temperatureHighTime</th>\n",
              "      <th>temperatureLow</th>\n",
              "      <th>temperatureLowTime</th>\n",
              "      <th>apparentTemperatureHigh</th>\n",
              "      <th>apparentTemperatureHighTime</th>\n",
              "      <th>apparentTemperatureLow</th>\n",
              "      <th>apparentTemperatureLowTime</th>\n",
              "      <th>icon</th>\n",
              "      <th>dewPoint</th>\n",
              "      <th>pressure</th>\n",
              "      <th>windBearing</th>\n",
              "      <th>cloudCover</th>\n",
              "      <th>uvIndex</th>\n",
              "      <th>visibility.1</th>\n",
              "      <th>ozone</th>\n",
              "      <th>sunriseTime</th>\n",
              "      <th>sunsetTime</th>\n",
              "      <th>moonPhase</th>\n",
              "      <th>precipIntensityMax</th>\n",
              "      <th>uvIndexTime</th>\n",
              "      <th>temperatureMin</th>\n",
              "      <th>temperatureMinTime</th>\n",
              "      <th>temperatureMax</th>\n",
              "      <th>temperatureMaxTime</th>\n",
              "      <th>apparentTemperatureMin</th>\n",
              "      <th>apparentTemperatureMinTime</th>\n",
              "      <th>apparentTemperatureMax</th>\n",
              "      <th>apparentTemperatureMaxTime</th>\n",
              "    </tr>\n",
              "    <tr>\n",
              "      <th>cab_type</th>\n",
              "      <th></th>\n",
              "      <th></th>\n",
              "      <th></th>\n",
              "      <th></th>\n",
              "      <th></th>\n",
              "      <th></th>\n",
              "      <th></th>\n",
              "      <th></th>\n",
              "      <th></th>\n",
              "      <th></th>\n",
              "      <th></th>\n",
              "      <th></th>\n",
              "      <th></th>\n",
              "      <th></th>\n",
              "      <th></th>\n",
              "      <th></th>\n",
              "      <th></th>\n",
              "      <th></th>\n",
              "      <th></th>\n",
              "      <th></th>\n",
              "      <th></th>\n",
              "      <th></th>\n",
              "      <th></th>\n",
              "      <th></th>\n",
              "      <th></th>\n",
              "      <th></th>\n",
              "      <th></th>\n",
              "      <th></th>\n",
              "      <th></th>\n",
              "      <th></th>\n",
              "      <th></th>\n",
              "      <th></th>\n",
              "      <th></th>\n",
              "      <th></th>\n",
              "      <th></th>\n",
              "      <th></th>\n",
              "      <th></th>\n",
              "      <th></th>\n",
              "      <th></th>\n",
              "      <th></th>\n",
              "      <th></th>\n",
              "      <th></th>\n",
              "      <th></th>\n",
              "      <th></th>\n",
              "      <th></th>\n",
              "      <th></th>\n",
              "      <th></th>\n",
              "      <th></th>\n",
              "      <th></th>\n",
              "      <th></th>\n",
              "      <th></th>\n",
              "      <th></th>\n",
              "      <th></th>\n",
              "      <th></th>\n",
              "      <th></th>\n",
              "      <th></th>\n",
              "    </tr>\n",
              "  </thead>\n",
              "  <tbody>\n",
              "    <tr>\n",
              "      <th>Lyft</th>\n",
              "      <td>264875</td>\n",
              "      <td>264875</td>\n",
              "      <td>264875</td>\n",
              "      <td>264875</td>\n",
              "      <td>264875</td>\n",
              "      <td>264875</td>\n",
              "      <td>264875</td>\n",
              "      <td>264875</td>\n",
              "      <td>264875</td>\n",
              "      <td>264875</td>\n",
              "      <td>264875</td>\n",
              "      <td>264875</td>\n",
              "      <td>264875</td>\n",
              "      <td>264875</td>\n",
              "      <td>264875</td>\n",
              "      <td>264875</td>\n",
              "      <td>264875</td>\n",
              "      <td>264875</td>\n",
              "      <td>264875</td>\n",
              "      <td>264875</td>\n",
              "      <td>264875</td>\n",
              "      <td>264875</td>\n",
              "      <td>264875</td>\n",
              "      <td>264875</td>\n",
              "      <td>264875</td>\n",
              "      <td>264875</td>\n",
              "      <td>264875</td>\n",
              "      <td>264875</td>\n",
              "      <td>264875</td>\n",
              "      <td>264875</td>\n",
              "      <td>264875</td>\n",
              "      <td>264874</td>\n",
              "      <td>264874</td>\n",
              "      <td>264874</td>\n",
              "      <td>264874</td>\n",
              "      <td>264874</td>\n",
              "      <td>264874</td>\n",
              "      <td>264874</td>\n",
              "      <td>264874</td>\n",
              "      <td>264874</td>\n",
              "      <td>264874</td>\n",
              "      <td>264874</td>\n",
              "      <td>264874</td>\n",
              "      <td>264874</td>\n",
              "      <td>264874</td>\n",
              "      <td>264874</td>\n",
              "      <td>264874</td>\n",
              "      <td>264874</td>\n",
              "      <td>264874</td>\n",
              "      <td>264874</td>\n",
              "      <td>264874</td>\n",
              "      <td>264874</td>\n",
              "      <td>264874</td>\n",
              "      <td>264874</td>\n",
              "      <td>264874</td>\n",
              "      <td>264874</td>\n",
              "    </tr>\n",
              "    <tr>\n",
              "      <th>Uber</th>\n",
              "      <td>330579</td>\n",
              "      <td>330579</td>\n",
              "      <td>330579</td>\n",
              "      <td>330579</td>\n",
              "      <td>330579</td>\n",
              "      <td>330579</td>\n",
              "      <td>330579</td>\n",
              "      <td>330579</td>\n",
              "      <td>330579</td>\n",
              "      <td>330579</td>\n",
              "      <td>330579</td>\n",
              "      <td>283314</td>\n",
              "      <td>330579</td>\n",
              "      <td>330579</td>\n",
              "      <td>330579</td>\n",
              "      <td>330579</td>\n",
              "      <td>330579</td>\n",
              "      <td>330579</td>\n",
              "      <td>330579</td>\n",
              "      <td>330579</td>\n",
              "      <td>330579</td>\n",
              "      <td>330579</td>\n",
              "      <td>330579</td>\n",
              "      <td>330579</td>\n",
              "      <td>330579</td>\n",
              "      <td>330579</td>\n",
              "      <td>330579</td>\n",
              "      <td>330579</td>\n",
              "      <td>330579</td>\n",
              "      <td>330579</td>\n",
              "      <td>330579</td>\n",
              "      <td>330579</td>\n",
              "      <td>330579</td>\n",
              "      <td>330579</td>\n",
              "      <td>330579</td>\n",
              "      <td>330579</td>\n",
              "      <td>330579</td>\n",
              "      <td>330579</td>\n",
              "      <td>330579</td>\n",
              "      <td>330579</td>\n",
              "      <td>330579</td>\n",
              "      <td>330579</td>\n",
              "      <td>330579</td>\n",
              "      <td>330579</td>\n",
              "      <td>330579</td>\n",
              "      <td>330579</td>\n",
              "      <td>330579</td>\n",
              "      <td>330579</td>\n",
              "      <td>330579</td>\n",
              "      <td>330579</td>\n",
              "      <td>330579</td>\n",
              "      <td>330579</td>\n",
              "      <td>330579</td>\n",
              "      <td>330579</td>\n",
              "      <td>330579</td>\n",
              "      <td>330579</td>\n",
              "    </tr>\n",
              "  </tbody>\n",
              "</table>\n",
              "</div>\n",
              "      <button class=\"colab-df-convert\" onclick=\"convertToInteractive('df-98808a5a-b486-41b6-b6ff-acf9c6d68d3f')\"\n",
              "              title=\"Convert this dataframe to an interactive table.\"\n",
              "              style=\"display:none;\">\n",
              "        \n",
              "  <svg xmlns=\"http://www.w3.org/2000/svg\" height=\"24px\"viewBox=\"0 0 24 24\"\n",
              "       width=\"24px\">\n",
              "    <path d=\"M0 0h24v24H0V0z\" fill=\"none\"/>\n",
              "    <path d=\"M18.56 5.44l.94 2.06.94-2.06 2.06-.94-2.06-.94-.94-2.06-.94 2.06-2.06.94zm-11 1L8.5 8.5l.94-2.06 2.06-.94-2.06-.94L8.5 2.5l-.94 2.06-2.06.94zm10 10l.94 2.06.94-2.06 2.06-.94-2.06-.94-.94-2.06-.94 2.06-2.06.94z\"/><path d=\"M17.41 7.96l-1.37-1.37c-.4-.4-.92-.59-1.43-.59-.52 0-1.04.2-1.43.59L10.3 9.45l-7.72 7.72c-.78.78-.78 2.05 0 2.83L4 21.41c.39.39.9.59 1.41.59.51 0 1.02-.2 1.41-.59l7.78-7.78 2.81-2.81c.8-.78.8-2.07 0-2.86zM5.41 20L4 18.59l7.72-7.72 1.47 1.35L5.41 20z\"/>\n",
              "  </svg>\n",
              "      </button>\n",
              "      \n",
              "  <style>\n",
              "    .colab-df-container {\n",
              "      display:flex;\n",
              "      flex-wrap:wrap;\n",
              "      gap: 12px;\n",
              "    }\n",
              "\n",
              "    .colab-df-convert {\n",
              "      background-color: #E8F0FE;\n",
              "      border: none;\n",
              "      border-radius: 50%;\n",
              "      cursor: pointer;\n",
              "      display: none;\n",
              "      fill: #1967D2;\n",
              "      height: 32px;\n",
              "      padding: 0 0 0 0;\n",
              "      width: 32px;\n",
              "    }\n",
              "\n",
              "    .colab-df-convert:hover {\n",
              "      background-color: #E2EBFA;\n",
              "      box-shadow: 0px 1px 2px rgba(60, 64, 67, 0.3), 0px 1px 3px 1px rgba(60, 64, 67, 0.15);\n",
              "      fill: #174EA6;\n",
              "    }\n",
              "\n",
              "    [theme=dark] .colab-df-convert {\n",
              "      background-color: #3B4455;\n",
              "      fill: #D2E3FC;\n",
              "    }\n",
              "\n",
              "    [theme=dark] .colab-df-convert:hover {\n",
              "      background-color: #434B5C;\n",
              "      box-shadow: 0px 1px 3px 1px rgba(0, 0, 0, 0.15);\n",
              "      filter: drop-shadow(0px 1px 2px rgba(0, 0, 0, 0.3));\n",
              "      fill: #FFFFFF;\n",
              "    }\n",
              "  </style>\n",
              "\n",
              "      <script>\n",
              "        const buttonEl =\n",
              "          document.querySelector('#df-98808a5a-b486-41b6-b6ff-acf9c6d68d3f button.colab-df-convert');\n",
              "        buttonEl.style.display =\n",
              "          google.colab.kernel.accessAllowed ? 'block' : 'none';\n",
              "\n",
              "        async function convertToInteractive(key) {\n",
              "          const element = document.querySelector('#df-98808a5a-b486-41b6-b6ff-acf9c6d68d3f');\n",
              "          const dataTable =\n",
              "            await google.colab.kernel.invokeFunction('convertToInteractive',\n",
              "                                                     [key], {});\n",
              "          if (!dataTable) return;\n",
              "\n",
              "          const docLinkHtml = 'Like what you see? Visit the ' +\n",
              "            '<a target=\"_blank\" href=https://colab.research.google.com/notebooks/data_table.ipynb>data table notebook</a>'\n",
              "            + ' to learn more about interactive tables.';\n",
              "          element.innerHTML = '';\n",
              "          dataTable['output_type'] = 'display_data';\n",
              "          await google.colab.output.renderOutput(dataTable, element);\n",
              "          const docLink = document.createElement('div');\n",
              "          docLink.innerHTML = docLinkHtml;\n",
              "          element.appendChild(docLink);\n",
              "        }\n",
              "      </script>\n",
              "    </div>\n",
              "  </div>\n",
              "  "
            ]
          },
          "metadata": {},
          "execution_count": 9
        }
      ],
      "source": [
        "ride_share_data.groupby('cab_type').count()"
      ]
    },
    {
      "cell_type": "markdown",
      "metadata": {
        "id": "4O_PWLzhYTyX"
      },
      "source": [
        "# D. Data Cleaning "
      ]
    },
    {
      "cell_type": "markdown",
      "metadata": {
        "id": "6uHaFsozp3rH"
      },
      "source": [
        "## Mengecek Terlebih dahulu missing values\n"
      ]
    },
    {
      "cell_type": "code",
      "execution_count": null,
      "metadata": {
        "colab": {
          "base_uri": "https://localhost:8080/",
          "height": 513
        },
        "id": "cxfD-ZWhp163",
        "outputId": "b2a23f02-58ae-4155-ad7a-6ea2c65bd83b"
      },
      "outputs": [
        {
          "output_type": "execute_result",
          "data": {
            "text/plain": [
              "                                          id     timestamp  hour  day  month  \\\n",
              "276564  90e22612-d1c7-47c2-af54-2a2240109889  1.543204e+09     3   26     11   \n",
              "325884  10108e81-fe92-4620-9e83-b7dd543a2ca8  1.543204e+09     3   26     11   \n",
              "276566  cec0651f-2280-48ac-86bf-cb0152cada9e  1.543204e+09     3   26     11   \n",
              "325885  52d51d09-725b-4f57-b866-382c152cdb92  1.543204e+09     3   26     11   \n",
              "261363  f3f35cea-9a3f-4534-930d-da42e7610f77  1.543204e+09     3   26     11   \n",
              "\n",
              "                   datetime       source        destination cab_type  \\\n",
              "276564  2018-11-26 03:40:46  Beacon Hill          North End     Uber   \n",
              "325884  2018-11-26 03:40:46       Fenway   Theatre District     Lyft   \n",
              "276566  2018-11-26 03:40:46  Beacon Hill          North End     Uber   \n",
              "325885  2018-11-26 03:40:46       Fenway   Theatre District     Lyft   \n",
              "261363  2018-11-26 03:40:46  Beacon Hill  Boston University     Lyft   \n",
              "\n",
              "                                  product_id     name  price  distance  \\\n",
              "276564  6c84fd89-3f11-4782-9b50-97c468b19529    Black   17.5      2.19   \n",
              "325884                             lyft_plus  Lyft XL   16.5      2.96   \n",
              "276566  6f72dfc5-27f1-42e8-84db-ccc7a75f6969   UberXL   13.0      2.19   \n",
              "325885                                  lyft     Lyft   11.0      2.96   \n",
              "261363                          lyft_premier      Lux   16.5      2.30   \n",
              "\n",
              "        surge_multiplier  temperature short_summary  \\\n",
              "276564               1.0        41.83        Foggy    \n",
              "325884               1.0        41.83        Foggy    \n",
              "276566               1.0        41.83        Foggy    \n",
              "325885               1.0        41.83        Foggy    \n",
              "261363               1.0        41.83        Foggy    \n",
              "\n",
              "                                long_summary   icon  visibility  \\\n",
              "276564   Rain in the morning and afternoon.    fog        1.685   \n",
              "325884   Rain in the morning and afternoon.    fog        1.685   \n",
              "276566   Rain in the morning and afternoon.    fog        1.685   \n",
              "325885   Rain in the morning and afternoon.    fog        1.685   \n",
              "261363   Rain in the morning and afternoon.    fog        1.685   \n",
              "\n",
              "        temperatureHigh  temperatureLow  apparentTemperatureHigh  \\\n",
              "276564            46.15           40.15                    43.17   \n",
              "325884            46.15           40.15                    43.17   \n",
              "276566            46.15           40.15                    43.17   \n",
              "325885            46.15           40.15                    43.17   \n",
              "261363            46.15           40.15                    43.17   \n",
              "\n",
              "        apparentTemperatureLow  latitude  longitude  \n",
              "276564                   39.21   42.3429   -71.1003  \n",
              "325884                   39.21   42.3429   -71.1003  \n",
              "276566                   39.21   42.3429   -71.1003  \n",
              "325885                   39.21   42.3429   -71.1003  \n",
              "261363                   39.21   42.3429   -71.1003  "
            ],
            "text/html": [
              "\n",
              "  <div id=\"df-cbaf31f7-4549-4c33-8782-091d87e1bd72\">\n",
              "    <div class=\"colab-df-container\">\n",
              "      <div>\n",
              "<style scoped>\n",
              "    .dataframe tbody tr th:only-of-type {\n",
              "        vertical-align: middle;\n",
              "    }\n",
              "\n",
              "    .dataframe tbody tr th {\n",
              "        vertical-align: top;\n",
              "    }\n",
              "\n",
              "    .dataframe thead th {\n",
              "        text-align: right;\n",
              "    }\n",
              "</style>\n",
              "<table border=\"1\" class=\"dataframe\">\n",
              "  <thead>\n",
              "    <tr style=\"text-align: right;\">\n",
              "      <th></th>\n",
              "      <th>id</th>\n",
              "      <th>timestamp</th>\n",
              "      <th>hour</th>\n",
              "      <th>day</th>\n",
              "      <th>month</th>\n",
              "      <th>datetime</th>\n",
              "      <th>source</th>\n",
              "      <th>destination</th>\n",
              "      <th>cab_type</th>\n",
              "      <th>product_id</th>\n",
              "      <th>name</th>\n",
              "      <th>price</th>\n",
              "      <th>distance</th>\n",
              "      <th>surge_multiplier</th>\n",
              "      <th>temperature</th>\n",
              "      <th>short_summary</th>\n",
              "      <th>long_summary</th>\n",
              "      <th>icon</th>\n",
              "      <th>visibility</th>\n",
              "      <th>temperatureHigh</th>\n",
              "      <th>temperatureLow</th>\n",
              "      <th>apparentTemperatureHigh</th>\n",
              "      <th>apparentTemperatureLow</th>\n",
              "      <th>latitude</th>\n",
              "      <th>longitude</th>\n",
              "    </tr>\n",
              "  </thead>\n",
              "  <tbody>\n",
              "    <tr>\n",
              "      <th>276564</th>\n",
              "      <td>90e22612-d1c7-47c2-af54-2a2240109889</td>\n",
              "      <td>1.543204e+09</td>\n",
              "      <td>3</td>\n",
              "      <td>26</td>\n",
              "      <td>11</td>\n",
              "      <td>2018-11-26 03:40:46</td>\n",
              "      <td>Beacon Hill</td>\n",
              "      <td>North End</td>\n",
              "      <td>Uber</td>\n",
              "      <td>6c84fd89-3f11-4782-9b50-97c468b19529</td>\n",
              "      <td>Black</td>\n",
              "      <td>17.5</td>\n",
              "      <td>2.19</td>\n",
              "      <td>1.0</td>\n",
              "      <td>41.83</td>\n",
              "      <td>Foggy</td>\n",
              "      <td>Rain in the morning and afternoon.</td>\n",
              "      <td>fog</td>\n",
              "      <td>1.685</td>\n",
              "      <td>46.15</td>\n",
              "      <td>40.15</td>\n",
              "      <td>43.17</td>\n",
              "      <td>39.21</td>\n",
              "      <td>42.3429</td>\n",
              "      <td>-71.1003</td>\n",
              "    </tr>\n",
              "    <tr>\n",
              "      <th>325884</th>\n",
              "      <td>10108e81-fe92-4620-9e83-b7dd543a2ca8</td>\n",
              "      <td>1.543204e+09</td>\n",
              "      <td>3</td>\n",
              "      <td>26</td>\n",
              "      <td>11</td>\n",
              "      <td>2018-11-26 03:40:46</td>\n",
              "      <td>Fenway</td>\n",
              "      <td>Theatre District</td>\n",
              "      <td>Lyft</td>\n",
              "      <td>lyft_plus</td>\n",
              "      <td>Lyft XL</td>\n",
              "      <td>16.5</td>\n",
              "      <td>2.96</td>\n",
              "      <td>1.0</td>\n",
              "      <td>41.83</td>\n",
              "      <td>Foggy</td>\n",
              "      <td>Rain in the morning and afternoon.</td>\n",
              "      <td>fog</td>\n",
              "      <td>1.685</td>\n",
              "      <td>46.15</td>\n",
              "      <td>40.15</td>\n",
              "      <td>43.17</td>\n",
              "      <td>39.21</td>\n",
              "      <td>42.3429</td>\n",
              "      <td>-71.1003</td>\n",
              "    </tr>\n",
              "    <tr>\n",
              "      <th>276566</th>\n",
              "      <td>cec0651f-2280-48ac-86bf-cb0152cada9e</td>\n",
              "      <td>1.543204e+09</td>\n",
              "      <td>3</td>\n",
              "      <td>26</td>\n",
              "      <td>11</td>\n",
              "      <td>2018-11-26 03:40:46</td>\n",
              "      <td>Beacon Hill</td>\n",
              "      <td>North End</td>\n",
              "      <td>Uber</td>\n",
              "      <td>6f72dfc5-27f1-42e8-84db-ccc7a75f6969</td>\n",
              "      <td>UberXL</td>\n",
              "      <td>13.0</td>\n",
              "      <td>2.19</td>\n",
              "      <td>1.0</td>\n",
              "      <td>41.83</td>\n",
              "      <td>Foggy</td>\n",
              "      <td>Rain in the morning and afternoon.</td>\n",
              "      <td>fog</td>\n",
              "      <td>1.685</td>\n",
              "      <td>46.15</td>\n",
              "      <td>40.15</td>\n",
              "      <td>43.17</td>\n",
              "      <td>39.21</td>\n",
              "      <td>42.3429</td>\n",
              "      <td>-71.1003</td>\n",
              "    </tr>\n",
              "    <tr>\n",
              "      <th>325885</th>\n",
              "      <td>52d51d09-725b-4f57-b866-382c152cdb92</td>\n",
              "      <td>1.543204e+09</td>\n",
              "      <td>3</td>\n",
              "      <td>26</td>\n",
              "      <td>11</td>\n",
              "      <td>2018-11-26 03:40:46</td>\n",
              "      <td>Fenway</td>\n",
              "      <td>Theatre District</td>\n",
              "      <td>Lyft</td>\n",
              "      <td>lyft</td>\n",
              "      <td>Lyft</td>\n",
              "      <td>11.0</td>\n",
              "      <td>2.96</td>\n",
              "      <td>1.0</td>\n",
              "      <td>41.83</td>\n",
              "      <td>Foggy</td>\n",
              "      <td>Rain in the morning and afternoon.</td>\n",
              "      <td>fog</td>\n",
              "      <td>1.685</td>\n",
              "      <td>46.15</td>\n",
              "      <td>40.15</td>\n",
              "      <td>43.17</td>\n",
              "      <td>39.21</td>\n",
              "      <td>42.3429</td>\n",
              "      <td>-71.1003</td>\n",
              "    </tr>\n",
              "    <tr>\n",
              "      <th>261363</th>\n",
              "      <td>f3f35cea-9a3f-4534-930d-da42e7610f77</td>\n",
              "      <td>1.543204e+09</td>\n",
              "      <td>3</td>\n",
              "      <td>26</td>\n",
              "      <td>11</td>\n",
              "      <td>2018-11-26 03:40:46</td>\n",
              "      <td>Beacon Hill</td>\n",
              "      <td>Boston University</td>\n",
              "      <td>Lyft</td>\n",
              "      <td>lyft_premier</td>\n",
              "      <td>Lux</td>\n",
              "      <td>16.5</td>\n",
              "      <td>2.30</td>\n",
              "      <td>1.0</td>\n",
              "      <td>41.83</td>\n",
              "      <td>Foggy</td>\n",
              "      <td>Rain in the morning and afternoon.</td>\n",
              "      <td>fog</td>\n",
              "      <td>1.685</td>\n",
              "      <td>46.15</td>\n",
              "      <td>40.15</td>\n",
              "      <td>43.17</td>\n",
              "      <td>39.21</td>\n",
              "      <td>42.3429</td>\n",
              "      <td>-71.1003</td>\n",
              "    </tr>\n",
              "  </tbody>\n",
              "</table>\n",
              "</div>\n",
              "      <button class=\"colab-df-convert\" onclick=\"convertToInteractive('df-cbaf31f7-4549-4c33-8782-091d87e1bd72')\"\n",
              "              title=\"Convert this dataframe to an interactive table.\"\n",
              "              style=\"display:none;\">\n",
              "        \n",
              "  <svg xmlns=\"http://www.w3.org/2000/svg\" height=\"24px\"viewBox=\"0 0 24 24\"\n",
              "       width=\"24px\">\n",
              "    <path d=\"M0 0h24v24H0V0z\" fill=\"none\"/>\n",
              "    <path d=\"M18.56 5.44l.94 2.06.94-2.06 2.06-.94-2.06-.94-.94-2.06-.94 2.06-2.06.94zm-11 1L8.5 8.5l.94-2.06 2.06-.94-2.06-.94L8.5 2.5l-.94 2.06-2.06.94zm10 10l.94 2.06.94-2.06 2.06-.94-2.06-.94-.94-2.06-.94 2.06-2.06.94z\"/><path d=\"M17.41 7.96l-1.37-1.37c-.4-.4-.92-.59-1.43-.59-.52 0-1.04.2-1.43.59L10.3 9.45l-7.72 7.72c-.78.78-.78 2.05 0 2.83L4 21.41c.39.39.9.59 1.41.59.51 0 1.02-.2 1.41-.59l7.78-7.78 2.81-2.81c.8-.78.8-2.07 0-2.86zM5.41 20L4 18.59l7.72-7.72 1.47 1.35L5.41 20z\"/>\n",
              "  </svg>\n",
              "      </button>\n",
              "      \n",
              "  <style>\n",
              "    .colab-df-container {\n",
              "      display:flex;\n",
              "      flex-wrap:wrap;\n",
              "      gap: 12px;\n",
              "    }\n",
              "\n",
              "    .colab-df-convert {\n",
              "      background-color: #E8F0FE;\n",
              "      border: none;\n",
              "      border-radius: 50%;\n",
              "      cursor: pointer;\n",
              "      display: none;\n",
              "      fill: #1967D2;\n",
              "      height: 32px;\n",
              "      padding: 0 0 0 0;\n",
              "      width: 32px;\n",
              "    }\n",
              "\n",
              "    .colab-df-convert:hover {\n",
              "      background-color: #E2EBFA;\n",
              "      box-shadow: 0px 1px 2px rgba(60, 64, 67, 0.3), 0px 1px 3px 1px rgba(60, 64, 67, 0.15);\n",
              "      fill: #174EA6;\n",
              "    }\n",
              "\n",
              "    [theme=dark] .colab-df-convert {\n",
              "      background-color: #3B4455;\n",
              "      fill: #D2E3FC;\n",
              "    }\n",
              "\n",
              "    [theme=dark] .colab-df-convert:hover {\n",
              "      background-color: #434B5C;\n",
              "      box-shadow: 0px 1px 3px 1px rgba(0, 0, 0, 0.15);\n",
              "      filter: drop-shadow(0px 1px 2px rgba(0, 0, 0, 0.3));\n",
              "      fill: #FFFFFF;\n",
              "    }\n",
              "  </style>\n",
              "\n",
              "      <script>\n",
              "        const buttonEl =\n",
              "          document.querySelector('#df-cbaf31f7-4549-4c33-8782-091d87e1bd72 button.colab-df-convert');\n",
              "        buttonEl.style.display =\n",
              "          google.colab.kernel.accessAllowed ? 'block' : 'none';\n",
              "\n",
              "        async function convertToInteractive(key) {\n",
              "          const element = document.querySelector('#df-cbaf31f7-4549-4c33-8782-091d87e1bd72');\n",
              "          const dataTable =\n",
              "            await google.colab.kernel.invokeFunction('convertToInteractive',\n",
              "                                                     [key], {});\n",
              "          if (!dataTable) return;\n",
              "\n",
              "          const docLinkHtml = 'Like what you see? Visit the ' +\n",
              "            '<a target=\"_blank\" href=https://colab.research.google.com/notebooks/data_table.ipynb>data table notebook</a>'\n",
              "            + ' to learn more about interactive tables.';\n",
              "          element.innerHTML = '';\n",
              "          dataTable['output_type'] = 'display_data';\n",
              "          await google.colab.output.renderOutput(dataTable, element);\n",
              "          const docLink = document.createElement('div');\n",
              "          docLink.innerHTML = docLinkHtml;\n",
              "          element.appendChild(docLink);\n",
              "        }\n",
              "      </script>\n",
              "    </div>\n",
              "  </div>\n",
              "  "
            ]
          },
          "metadata": {},
          "execution_count": 10
        }
      ],
      "source": [
        "ride_share_data = ride_share_data.sort_values('datetime')\n",
        "ride_share_data = ride_share_data[['id','timestamp','hour','day','month','datetime','source','destination','cab_type','product_id','name','price','distance','surge_multiplier','temperature','short_summary','long_summary','icon','visibility','temperatureHigh','temperatureLow','apparentTemperatureHigh','apparentTemperatureLow','latitude','longitude']]\n",
        "ride_share_data.head()"
      ]
    },
    {
      "cell_type": "code",
      "execution_count": null,
      "metadata": {
        "colab": {
          "base_uri": "https://localhost:8080/"
        },
        "id": "YDb27HOWw-20",
        "outputId": "65245aa9-70ca-4d2a-a867-5af476e969d8"
      },
      "outputs": [
        {
          "output_type": "execute_result",
          "data": {
            "text/plain": [
              "id                         False\n",
              "timestamp                  False\n",
              "hour                       False\n",
              "day                        False\n",
              "month                      False\n",
              "datetime                   False\n",
              "source                     False\n",
              "destination                False\n",
              "cab_type                   False\n",
              "product_id                 False\n",
              "name                       False\n",
              "price                       True\n",
              "distance                   False\n",
              "surge_multiplier           False\n",
              "temperature                False\n",
              "short_summary              False\n",
              "long_summary               False\n",
              "icon                        True\n",
              "visibility                 False\n",
              "temperatureHigh            False\n",
              "temperatureLow             False\n",
              "apparentTemperatureHigh     True\n",
              "apparentTemperatureLow      True\n",
              "latitude                   False\n",
              "longitude                  False\n",
              "dtype: bool"
            ]
          },
          "metadata": {},
          "execution_count": 11
        }
      ],
      "source": [
        "ride_share_data.isna().any()"
      ]
    },
    {
      "cell_type": "code",
      "execution_count": null,
      "metadata": {
        "colab": {
          "base_uri": "https://localhost:8080/"
        },
        "id": "BVqERBV3qSol",
        "outputId": "2a1944b1-5f58-4114-ed7f-dbca98840e3a"
      },
      "outputs": [
        {
          "output_type": "execute_result",
          "data": {
            "text/plain": [
              "id                             0\n",
              "timestamp                      0\n",
              "hour                           0\n",
              "day                            0\n",
              "month                          0\n",
              "datetime                       0\n",
              "source                         0\n",
              "destination                    0\n",
              "cab_type                       0\n",
              "product_id                     0\n",
              "name                           0\n",
              "price                      47265\n",
              "distance                       0\n",
              "surge_multiplier               0\n",
              "temperature                    0\n",
              "short_summary                  0\n",
              "long_summary                   0\n",
              "icon                           1\n",
              "visibility                     0\n",
              "temperatureHigh                0\n",
              "temperatureLow                 0\n",
              "apparentTemperatureHigh        1\n",
              "apparentTemperatureLow         1\n",
              "latitude                       0\n",
              "longitude                      0\n",
              "dtype: int64"
            ]
          },
          "metadata": {},
          "execution_count": 12
        }
      ],
      "source": [
        "ride_share_data.isnull().sum()"
      ]
    },
    {
      "cell_type": "code",
      "execution_count": null,
      "metadata": {
        "id": "f6kqepaGxPOC"
      },
      "outputs": [],
      "source": [
        "ride_share_data['price'] = ride_share_data['price'].fillna(ride_share_data['distance']*1.45)"
      ]
    },
    {
      "cell_type": "code",
      "execution_count": null,
      "metadata": {
        "colab": {
          "base_uri": "https://localhost:8080/"
        },
        "id": "u7NuM5CIx5gv",
        "outputId": "18552ecc-da73-423f-b060-2469be601d1f"
      },
      "outputs": [
        {
          "output_type": "execute_result",
          "data": {
            "text/plain": [
              "Financial District         50805\n",
              "Boston University          49985\n",
              "Fenway                     49751\n",
              "North End                  49676\n",
              "Haymarket Square           49629\n",
              "Theatre District           49515\n",
              "Back Bay                   49512\n",
              "West End                   49476\n",
              "South Station              49445\n",
              "Beacon Hill                49371\n",
              "Northeastern University    49246\n",
              "North Station              49043\n",
              "Name: source, dtype: int64"
            ]
          },
          "metadata": {},
          "execution_count": 14
        }
      ],
      "source": [
        "ride_share_data['source'].value_counts()"
      ]
    },
    {
      "cell_type": "code",
      "execution_count": null,
      "metadata": {
        "colab": {
          "base_uri": "https://localhost:8080/"
        },
        "id": "nco2ARAkxyVN",
        "outputId": "e4df097c-e106-4692-e4ad-26fce6ebaf5c"
      },
      "outputs": [
        {
          "output_type": "execute_result",
          "data": {
            "text/plain": [
              "Financial District         50683\n",
              "Fenway                     50044\n",
              "Boston University          49795\n",
              "Theatre District           49717\n",
              "South Station              49679\n",
              "Haymarket Square           49600\n",
              "Back Bay                   49537\n",
              "North End                  49455\n",
              "West End                   49403\n",
              "North Station              49261\n",
              "Northeastern University    49149\n",
              "Beacon Hill                49131\n",
              "Name: destination, dtype: int64"
            ]
          },
          "metadata": {},
          "execution_count": 15
        }
      ],
      "source": [
        "ride_share_data['destination'].value_counts()"
      ]
    },
    {
      "cell_type": "code",
      "execution_count": null,
      "metadata": {
        "colab": {
          "base_uri": "https://localhost:8080/"
        },
        "id": "aSUQVXnJyRiN",
        "outputId": "7365d192-d2b6-43c7-c80f-28c57c5f195b"
      },
      "outputs": [
        {
          "output_type": "execute_result",
          "data": {
            "text/plain": [
              "pandas.core.series.Series"
            ]
          },
          "metadata": {},
          "execution_count": 16
        }
      ],
      "source": [
        "ride_share_data['datetime'] = pd.to_datetime(ride_share_data['datetime'])\n",
        "type(ride_share_data['datetime'])"
      ]
    },
    {
      "cell_type": "code",
      "execution_count": null,
      "metadata": {
        "id": "kSYda42PWlWJ"
      },
      "outputs": [],
      "source": [
        "ride_share_data['days name']=ride_share_data['datetime'].dt.day_name()"
      ]
    },
    {
      "cell_type": "markdown",
      "metadata": {
        "id": "bjHU0b5LuTcZ"
      },
      "source": [
        "## Menghapus kolom yang tidak digunakan"
      ]
    },
    {
      "cell_type": "code",
      "execution_count": null,
      "metadata": {
        "colab": {
          "base_uri": "https://localhost:8080/"
        },
        "id": "ZIHVY7Q99fbe",
        "outputId": "51d20174-6d82-4d7b-e902-e1c174deedd8"
      },
      "outputs": [
        {
          "output_type": "stream",
          "name": "stdout",
          "text": [
            "<class 'pandas.core.frame.DataFrame'>\n",
            "Int64Index: 595454 entries, 276564 to 204553\n",
            "Data columns (total 5 columns):\n",
            " #   Column            Non-Null Count   Dtype  \n",
            "---  ------            --------------   -----  \n",
            " 0   cab_type          595454 non-null  object \n",
            " 1   product_id        595454 non-null  object \n",
            " 2   price             595454 non-null  float64\n",
            " 3   distance          595454 non-null  float64\n",
            " 4   surge_multiplier  595454 non-null  float64\n",
            "dtypes: float64(3), object(2)\n",
            "memory usage: 27.3+ MB\n"
          ]
        }
      ],
      "source": [
        "ride_share_data = ride_share_data[['cab_type','product_id','price','distance','surge_multiplier']]\n",
        "\n",
        "#Melihat informasi data yang akan digunakan\n",
        "ride_share_data.info()"
      ]
    },
    {
      "cell_type": "code",
      "execution_count": null,
      "metadata": {
        "colab": {
          "base_uri": "https://localhost:8080/",
          "height": 206
        },
        "id": "oM4EZMpY0ga9",
        "outputId": "b7a658d7-5096-4e5a-86da-31403276ced1"
      },
      "outputs": [
        {
          "output_type": "execute_result",
          "data": {
            "text/plain": [
              "       cab_type                            product_id  price  distance  \\\n",
              "276564     Uber  6c84fd89-3f11-4782-9b50-97c468b19529   17.5      2.19   \n",
              "325884     Lyft                             lyft_plus   16.5      2.96   \n",
              "276566     Uber  6f72dfc5-27f1-42e8-84db-ccc7a75f6969   13.0      2.19   \n",
              "325885     Lyft                                  lyft   11.0      2.96   \n",
              "261363     Lyft                          lyft_premier   16.5      2.30   \n",
              "\n",
              "        surge_multiplier  \n",
              "276564               1.0  \n",
              "325884               1.0  \n",
              "276566               1.0  \n",
              "325885               1.0  \n",
              "261363               1.0  "
            ],
            "text/html": [
              "\n",
              "  <div id=\"df-1ffdf6cb-5a05-4a70-8b00-b1aea3158118\">\n",
              "    <div class=\"colab-df-container\">\n",
              "      <div>\n",
              "<style scoped>\n",
              "    .dataframe tbody tr th:only-of-type {\n",
              "        vertical-align: middle;\n",
              "    }\n",
              "\n",
              "    .dataframe tbody tr th {\n",
              "        vertical-align: top;\n",
              "    }\n",
              "\n",
              "    .dataframe thead th {\n",
              "        text-align: right;\n",
              "    }\n",
              "</style>\n",
              "<table border=\"1\" class=\"dataframe\">\n",
              "  <thead>\n",
              "    <tr style=\"text-align: right;\">\n",
              "      <th></th>\n",
              "      <th>cab_type</th>\n",
              "      <th>product_id</th>\n",
              "      <th>price</th>\n",
              "      <th>distance</th>\n",
              "      <th>surge_multiplier</th>\n",
              "    </tr>\n",
              "  </thead>\n",
              "  <tbody>\n",
              "    <tr>\n",
              "      <th>276564</th>\n",
              "      <td>Uber</td>\n",
              "      <td>6c84fd89-3f11-4782-9b50-97c468b19529</td>\n",
              "      <td>17.5</td>\n",
              "      <td>2.19</td>\n",
              "      <td>1.0</td>\n",
              "    </tr>\n",
              "    <tr>\n",
              "      <th>325884</th>\n",
              "      <td>Lyft</td>\n",
              "      <td>lyft_plus</td>\n",
              "      <td>16.5</td>\n",
              "      <td>2.96</td>\n",
              "      <td>1.0</td>\n",
              "    </tr>\n",
              "    <tr>\n",
              "      <th>276566</th>\n",
              "      <td>Uber</td>\n",
              "      <td>6f72dfc5-27f1-42e8-84db-ccc7a75f6969</td>\n",
              "      <td>13.0</td>\n",
              "      <td>2.19</td>\n",
              "      <td>1.0</td>\n",
              "    </tr>\n",
              "    <tr>\n",
              "      <th>325885</th>\n",
              "      <td>Lyft</td>\n",
              "      <td>lyft</td>\n",
              "      <td>11.0</td>\n",
              "      <td>2.96</td>\n",
              "      <td>1.0</td>\n",
              "    </tr>\n",
              "    <tr>\n",
              "      <th>261363</th>\n",
              "      <td>Lyft</td>\n",
              "      <td>lyft_premier</td>\n",
              "      <td>16.5</td>\n",
              "      <td>2.30</td>\n",
              "      <td>1.0</td>\n",
              "    </tr>\n",
              "  </tbody>\n",
              "</table>\n",
              "</div>\n",
              "      <button class=\"colab-df-convert\" onclick=\"convertToInteractive('df-1ffdf6cb-5a05-4a70-8b00-b1aea3158118')\"\n",
              "              title=\"Convert this dataframe to an interactive table.\"\n",
              "              style=\"display:none;\">\n",
              "        \n",
              "  <svg xmlns=\"http://www.w3.org/2000/svg\" height=\"24px\"viewBox=\"0 0 24 24\"\n",
              "       width=\"24px\">\n",
              "    <path d=\"M0 0h24v24H0V0z\" fill=\"none\"/>\n",
              "    <path d=\"M18.56 5.44l.94 2.06.94-2.06 2.06-.94-2.06-.94-.94-2.06-.94 2.06-2.06.94zm-11 1L8.5 8.5l.94-2.06 2.06-.94-2.06-.94L8.5 2.5l-.94 2.06-2.06.94zm10 10l.94 2.06.94-2.06 2.06-.94-2.06-.94-.94-2.06-.94 2.06-2.06.94z\"/><path d=\"M17.41 7.96l-1.37-1.37c-.4-.4-.92-.59-1.43-.59-.52 0-1.04.2-1.43.59L10.3 9.45l-7.72 7.72c-.78.78-.78 2.05 0 2.83L4 21.41c.39.39.9.59 1.41.59.51 0 1.02-.2 1.41-.59l7.78-7.78 2.81-2.81c.8-.78.8-2.07 0-2.86zM5.41 20L4 18.59l7.72-7.72 1.47 1.35L5.41 20z\"/>\n",
              "  </svg>\n",
              "      </button>\n",
              "      \n",
              "  <style>\n",
              "    .colab-df-container {\n",
              "      display:flex;\n",
              "      flex-wrap:wrap;\n",
              "      gap: 12px;\n",
              "    }\n",
              "\n",
              "    .colab-df-convert {\n",
              "      background-color: #E8F0FE;\n",
              "      border: none;\n",
              "      border-radius: 50%;\n",
              "      cursor: pointer;\n",
              "      display: none;\n",
              "      fill: #1967D2;\n",
              "      height: 32px;\n",
              "      padding: 0 0 0 0;\n",
              "      width: 32px;\n",
              "    }\n",
              "\n",
              "    .colab-df-convert:hover {\n",
              "      background-color: #E2EBFA;\n",
              "      box-shadow: 0px 1px 2px rgba(60, 64, 67, 0.3), 0px 1px 3px 1px rgba(60, 64, 67, 0.15);\n",
              "      fill: #174EA6;\n",
              "    }\n",
              "\n",
              "    [theme=dark] .colab-df-convert {\n",
              "      background-color: #3B4455;\n",
              "      fill: #D2E3FC;\n",
              "    }\n",
              "\n",
              "    [theme=dark] .colab-df-convert:hover {\n",
              "      background-color: #434B5C;\n",
              "      box-shadow: 0px 1px 3px 1px rgba(0, 0, 0, 0.15);\n",
              "      filter: drop-shadow(0px 1px 2px rgba(0, 0, 0, 0.3));\n",
              "      fill: #FFFFFF;\n",
              "    }\n",
              "  </style>\n",
              "\n",
              "      <script>\n",
              "        const buttonEl =\n",
              "          document.querySelector('#df-1ffdf6cb-5a05-4a70-8b00-b1aea3158118 button.colab-df-convert');\n",
              "        buttonEl.style.display =\n",
              "          google.colab.kernel.accessAllowed ? 'block' : 'none';\n",
              "\n",
              "        async function convertToInteractive(key) {\n",
              "          const element = document.querySelector('#df-1ffdf6cb-5a05-4a70-8b00-b1aea3158118');\n",
              "          const dataTable =\n",
              "            await google.colab.kernel.invokeFunction('convertToInteractive',\n",
              "                                                     [key], {});\n",
              "          if (!dataTable) return;\n",
              "\n",
              "          const docLinkHtml = 'Like what you see? Visit the ' +\n",
              "            '<a target=\"_blank\" href=https://colab.research.google.com/notebooks/data_table.ipynb>data table notebook</a>'\n",
              "            + ' to learn more about interactive tables.';\n",
              "          element.innerHTML = '';\n",
              "          dataTable['output_type'] = 'display_data';\n",
              "          await google.colab.output.renderOutput(dataTable, element);\n",
              "          const docLink = document.createElement('div');\n",
              "          docLink.innerHTML = docLinkHtml;\n",
              "          element.appendChild(docLink);\n",
              "        }\n",
              "      </script>\n",
              "    </div>\n",
              "  </div>\n",
              "  "
            ]
          },
          "metadata": {},
          "execution_count": 19
        }
      ],
      "source": [
        "#Melihat lima data teratas dari data yang akan digunakan\n",
        "ride_share_data.head()"
      ]
    },
    {
      "cell_type": "code",
      "execution_count": null,
      "metadata": {
        "colab": {
          "base_uri": "https://localhost:8080/",
          "height": 300
        },
        "id": "-DZIdW5h-mm_",
        "outputId": "33f53f4f-134d-4683-a17b-2f50caa96575"
      },
      "outputs": [
        {
          "output_type": "execute_result",
          "data": {
            "text/plain": [
              "               price       distance  surge_multiplier\n",
              "count  595454.000000  595454.000000     595454.000000\n",
              "mean       15.485130       2.189443          1.013935\n",
              "std         9.664695       1.140407          0.091999\n",
              "min         0.029000       0.020000          1.000000\n",
              "25%         8.500000       1.280000          1.000000\n",
              "50%        13.500000       2.160000          1.000000\n",
              "75%        22.500000       2.930000          1.000000\n",
              "max        92.000000       7.620000          3.000000"
            ],
            "text/html": [
              "\n",
              "  <div id=\"df-84a258a8-ec97-4921-bc27-a846d09e9cd5\">\n",
              "    <div class=\"colab-df-container\">\n",
              "      <div>\n",
              "<style scoped>\n",
              "    .dataframe tbody tr th:only-of-type {\n",
              "        vertical-align: middle;\n",
              "    }\n",
              "\n",
              "    .dataframe tbody tr th {\n",
              "        vertical-align: top;\n",
              "    }\n",
              "\n",
              "    .dataframe thead th {\n",
              "        text-align: right;\n",
              "    }\n",
              "</style>\n",
              "<table border=\"1\" class=\"dataframe\">\n",
              "  <thead>\n",
              "    <tr style=\"text-align: right;\">\n",
              "      <th></th>\n",
              "      <th>price</th>\n",
              "      <th>distance</th>\n",
              "      <th>surge_multiplier</th>\n",
              "    </tr>\n",
              "  </thead>\n",
              "  <tbody>\n",
              "    <tr>\n",
              "      <th>count</th>\n",
              "      <td>595454.000000</td>\n",
              "      <td>595454.000000</td>\n",
              "      <td>595454.000000</td>\n",
              "    </tr>\n",
              "    <tr>\n",
              "      <th>mean</th>\n",
              "      <td>15.485130</td>\n",
              "      <td>2.189443</td>\n",
              "      <td>1.013935</td>\n",
              "    </tr>\n",
              "    <tr>\n",
              "      <th>std</th>\n",
              "      <td>9.664695</td>\n",
              "      <td>1.140407</td>\n",
              "      <td>0.091999</td>\n",
              "    </tr>\n",
              "    <tr>\n",
              "      <th>min</th>\n",
              "      <td>0.029000</td>\n",
              "      <td>0.020000</td>\n",
              "      <td>1.000000</td>\n",
              "    </tr>\n",
              "    <tr>\n",
              "      <th>25%</th>\n",
              "      <td>8.500000</td>\n",
              "      <td>1.280000</td>\n",
              "      <td>1.000000</td>\n",
              "    </tr>\n",
              "    <tr>\n",
              "      <th>50%</th>\n",
              "      <td>13.500000</td>\n",
              "      <td>2.160000</td>\n",
              "      <td>1.000000</td>\n",
              "    </tr>\n",
              "    <tr>\n",
              "      <th>75%</th>\n",
              "      <td>22.500000</td>\n",
              "      <td>2.930000</td>\n",
              "      <td>1.000000</td>\n",
              "    </tr>\n",
              "    <tr>\n",
              "      <th>max</th>\n",
              "      <td>92.000000</td>\n",
              "      <td>7.620000</td>\n",
              "      <td>3.000000</td>\n",
              "    </tr>\n",
              "  </tbody>\n",
              "</table>\n",
              "</div>\n",
              "      <button class=\"colab-df-convert\" onclick=\"convertToInteractive('df-84a258a8-ec97-4921-bc27-a846d09e9cd5')\"\n",
              "              title=\"Convert this dataframe to an interactive table.\"\n",
              "              style=\"display:none;\">\n",
              "        \n",
              "  <svg xmlns=\"http://www.w3.org/2000/svg\" height=\"24px\"viewBox=\"0 0 24 24\"\n",
              "       width=\"24px\">\n",
              "    <path d=\"M0 0h24v24H0V0z\" fill=\"none\"/>\n",
              "    <path d=\"M18.56 5.44l.94 2.06.94-2.06 2.06-.94-2.06-.94-.94-2.06-.94 2.06-2.06.94zm-11 1L8.5 8.5l.94-2.06 2.06-.94-2.06-.94L8.5 2.5l-.94 2.06-2.06.94zm10 10l.94 2.06.94-2.06 2.06-.94-2.06-.94-.94-2.06-.94 2.06-2.06.94z\"/><path d=\"M17.41 7.96l-1.37-1.37c-.4-.4-.92-.59-1.43-.59-.52 0-1.04.2-1.43.59L10.3 9.45l-7.72 7.72c-.78.78-.78 2.05 0 2.83L4 21.41c.39.39.9.59 1.41.59.51 0 1.02-.2 1.41-.59l7.78-7.78 2.81-2.81c.8-.78.8-2.07 0-2.86zM5.41 20L4 18.59l7.72-7.72 1.47 1.35L5.41 20z\"/>\n",
              "  </svg>\n",
              "      </button>\n",
              "      \n",
              "  <style>\n",
              "    .colab-df-container {\n",
              "      display:flex;\n",
              "      flex-wrap:wrap;\n",
              "      gap: 12px;\n",
              "    }\n",
              "\n",
              "    .colab-df-convert {\n",
              "      background-color: #E8F0FE;\n",
              "      border: none;\n",
              "      border-radius: 50%;\n",
              "      cursor: pointer;\n",
              "      display: none;\n",
              "      fill: #1967D2;\n",
              "      height: 32px;\n",
              "      padding: 0 0 0 0;\n",
              "      width: 32px;\n",
              "    }\n",
              "\n",
              "    .colab-df-convert:hover {\n",
              "      background-color: #E2EBFA;\n",
              "      box-shadow: 0px 1px 2px rgba(60, 64, 67, 0.3), 0px 1px 3px 1px rgba(60, 64, 67, 0.15);\n",
              "      fill: #174EA6;\n",
              "    }\n",
              "\n",
              "    [theme=dark] .colab-df-convert {\n",
              "      background-color: #3B4455;\n",
              "      fill: #D2E3FC;\n",
              "    }\n",
              "\n",
              "    [theme=dark] .colab-df-convert:hover {\n",
              "      background-color: #434B5C;\n",
              "      box-shadow: 0px 1px 3px 1px rgba(0, 0, 0, 0.15);\n",
              "      filter: drop-shadow(0px 1px 2px rgba(0, 0, 0, 0.3));\n",
              "      fill: #FFFFFF;\n",
              "    }\n",
              "  </style>\n",
              "\n",
              "      <script>\n",
              "        const buttonEl =\n",
              "          document.querySelector('#df-84a258a8-ec97-4921-bc27-a846d09e9cd5 button.colab-df-convert');\n",
              "        buttonEl.style.display =\n",
              "          google.colab.kernel.accessAllowed ? 'block' : 'none';\n",
              "\n",
              "        async function convertToInteractive(key) {\n",
              "          const element = document.querySelector('#df-84a258a8-ec97-4921-bc27-a846d09e9cd5');\n",
              "          const dataTable =\n",
              "            await google.colab.kernel.invokeFunction('convertToInteractive',\n",
              "                                                     [key], {});\n",
              "          if (!dataTable) return;\n",
              "\n",
              "          const docLinkHtml = 'Like what you see? Visit the ' +\n",
              "            '<a target=\"_blank\" href=https://colab.research.google.com/notebooks/data_table.ipynb>data table notebook</a>'\n",
              "            + ' to learn more about interactive tables.';\n",
              "          element.innerHTML = '';\n",
              "          dataTable['output_type'] = 'display_data';\n",
              "          await google.colab.output.renderOutput(dataTable, element);\n",
              "          const docLink = document.createElement('div');\n",
              "          docLink.innerHTML = docLinkHtml;\n",
              "          element.appendChild(docLink);\n",
              "        }\n",
              "      </script>\n",
              "    </div>\n",
              "  </div>\n",
              "  "
            ]
          },
          "metadata": {},
          "execution_count": 20
        }
      ],
      "source": [
        "#Deskriptif kolom numerikal dari data yang akan digunakan\n",
        "ride_share_data.describe()"
      ]
    },
    {
      "cell_type": "code",
      "execution_count": null,
      "metadata": {
        "colab": {
          "base_uri": "https://localhost:8080/",
          "height": 175
        },
        "id": "ckNpr54k-ueF",
        "outputId": "2e81c4a5-0774-4726-8b37-1ab73ee5e0c5"
      },
      "outputs": [
        {
          "output_type": "execute_result",
          "data": {
            "text/plain": [
              "       cab_type                            product_id\n",
              "count    595454                                595454\n",
              "unique        2                                    13\n",
              "top        Uber  8cf7e821-f0d3-49c6-8eba-e679c0ebcf6a\n",
              "freq     330579                                 47265"
            ],
            "text/html": [
              "\n",
              "  <div id=\"df-de0e2263-0f2d-4d2e-9c03-0cff597b038e\">\n",
              "    <div class=\"colab-df-container\">\n",
              "      <div>\n",
              "<style scoped>\n",
              "    .dataframe tbody tr th:only-of-type {\n",
              "        vertical-align: middle;\n",
              "    }\n",
              "\n",
              "    .dataframe tbody tr th {\n",
              "        vertical-align: top;\n",
              "    }\n",
              "\n",
              "    .dataframe thead th {\n",
              "        text-align: right;\n",
              "    }\n",
              "</style>\n",
              "<table border=\"1\" class=\"dataframe\">\n",
              "  <thead>\n",
              "    <tr style=\"text-align: right;\">\n",
              "      <th></th>\n",
              "      <th>cab_type</th>\n",
              "      <th>product_id</th>\n",
              "    </tr>\n",
              "  </thead>\n",
              "  <tbody>\n",
              "    <tr>\n",
              "      <th>count</th>\n",
              "      <td>595454</td>\n",
              "      <td>595454</td>\n",
              "    </tr>\n",
              "    <tr>\n",
              "      <th>unique</th>\n",
              "      <td>2</td>\n",
              "      <td>13</td>\n",
              "    </tr>\n",
              "    <tr>\n",
              "      <th>top</th>\n",
              "      <td>Uber</td>\n",
              "      <td>8cf7e821-f0d3-49c6-8eba-e679c0ebcf6a</td>\n",
              "    </tr>\n",
              "    <tr>\n",
              "      <th>freq</th>\n",
              "      <td>330579</td>\n",
              "      <td>47265</td>\n",
              "    </tr>\n",
              "  </tbody>\n",
              "</table>\n",
              "</div>\n",
              "      <button class=\"colab-df-convert\" onclick=\"convertToInteractive('df-de0e2263-0f2d-4d2e-9c03-0cff597b038e')\"\n",
              "              title=\"Convert this dataframe to an interactive table.\"\n",
              "              style=\"display:none;\">\n",
              "        \n",
              "  <svg xmlns=\"http://www.w3.org/2000/svg\" height=\"24px\"viewBox=\"0 0 24 24\"\n",
              "       width=\"24px\">\n",
              "    <path d=\"M0 0h24v24H0V0z\" fill=\"none\"/>\n",
              "    <path d=\"M18.56 5.44l.94 2.06.94-2.06 2.06-.94-2.06-.94-.94-2.06-.94 2.06-2.06.94zm-11 1L8.5 8.5l.94-2.06 2.06-.94-2.06-.94L8.5 2.5l-.94 2.06-2.06.94zm10 10l.94 2.06.94-2.06 2.06-.94-2.06-.94-.94-2.06-.94 2.06-2.06.94z\"/><path d=\"M17.41 7.96l-1.37-1.37c-.4-.4-.92-.59-1.43-.59-.52 0-1.04.2-1.43.59L10.3 9.45l-7.72 7.72c-.78.78-.78 2.05 0 2.83L4 21.41c.39.39.9.59 1.41.59.51 0 1.02-.2 1.41-.59l7.78-7.78 2.81-2.81c.8-.78.8-2.07 0-2.86zM5.41 20L4 18.59l7.72-7.72 1.47 1.35L5.41 20z\"/>\n",
              "  </svg>\n",
              "      </button>\n",
              "      \n",
              "  <style>\n",
              "    .colab-df-container {\n",
              "      display:flex;\n",
              "      flex-wrap:wrap;\n",
              "      gap: 12px;\n",
              "    }\n",
              "\n",
              "    .colab-df-convert {\n",
              "      background-color: #E8F0FE;\n",
              "      border: none;\n",
              "      border-radius: 50%;\n",
              "      cursor: pointer;\n",
              "      display: none;\n",
              "      fill: #1967D2;\n",
              "      height: 32px;\n",
              "      padding: 0 0 0 0;\n",
              "      width: 32px;\n",
              "    }\n",
              "\n",
              "    .colab-df-convert:hover {\n",
              "      background-color: #E2EBFA;\n",
              "      box-shadow: 0px 1px 2px rgba(60, 64, 67, 0.3), 0px 1px 3px 1px rgba(60, 64, 67, 0.15);\n",
              "      fill: #174EA6;\n",
              "    }\n",
              "\n",
              "    [theme=dark] .colab-df-convert {\n",
              "      background-color: #3B4455;\n",
              "      fill: #D2E3FC;\n",
              "    }\n",
              "\n",
              "    [theme=dark] .colab-df-convert:hover {\n",
              "      background-color: #434B5C;\n",
              "      box-shadow: 0px 1px 3px 1px rgba(0, 0, 0, 0.15);\n",
              "      filter: drop-shadow(0px 1px 2px rgba(0, 0, 0, 0.3));\n",
              "      fill: #FFFFFF;\n",
              "    }\n",
              "  </style>\n",
              "\n",
              "      <script>\n",
              "        const buttonEl =\n",
              "          document.querySelector('#df-de0e2263-0f2d-4d2e-9c03-0cff597b038e button.colab-df-convert');\n",
              "        buttonEl.style.display =\n",
              "          google.colab.kernel.accessAllowed ? 'block' : 'none';\n",
              "\n",
              "        async function convertToInteractive(key) {\n",
              "          const element = document.querySelector('#df-de0e2263-0f2d-4d2e-9c03-0cff597b038e');\n",
              "          const dataTable =\n",
              "            await google.colab.kernel.invokeFunction('convertToInteractive',\n",
              "                                                     [key], {});\n",
              "          if (!dataTable) return;\n",
              "\n",
              "          const docLinkHtml = 'Like what you see? Visit the ' +\n",
              "            '<a target=\"_blank\" href=https://colab.research.google.com/notebooks/data_table.ipynb>data table notebook</a>'\n",
              "            + ' to learn more about interactive tables.';\n",
              "          element.innerHTML = '';\n",
              "          dataTable['output_type'] = 'display_data';\n",
              "          await google.colab.output.renderOutput(dataTable, element);\n",
              "          const docLink = document.createElement('div');\n",
              "          docLink.innerHTML = docLinkHtml;\n",
              "          element.appendChild(docLink);\n",
              "        }\n",
              "      </script>\n",
              "    </div>\n",
              "  </div>\n",
              "  "
            ]
          },
          "metadata": {},
          "execution_count": 21
        }
      ],
      "source": [
        "#Deskriptif kolom kategorik dari data yang akan digunakan\n",
        "ride_share_data.describe(include='object')"
      ]
    },
    {
      "cell_type": "code",
      "execution_count": null,
      "metadata": {
        "colab": {
          "base_uri": "https://localhost:8080/"
        },
        "id": "DLMI9peD---R",
        "outputId": "de194e93-6d04-4419-8f37-3412c74f235d"
      },
      "outputs": [
        {
          "output_type": "execute_result",
          "data": {
            "text/plain": [
              "8cf7e821-f0d3-49c6-8eba-e679c0ebcf6a    47265\n",
              "9a0e7b09-b92b-4c41-9779-2ad22b4d779d    47243\n",
              "6f72dfc5-27f1-42e8-84db-ccc7a75f6969    47227\n",
              "997acbb5-e102-41e1-b155-9df7de0a73f2    47219\n",
              "6c84fd89-3f11-4782-9b50-97c468b19529    47218\n",
              "6d318bcc-22a3-4af6-bddd-b409bfce1546    47204\n",
              "55c66225-fbe7-4fd5-9072-eab1ece5e23e    47203\n",
              "lyft_luxsuv                             44158\n",
              "lyft_lux                                44147\n",
              "lyft                                    44144\n",
              "lyft_line                               44143\n",
              "lyft_premier                            44142\n",
              "lyft_plus                               44141\n",
              "Name: product_id, dtype: int64"
            ]
          },
          "metadata": {},
          "execution_count": 22
        }
      ],
      "source": [
        "#Jumlah pengguna uber vs lyft berdasarkan setiap tipe produk\n",
        "ride_share_data.product_id.value_counts()"
      ]
    },
    {
      "cell_type": "code",
      "execution_count": null,
      "metadata": {
        "colab": {
          "base_uri": "https://localhost:8080/",
          "height": 424
        },
        "id": "-fJE9i7GAIDm",
        "outputId": "ad429394-2d90-41c4-d9b5-cdc8f05b519f"
      },
      "outputs": [
        {
          "output_type": "execute_result",
          "data": {
            "text/plain": [
              "       cab_type                            product_id  price  distance  \\\n",
              "349435     Uber  6d318bcc-22a3-4af6-bddd-b409bfce1546   27.5      2.66   \n",
              "302977     Uber  6d318bcc-22a3-4af6-bddd-b409bfce1546   26.0      0.61   \n",
              "449959     Uber  6d318bcc-22a3-4af6-bddd-b409bfce1546   28.5      2.50   \n",
              "15204      Uber  6d318bcc-22a3-4af6-bddd-b409bfce1546   33.0      2.30   \n",
              "78954      Uber  6d318bcc-22a3-4af6-bddd-b409bfce1546   29.5      2.46   \n",
              "...         ...                                   ...    ...       ...   \n",
              "593092     Uber  6d318bcc-22a3-4af6-bddd-b409bfce1546   27.5      2.46   \n",
              "465427     Uber  6d318bcc-22a3-4af6-bddd-b409bfce1546   27.0      1.03   \n",
              "166552     Uber  6d318bcc-22a3-4af6-bddd-b409bfce1546   33.0      2.30   \n",
              "204552     Uber  6d318bcc-22a3-4af6-bddd-b409bfce1546   27.5      1.16   \n",
              "215397     Uber  6d318bcc-22a3-4af6-bddd-b409bfce1546   33.5      2.66   \n",
              "\n",
              "        surge_multiplier  \n",
              "349435               1.0  \n",
              "302977               1.0  \n",
              "449959               1.0  \n",
              "15204                1.0  \n",
              "78954                1.0  \n",
              "...                  ...  \n",
              "593092               1.0  \n",
              "465427               1.0  \n",
              "166552               1.0  \n",
              "204552               1.0  \n",
              "215397               1.0  \n",
              "\n",
              "[47204 rows x 5 columns]"
            ],
            "text/html": [
              "\n",
              "  <div id=\"df-4780ad8b-bbe0-408b-8687-e8a890595ca4\">\n",
              "    <div class=\"colab-df-container\">\n",
              "      <div>\n",
              "<style scoped>\n",
              "    .dataframe tbody tr th:only-of-type {\n",
              "        vertical-align: middle;\n",
              "    }\n",
              "\n",
              "    .dataframe tbody tr th {\n",
              "        vertical-align: top;\n",
              "    }\n",
              "\n",
              "    .dataframe thead th {\n",
              "        text-align: right;\n",
              "    }\n",
              "</style>\n",
              "<table border=\"1\" class=\"dataframe\">\n",
              "  <thead>\n",
              "    <tr style=\"text-align: right;\">\n",
              "      <th></th>\n",
              "      <th>cab_type</th>\n",
              "      <th>product_id</th>\n",
              "      <th>price</th>\n",
              "      <th>distance</th>\n",
              "      <th>surge_multiplier</th>\n",
              "    </tr>\n",
              "  </thead>\n",
              "  <tbody>\n",
              "    <tr>\n",
              "      <th>349435</th>\n",
              "      <td>Uber</td>\n",
              "      <td>6d318bcc-22a3-4af6-bddd-b409bfce1546</td>\n",
              "      <td>27.5</td>\n",
              "      <td>2.66</td>\n",
              "      <td>1.0</td>\n",
              "    </tr>\n",
              "    <tr>\n",
              "      <th>302977</th>\n",
              "      <td>Uber</td>\n",
              "      <td>6d318bcc-22a3-4af6-bddd-b409bfce1546</td>\n",
              "      <td>26.0</td>\n",
              "      <td>0.61</td>\n",
              "      <td>1.0</td>\n",
              "    </tr>\n",
              "    <tr>\n",
              "      <th>449959</th>\n",
              "      <td>Uber</td>\n",
              "      <td>6d318bcc-22a3-4af6-bddd-b409bfce1546</td>\n",
              "      <td>28.5</td>\n",
              "      <td>2.50</td>\n",
              "      <td>1.0</td>\n",
              "    </tr>\n",
              "    <tr>\n",
              "      <th>15204</th>\n",
              "      <td>Uber</td>\n",
              "      <td>6d318bcc-22a3-4af6-bddd-b409bfce1546</td>\n",
              "      <td>33.0</td>\n",
              "      <td>2.30</td>\n",
              "      <td>1.0</td>\n",
              "    </tr>\n",
              "    <tr>\n",
              "      <th>78954</th>\n",
              "      <td>Uber</td>\n",
              "      <td>6d318bcc-22a3-4af6-bddd-b409bfce1546</td>\n",
              "      <td>29.5</td>\n",
              "      <td>2.46</td>\n",
              "      <td>1.0</td>\n",
              "    </tr>\n",
              "    <tr>\n",
              "      <th>...</th>\n",
              "      <td>...</td>\n",
              "      <td>...</td>\n",
              "      <td>...</td>\n",
              "      <td>...</td>\n",
              "      <td>...</td>\n",
              "    </tr>\n",
              "    <tr>\n",
              "      <th>593092</th>\n",
              "      <td>Uber</td>\n",
              "      <td>6d318bcc-22a3-4af6-bddd-b409bfce1546</td>\n",
              "      <td>27.5</td>\n",
              "      <td>2.46</td>\n",
              "      <td>1.0</td>\n",
              "    </tr>\n",
              "    <tr>\n",
              "      <th>465427</th>\n",
              "      <td>Uber</td>\n",
              "      <td>6d318bcc-22a3-4af6-bddd-b409bfce1546</td>\n",
              "      <td>27.0</td>\n",
              "      <td>1.03</td>\n",
              "      <td>1.0</td>\n",
              "    </tr>\n",
              "    <tr>\n",
              "      <th>166552</th>\n",
              "      <td>Uber</td>\n",
              "      <td>6d318bcc-22a3-4af6-bddd-b409bfce1546</td>\n",
              "      <td>33.0</td>\n",
              "      <td>2.30</td>\n",
              "      <td>1.0</td>\n",
              "    </tr>\n",
              "    <tr>\n",
              "      <th>204552</th>\n",
              "      <td>Uber</td>\n",
              "      <td>6d318bcc-22a3-4af6-bddd-b409bfce1546</td>\n",
              "      <td>27.5</td>\n",
              "      <td>1.16</td>\n",
              "      <td>1.0</td>\n",
              "    </tr>\n",
              "    <tr>\n",
              "      <th>215397</th>\n",
              "      <td>Uber</td>\n",
              "      <td>6d318bcc-22a3-4af6-bddd-b409bfce1546</td>\n",
              "      <td>33.5</td>\n",
              "      <td>2.66</td>\n",
              "      <td>1.0</td>\n",
              "    </tr>\n",
              "  </tbody>\n",
              "</table>\n",
              "<p>47204 rows × 5 columns</p>\n",
              "</div>\n",
              "      <button class=\"colab-df-convert\" onclick=\"convertToInteractive('df-4780ad8b-bbe0-408b-8687-e8a890595ca4')\"\n",
              "              title=\"Convert this dataframe to an interactive table.\"\n",
              "              style=\"display:none;\">\n",
              "        \n",
              "  <svg xmlns=\"http://www.w3.org/2000/svg\" height=\"24px\"viewBox=\"0 0 24 24\"\n",
              "       width=\"24px\">\n",
              "    <path d=\"M0 0h24v24H0V0z\" fill=\"none\"/>\n",
              "    <path d=\"M18.56 5.44l.94 2.06.94-2.06 2.06-.94-2.06-.94-.94-2.06-.94 2.06-2.06.94zm-11 1L8.5 8.5l.94-2.06 2.06-.94-2.06-.94L8.5 2.5l-.94 2.06-2.06.94zm10 10l.94 2.06.94-2.06 2.06-.94-2.06-.94-.94-2.06-.94 2.06-2.06.94z\"/><path d=\"M17.41 7.96l-1.37-1.37c-.4-.4-.92-.59-1.43-.59-.52 0-1.04.2-1.43.59L10.3 9.45l-7.72 7.72c-.78.78-.78 2.05 0 2.83L4 21.41c.39.39.9.59 1.41.59.51 0 1.02-.2 1.41-.59l7.78-7.78 2.81-2.81c.8-.78.8-2.07 0-2.86zM5.41 20L4 18.59l7.72-7.72 1.47 1.35L5.41 20z\"/>\n",
              "  </svg>\n",
              "      </button>\n",
              "      \n",
              "  <style>\n",
              "    .colab-df-container {\n",
              "      display:flex;\n",
              "      flex-wrap:wrap;\n",
              "      gap: 12px;\n",
              "    }\n",
              "\n",
              "    .colab-df-convert {\n",
              "      background-color: #E8F0FE;\n",
              "      border: none;\n",
              "      border-radius: 50%;\n",
              "      cursor: pointer;\n",
              "      display: none;\n",
              "      fill: #1967D2;\n",
              "      height: 32px;\n",
              "      padding: 0 0 0 0;\n",
              "      width: 32px;\n",
              "    }\n",
              "\n",
              "    .colab-df-convert:hover {\n",
              "      background-color: #E2EBFA;\n",
              "      box-shadow: 0px 1px 2px rgba(60, 64, 67, 0.3), 0px 1px 3px 1px rgba(60, 64, 67, 0.15);\n",
              "      fill: #174EA6;\n",
              "    }\n",
              "\n",
              "    [theme=dark] .colab-df-convert {\n",
              "      background-color: #3B4455;\n",
              "      fill: #D2E3FC;\n",
              "    }\n",
              "\n",
              "    [theme=dark] .colab-df-convert:hover {\n",
              "      background-color: #434B5C;\n",
              "      box-shadow: 0px 1px 3px 1px rgba(0, 0, 0, 0.15);\n",
              "      filter: drop-shadow(0px 1px 2px rgba(0, 0, 0, 0.3));\n",
              "      fill: #FFFFFF;\n",
              "    }\n",
              "  </style>\n",
              "\n",
              "      <script>\n",
              "        const buttonEl =\n",
              "          document.querySelector('#df-4780ad8b-bbe0-408b-8687-e8a890595ca4 button.colab-df-convert');\n",
              "        buttonEl.style.display =\n",
              "          google.colab.kernel.accessAllowed ? 'block' : 'none';\n",
              "\n",
              "        async function convertToInteractive(key) {\n",
              "          const element = document.querySelector('#df-4780ad8b-bbe0-408b-8687-e8a890595ca4');\n",
              "          const dataTable =\n",
              "            await google.colab.kernel.invokeFunction('convertToInteractive',\n",
              "                                                     [key], {});\n",
              "          if (!dataTable) return;\n",
              "\n",
              "          const docLinkHtml = 'Like what you see? Visit the ' +\n",
              "            '<a target=\"_blank\" href=https://colab.research.google.com/notebooks/data_table.ipynb>data table notebook</a>'\n",
              "            + ' to learn more about interactive tables.';\n",
              "          element.innerHTML = '';\n",
              "          dataTable['output_type'] = 'display_data';\n",
              "          await google.colab.output.renderOutput(dataTable, element);\n",
              "          const docLink = document.createElement('div');\n",
              "          docLink.innerHTML = docLinkHtml;\n",
              "          element.appendChild(docLink);\n",
              "        }\n",
              "      </script>\n",
              "    </div>\n",
              "  </div>\n",
              "  "
            ]
          },
          "metadata": {},
          "execution_count": 23
        }
      ],
      "source": [
        "ride_share_data.query('product_id==\"6d318bcc-22a3-4af6-bddd-b409bfce1546\"')"
      ]
    },
    {
      "cell_type": "code",
      "execution_count": null,
      "metadata": {
        "colab": {
          "base_uri": "https://localhost:8080/",
          "height": 424
        },
        "id": "9MwriroIAnLc",
        "outputId": "ae8e3e5c-1765-46b9-d563-d8c0b77ca571"
      },
      "outputs": [
        {
          "output_type": "execute_result",
          "data": {
            "text/plain": [
              "       cab_type product_id  price  distance  surge_multiplier\n",
              "546625     Lyft   lyft_lux   62.5      4.46              1.75\n",
              "184335     Lyft   lyft_lux   19.5      1.23              1.00\n",
              "184336     Lyft   lyft_lux   16.5      1.18              1.00\n",
              "325880     Lyft   lyft_lux   27.5      3.06              1.00\n",
              "400864     Lyft   lyft_lux   32.5      4.52              1.00\n",
              "...         ...        ...    ...       ...               ...\n",
              "222473     Lyft   lyft_lux   27.5      2.98              1.00\n",
              "343020     Lyft   lyft_lux   16.5      1.14              1.00\n",
              "564634     Lyft   lyft_lux   22.5      2.40              1.00\n",
              "109814     Lyft   lyft_lux   34.0      4.40              1.00\n",
              "20019      Lyft   lyft_lux   26.0      2.80              1.00\n",
              "\n",
              "[44147 rows x 5 columns]"
            ],
            "text/html": [
              "\n",
              "  <div id=\"df-ebb4d874-0bd7-4b26-8a19-3c9c372e6b7e\">\n",
              "    <div class=\"colab-df-container\">\n",
              "      <div>\n",
              "<style scoped>\n",
              "    .dataframe tbody tr th:only-of-type {\n",
              "        vertical-align: middle;\n",
              "    }\n",
              "\n",
              "    .dataframe tbody tr th {\n",
              "        vertical-align: top;\n",
              "    }\n",
              "\n",
              "    .dataframe thead th {\n",
              "        text-align: right;\n",
              "    }\n",
              "</style>\n",
              "<table border=\"1\" class=\"dataframe\">\n",
              "  <thead>\n",
              "    <tr style=\"text-align: right;\">\n",
              "      <th></th>\n",
              "      <th>cab_type</th>\n",
              "      <th>product_id</th>\n",
              "      <th>price</th>\n",
              "      <th>distance</th>\n",
              "      <th>surge_multiplier</th>\n",
              "    </tr>\n",
              "  </thead>\n",
              "  <tbody>\n",
              "    <tr>\n",
              "      <th>546625</th>\n",
              "      <td>Lyft</td>\n",
              "      <td>lyft_lux</td>\n",
              "      <td>62.5</td>\n",
              "      <td>4.46</td>\n",
              "      <td>1.75</td>\n",
              "    </tr>\n",
              "    <tr>\n",
              "      <th>184335</th>\n",
              "      <td>Lyft</td>\n",
              "      <td>lyft_lux</td>\n",
              "      <td>19.5</td>\n",
              "      <td>1.23</td>\n",
              "      <td>1.00</td>\n",
              "    </tr>\n",
              "    <tr>\n",
              "      <th>184336</th>\n",
              "      <td>Lyft</td>\n",
              "      <td>lyft_lux</td>\n",
              "      <td>16.5</td>\n",
              "      <td>1.18</td>\n",
              "      <td>1.00</td>\n",
              "    </tr>\n",
              "    <tr>\n",
              "      <th>325880</th>\n",
              "      <td>Lyft</td>\n",
              "      <td>lyft_lux</td>\n",
              "      <td>27.5</td>\n",
              "      <td>3.06</td>\n",
              "      <td>1.00</td>\n",
              "    </tr>\n",
              "    <tr>\n",
              "      <th>400864</th>\n",
              "      <td>Lyft</td>\n",
              "      <td>lyft_lux</td>\n",
              "      <td>32.5</td>\n",
              "      <td>4.52</td>\n",
              "      <td>1.00</td>\n",
              "    </tr>\n",
              "    <tr>\n",
              "      <th>...</th>\n",
              "      <td>...</td>\n",
              "      <td>...</td>\n",
              "      <td>...</td>\n",
              "      <td>...</td>\n",
              "      <td>...</td>\n",
              "    </tr>\n",
              "    <tr>\n",
              "      <th>222473</th>\n",
              "      <td>Lyft</td>\n",
              "      <td>lyft_lux</td>\n",
              "      <td>27.5</td>\n",
              "      <td>2.98</td>\n",
              "      <td>1.00</td>\n",
              "    </tr>\n",
              "    <tr>\n",
              "      <th>343020</th>\n",
              "      <td>Lyft</td>\n",
              "      <td>lyft_lux</td>\n",
              "      <td>16.5</td>\n",
              "      <td>1.14</td>\n",
              "      <td>1.00</td>\n",
              "    </tr>\n",
              "    <tr>\n",
              "      <th>564634</th>\n",
              "      <td>Lyft</td>\n",
              "      <td>lyft_lux</td>\n",
              "      <td>22.5</td>\n",
              "      <td>2.40</td>\n",
              "      <td>1.00</td>\n",
              "    </tr>\n",
              "    <tr>\n",
              "      <th>109814</th>\n",
              "      <td>Lyft</td>\n",
              "      <td>lyft_lux</td>\n",
              "      <td>34.0</td>\n",
              "      <td>4.40</td>\n",
              "      <td>1.00</td>\n",
              "    </tr>\n",
              "    <tr>\n",
              "      <th>20019</th>\n",
              "      <td>Lyft</td>\n",
              "      <td>lyft_lux</td>\n",
              "      <td>26.0</td>\n",
              "      <td>2.80</td>\n",
              "      <td>1.00</td>\n",
              "    </tr>\n",
              "  </tbody>\n",
              "</table>\n",
              "<p>44147 rows × 5 columns</p>\n",
              "</div>\n",
              "      <button class=\"colab-df-convert\" onclick=\"convertToInteractive('df-ebb4d874-0bd7-4b26-8a19-3c9c372e6b7e')\"\n",
              "              title=\"Convert this dataframe to an interactive table.\"\n",
              "              style=\"display:none;\">\n",
              "        \n",
              "  <svg xmlns=\"http://www.w3.org/2000/svg\" height=\"24px\"viewBox=\"0 0 24 24\"\n",
              "       width=\"24px\">\n",
              "    <path d=\"M0 0h24v24H0V0z\" fill=\"none\"/>\n",
              "    <path d=\"M18.56 5.44l.94 2.06.94-2.06 2.06-.94-2.06-.94-.94-2.06-.94 2.06-2.06.94zm-11 1L8.5 8.5l.94-2.06 2.06-.94-2.06-.94L8.5 2.5l-.94 2.06-2.06.94zm10 10l.94 2.06.94-2.06 2.06-.94-2.06-.94-.94-2.06-.94 2.06-2.06.94z\"/><path d=\"M17.41 7.96l-1.37-1.37c-.4-.4-.92-.59-1.43-.59-.52 0-1.04.2-1.43.59L10.3 9.45l-7.72 7.72c-.78.78-.78 2.05 0 2.83L4 21.41c.39.39.9.59 1.41.59.51 0 1.02-.2 1.41-.59l7.78-7.78 2.81-2.81c.8-.78.8-2.07 0-2.86zM5.41 20L4 18.59l7.72-7.72 1.47 1.35L5.41 20z\"/>\n",
              "  </svg>\n",
              "      </button>\n",
              "      \n",
              "  <style>\n",
              "    .colab-df-container {\n",
              "      display:flex;\n",
              "      flex-wrap:wrap;\n",
              "      gap: 12px;\n",
              "    }\n",
              "\n",
              "    .colab-df-convert {\n",
              "      background-color: #E8F0FE;\n",
              "      border: none;\n",
              "      border-radius: 50%;\n",
              "      cursor: pointer;\n",
              "      display: none;\n",
              "      fill: #1967D2;\n",
              "      height: 32px;\n",
              "      padding: 0 0 0 0;\n",
              "      width: 32px;\n",
              "    }\n",
              "\n",
              "    .colab-df-convert:hover {\n",
              "      background-color: #E2EBFA;\n",
              "      box-shadow: 0px 1px 2px rgba(60, 64, 67, 0.3), 0px 1px 3px 1px rgba(60, 64, 67, 0.15);\n",
              "      fill: #174EA6;\n",
              "    }\n",
              "\n",
              "    [theme=dark] .colab-df-convert {\n",
              "      background-color: #3B4455;\n",
              "      fill: #D2E3FC;\n",
              "    }\n",
              "\n",
              "    [theme=dark] .colab-df-convert:hover {\n",
              "      background-color: #434B5C;\n",
              "      box-shadow: 0px 1px 3px 1px rgba(0, 0, 0, 0.15);\n",
              "      filter: drop-shadow(0px 1px 2px rgba(0, 0, 0, 0.3));\n",
              "      fill: #FFFFFF;\n",
              "    }\n",
              "  </style>\n",
              "\n",
              "      <script>\n",
              "        const buttonEl =\n",
              "          document.querySelector('#df-ebb4d874-0bd7-4b26-8a19-3c9c372e6b7e button.colab-df-convert');\n",
              "        buttonEl.style.display =\n",
              "          google.colab.kernel.accessAllowed ? 'block' : 'none';\n",
              "\n",
              "        async function convertToInteractive(key) {\n",
              "          const element = document.querySelector('#df-ebb4d874-0bd7-4b26-8a19-3c9c372e6b7e');\n",
              "          const dataTable =\n",
              "            await google.colab.kernel.invokeFunction('convertToInteractive',\n",
              "                                                     [key], {});\n",
              "          if (!dataTable) return;\n",
              "\n",
              "          const docLinkHtml = 'Like what you see? Visit the ' +\n",
              "            '<a target=\"_blank\" href=https://colab.research.google.com/notebooks/data_table.ipynb>data table notebook</a>'\n",
              "            + ' to learn more about interactive tables.';\n",
              "          element.innerHTML = '';\n",
              "          dataTable['output_type'] = 'display_data';\n",
              "          await google.colab.output.renderOutput(dataTable, element);\n",
              "          const docLink = document.createElement('div');\n",
              "          docLink.innerHTML = docLinkHtml;\n",
              "          element.appendChild(docLink);\n",
              "        }\n",
              "      </script>\n",
              "    </div>\n",
              "  </div>\n",
              "  "
            ]
          },
          "metadata": {},
          "execution_count": 24
        }
      ],
      "source": [
        "ride_share_data.query('product_id==\"lyft_lux\"')"
      ]
    },
    {
      "cell_type": "markdown",
      "metadata": {
        "id": "erbDO85VA48r"
      },
      "source": [
        "# E. Eksplorasi Data"
      ]
    },
    {
      "cell_type": "markdown",
      "metadata": {
        "id": "kmBXJ0AiBKG3"
      },
      "source": [
        "## Visualisasi Data Numerik\n",
        "1. Visualisasi distribusi tarif perjalanan menggunakan histogram"
      ]
    },
    {
      "cell_type": "code",
      "execution_count": null,
      "metadata": {
        "colab": {
          "base_uri": "https://localhost:8080/",
          "height": 620
        },
        "id": "SqS9r411BHgf",
        "outputId": "37a0785f-ecdf-4c82-9920-1bf16e8e0e8b"
      },
      "outputs": [
        {
          "output_type": "stream",
          "name": "stderr",
          "text": [
            "<ipython-input-25-ab180877a145>:1: MatplotlibDeprecationWarning: The seaborn styles shipped by Matplotlib are deprecated since 3.6, as they no longer correspond to the styles shipped by seaborn. However, they will remain available as 'seaborn-v0_8-<style>'. Alternatively, directly use the seaborn API instead.\n",
            "  plt.style.use('seaborn')\n"
          ]
        },
        {
          "output_type": "display_data",
          "data": {
            "text/plain": [
              "<Figure size 800x600 with 1 Axes>"
            ],
            "image/png": "[encoded data removed]"
          },
          "metadata": {}
        }
      ],
      "source": [
        "plt.style.use('seaborn')\n",
        "plt.figure(figsize=(8,6))\n",
        "plt.hist(ride_share_data['price'],20,color='forestgreen')\n",
        "plt.title('Distribusi Tarif Perjalanan',size=15)\n",
        "plt.xlabel('Price',size=10)\n",
        "plt.ylabel('Count',size=10)\n",
        "plt.grid(True)\n",
        "plt.legend(['Distribusi Tarif Perjalanan'],loc=0)\n",
        "plt.show()"
      ]
    },
    {
      "cell_type": "markdown",
      "metadata": {
        "id": "4BtaPhPdB3eg"
      },
      "source": [
        "**Analisis**\n",
        "\n",
        "Berdasarkan visualisasi histogram dari distribusi tarif perjalanan, didapatkan bahwa tarif perjalanan dari pengguna taxi lyft dan uber paling banyak berorientasi pada range harga 5 - 35"
      ]
    },
    {
      "cell_type": "markdown",
      "metadata": {
        "id": "NRpnkXNqBhb1"
      },
      "source": [
        "2. Visualisasi jumlah data durasi perjalanan"
      ]
    },
    {
      "cell_type": "code",
      "execution_count": null,
      "metadata": {
        "colab": {
          "base_uri": "https://localhost:8080/",
          "height": 620
        },
        "id": "TafJ3a5DBnsQ",
        "outputId": "bbe00fb4-e298-4afb-bb6b-111c7989b7fd"
      },
      "outputs": [
        {
          "output_type": "stream",
          "name": "stderr",
          "text": [
            "<ipython-input-26-3b1f4225de84>:1: MatplotlibDeprecationWarning: The seaborn styles shipped by Matplotlib are deprecated since 3.6, as they no longer correspond to the styles shipped by seaborn. However, they will remain available as 'seaborn-v0_8-<style>'. Alternatively, directly use the seaborn API instead.\n",
            "  plt.style.use('seaborn')\n"
          ]
        },
        {
          "output_type": "display_data",
          "data": {
            "text/plain": [
              "<Figure size 800x600 with 1 Axes>"
            ],
            "image/png": "[encoded data removed]"
          },
          "metadata": {}
        }
      ],
      "source": [
        "plt.style.use('seaborn')\n",
        "plt.figure(figsize=(8,6))\n",
        "plt.hist(ride_share_data['distance'],20,color='limegreen')\n",
        "plt.title('Distribusi Durasi Perjalanan',size=15)\n",
        "plt.xlabel('Distance',size=10)\n",
        "plt.ylabel('Count',size=10)\n",
        "plt.grid(True)\n",
        "plt.legend(['Distribusi Durasi Perjalanan'],loc=0)\n",
        "plt.show()"
      ]
    },
    {
      "cell_type": "markdown",
      "metadata": {
        "id": "F0VnbMj3CtNW"
      },
      "source": [
        "**Analisis**\n",
        "\n",
        "Berdasarkan visualisasi histogram dari jaraki perjalanan, didapatkan bahwa jarak perjalanan dari pengguna taxi lyft dan uber paling banyak berorientasi pada angka 1-3"
      ]
    },
    {
      "cell_type": "markdown",
      "metadata": {
        "id": "s7aVf66oBuqn"
      },
      "source": [
        "## Visualisasi Data Kategorik\n",
        "1. Visualisasi rata-rata harga uber dan lyft berdasarkan setiap tipe produk"
      ]
    },
    {
      "cell_type": "code",
      "execution_count": null,
      "metadata": {
        "colab": {
          "base_uri": "https://localhost:8080/"
        },
        "id": "8edq_uo5BsCw",
        "outputId": "e97e1ef4-de1c-481e-d430-71233022f386"
      },
      "outputs": [
        {
          "output_type": "execute_result",
          "data": {
            "text/plain": [
              "cab_type  product_id                          \n",
              "Lyft      lyft                                     9.611412\n",
              "          lyft_line                                6.029971\n",
              "          lyft_lux                                23.071697\n",
              "          lyft_luxsuv                             32.325789\n",
              "          lyft_plus                               15.314168\n",
              "          lyft_premier                            17.774149\n",
              "Uber      55c66225-fbe7-4fd5-9072-eab1ece5e23e     9.761244\n",
              "          6c84fd89-3f11-4782-9b50-97c468b19529    20.517430\n",
              "          6d318bcc-22a3-4af6-bddd-b409bfce1546    30.283069\n",
              "          6f72dfc5-27f1-42e8-84db-ccc7a75f6969    15.674741\n",
              "          8cf7e821-f0d3-49c6-8eba-e679c0ebcf6a     3.176040\n",
              "          997acbb5-e102-41e1-b155-9df7de0a73f2     8.748375\n",
              "          9a0e7b09-b92b-4c41-9779-2ad22b4d779d     9.761192\n",
              "Name: price, dtype: float64"
            ]
          },
          "metadata": {},
          "execution_count": 27
        }
      ],
      "source": [
        "ride_share_data.groupby(['cab_type', 'product_id']).mean()['price']"
      ]
    },
    {
      "cell_type": "code",
      "execution_count": null,
      "metadata": {
        "colab": {
          "base_uri": "https://localhost:8080/",
          "height": 541
        },
        "id": "H59phqbcxr3f",
        "outputId": "e7536a48-be86-4501-f48a-4786c21b57db"
      },
      "outputs": [
        {
          "output_type": "execute_result",
          "data": {
            "text/plain": [
              "<function matplotlib.pyplot.show(close=None, block=None)>"
            ]
          },
          "metadata": {},
          "execution_count": 28
        },
        {
          "output_type": "display_data",
          "data": {
            "text/plain": [
              "<Figure size 800x550 with 1 Axes>"
            ],
            "image/png": "[encoded data removed]"
          },
          "metadata": {}
        }
      ],
      "source": [
        "sns.barplot(data=ride_share_data, x=\"price\",y=\"product_id\", hue=\"cab_type\")\n",
        "plt.title('Average Uber and Lyft Price by Product ID')\n",
        "plt.show"
      ]
    },
    {
      "cell_type": "markdown",
      "metadata": {
        "id": "Wyox4MkWDc4u"
      },
      "source": [
        "**Analisis**\n",
        "\n",
        "Berdasarkan visualisasi barplot dari rata-rata harga uber dan lyft berdasarkan tipe produk, didapatkan bahwa taxi lyft_luxsuv memiliki rata-rata harga paling mahal jika dibandingkan dengan tipe taxi lyft lainnya, dan rata-rata harga paling murah dari taxi lyft terdapat pada taxi lyft_line. Sedangkan, pada taxi uber 6d318bcc-22a3-4af6-bddd-b409bfce1546 merupakan tipe yang memiliki rata-rata harga paling mahal dan tipe 8cf7e821-f0d3-49c6-8eba-e679c0ebcf6a dengan rata-rata harga paling murah."
      ]
    },
    {
      "cell_type": "markdown",
      "metadata": {
        "id": "dA1ulIUcsw57"
      },
      "source": [
        "2. Visualisasi Jumlah Pengguna Uber dan Lyft"
      ]
    },
    {
      "cell_type": "code",
      "execution_count": null,
      "metadata": {
        "colab": {
          "base_uri": "https://localhost:8080/"
        },
        "id": "mkBe3RgSs3LL",
        "outputId": "29ec6f73-9d2b-4a2a-953b-cf51a6b5f703"
      },
      "outputs": [
        {
          "output_type": "execute_result",
          "data": {
            "text/plain": [
              "Uber    330579\n",
              "Lyft    264875\n",
              "Name: cab_type, dtype: int64"
            ]
          },
          "metadata": {},
          "execution_count": 29
        }
      ],
      "source": [
        "cabtype_count = ride_share_data['cab_type'].value_counts()\n",
        "cabtype_count"
      ]
    },
    {
      "cell_type": "code",
      "execution_count": null,
      "metadata": {
        "colab": {
          "base_uri": "https://localhost:8080/",
          "height": 694
        },
        "id": "JmvfLLcWuh3m",
        "outputId": "40f88028-6f3d-4db5-d852-4f2ed6424f67"
      },
      "outputs": [
        {
          "output_type": "execute_result",
          "data": {
            "text/plain": [
              "Text(0.5, 1.0, 'Total Each Type of Cab')"
            ]
          },
          "metadata": {},
          "execution_count": 30
        },
        {
          "output_type": "display_data",
          "data": {
            "text/plain": [
              "<Figure size 1500x1000 with 1 Axes>"
            ],
            "image/png": "[encoded data removed]"
          },
          "metadata": {}
        }
      ],
      "source": [
        "cabtype_count.plot(kind='bar', figsize=(15,10), color=['pink', 'lightsteelblue'])\n",
        "\n",
        "plt.xlabel('Cab Type')  \n",
        "plt.ylabel('Count')  \n",
        "plt.title('Total Each Type of Cab')"
      ]
    },
    {
      "cell_type": "markdown",
      "metadata": {
        "id": "eAgzdMtIw3x2"
      },
      "source": [
        "**Analisis**\n",
        "\n",
        "Berdasarkan visualisasi dari jumlah pengguna setiap taxi, didapatkan bahwa taxi uber memiliki jumlah pengguna lebih besar, yaitu sebanyak 385663 pengguna, sedangkan taxi lyft memiliki 307408 pengguna."
      ]
    },
    {
      "cell_type": "markdown",
      "metadata": {
        "id": "XS66NGfMDh68"
      },
      "source": [
        "# F. Data Preprocessing"
      ]
    },
    {
      "cell_type": "code",
      "execution_count": null,
      "metadata": {
        "colab": {
          "base_uri": "https://localhost:8080/"
        },
        "id": "WQhiHKCYAeaa",
        "outputId": "5d06c26b-c69a-44ac-c8cd-14bd172d6081"
      },
      "outputs": [
        {
          "output_type": "stream",
          "name": "stdout",
          "text": [
            "<class 'pandas.core.frame.DataFrame'>\n",
            "Int64Index: 595454 entries, 276564 to 204553\n",
            "Data columns (total 4 columns):\n",
            " #   Column            Non-Null Count   Dtype  \n",
            "---  ------            --------------   -----  \n",
            " 0   cab_type          595454 non-null  object \n",
            " 1   price             595454 non-null  float64\n",
            " 2   distance          595454 non-null  float64\n",
            " 3   surge_multiplier  595454 non-null  float64\n",
            "dtypes: float64(3), object(1)\n",
            "memory usage: 22.7+ MB\n"
          ]
        }
      ],
      "source": [
        "#Memilih data yang akan digunakan untuk modelling\n",
        "data_modelling = ride_share_data[['cab_type','price','distance','surge_multiplier']]\n",
        "\n",
        "#Melihat informasi data yang akan digunakan\n",
        "data_modelling.info()"
      ]
    },
    {
      "cell_type": "markdown",
      "metadata": {
        "id": "QCWA2cyVJrQ_"
      },
      "source": [
        "## Melakukan Encoding Data"
      ]
    },
    {
      "cell_type": "code",
      "execution_count": null,
      "metadata": {
        "colab": {
          "base_uri": "https://localhost:8080/",
          "height": 206
        },
        "id": "hVgFhOhzolzn",
        "outputId": "b60c6856-21e1-4a16-aa43-bffc79289397"
      },
      "outputs": [
        {
          "output_type": "execute_result",
          "data": {
            "text/plain": [
              "        price  distance  surge_multiplier  cab_type_Lyft  cab_type_Uber\n",
              "276564   17.5      2.19               1.0              0              1\n",
              "325884   16.5      2.96               1.0              1              0\n",
              "276566   13.0      2.19               1.0              0              1\n",
              "325885   11.0      2.96               1.0              1              0\n",
              "261363   16.5      2.30               1.0              1              0"
            ],
            "text/html": [
              "\n",
              "  <div id=\"df-903dfd18-8a62-4561-b94b-9b4abe33b570\">\n",
              "    <div class=\"colab-df-container\">\n",
              "      <div>\n",
              "<style scoped>\n",
              "    .dataframe tbody tr th:only-of-type {\n",
              "        vertical-align: middle;\n",
              "    }\n",
              "\n",
              "    .dataframe tbody tr th {\n",
              "        vertical-align: top;\n",
              "    }\n",
              "\n",
              "    .dataframe thead th {\n",
              "        text-align: right;\n",
              "    }\n",
              "</style>\n",
              "<table border=\"1\" class=\"dataframe\">\n",
              "  <thead>\n",
              "    <tr style=\"text-align: right;\">\n",
              "      <th></th>\n",
              "      <th>price</th>\n",
              "      <th>distance</th>\n",
              "      <th>surge_multiplier</th>\n",
              "      <th>cab_type_Lyft</th>\n",
              "      <th>cab_type_Uber</th>\n",
              "    </tr>\n",
              "  </thead>\n",
              "  <tbody>\n",
              "    <tr>\n",
              "      <th>276564</th>\n",
              "      <td>17.5</td>\n",
              "      <td>2.19</td>\n",
              "      <td>1.0</td>\n",
              "      <td>0</td>\n",
              "      <td>1</td>\n",
              "    </tr>\n",
              "    <tr>\n",
              "      <th>325884</th>\n",
              "      <td>16.5</td>\n",
              "      <td>2.96</td>\n",
              "      <td>1.0</td>\n",
              "      <td>1</td>\n",
              "      <td>0</td>\n",
              "    </tr>\n",
              "    <tr>\n",
              "      <th>276566</th>\n",
              "      <td>13.0</td>\n",
              "      <td>2.19</td>\n",
              "      <td>1.0</td>\n",
              "      <td>0</td>\n",
              "      <td>1</td>\n",
              "    </tr>\n",
              "    <tr>\n",
              "      <th>325885</th>\n",
              "      <td>11.0</td>\n",
              "      <td>2.96</td>\n",
              "      <td>1.0</td>\n",
              "      <td>1</td>\n",
              "      <td>0</td>\n",
              "    </tr>\n",
              "    <tr>\n",
              "      <th>261363</th>\n",
              "      <td>16.5</td>\n",
              "      <td>2.30</td>\n",
              "      <td>1.0</td>\n",
              "      <td>1</td>\n",
              "      <td>0</td>\n",
              "    </tr>\n",
              "  </tbody>\n",
              "</table>\n",
              "</div>\n",
              "      <button class=\"colab-df-convert\" onclick=\"convertToInteractive('df-903dfd18-8a62-4561-b94b-9b4abe33b570')\"\n",
              "              title=\"Convert this dataframe to an interactive table.\"\n",
              "              style=\"display:none;\">\n",
              "        \n",
              "  <svg xmlns=\"http://www.w3.org/2000/svg\" height=\"24px\"viewBox=\"0 0 24 24\"\n",
              "       width=\"24px\">\n",
              "    <path d=\"M0 0h24v24H0V0z\" fill=\"none\"/>\n",
              "    <path d=\"M18.56 5.44l.94 2.06.94-2.06 2.06-.94-2.06-.94-.94-2.06-.94 2.06-2.06.94zm-11 1L8.5 8.5l.94-2.06 2.06-.94-2.06-.94L8.5 2.5l-.94 2.06-2.06.94zm10 10l.94 2.06.94-2.06 2.06-.94-2.06-.94-.94-2.06-.94 2.06-2.06.94z\"/><path d=\"M17.41 7.96l-1.37-1.37c-.4-.4-.92-.59-1.43-.59-.52 0-1.04.2-1.43.59L10.3 9.45l-7.72 7.72c-.78.78-.78 2.05 0 2.83L4 21.41c.39.39.9.59 1.41.59.51 0 1.02-.2 1.41-.59l7.78-7.78 2.81-2.81c.8-.78.8-2.07 0-2.86zM5.41 20L4 18.59l7.72-7.72 1.47 1.35L5.41 20z\"/>\n",
              "  </svg>\n",
              "      </button>\n",
              "      \n",
              "  <style>\n",
              "    .colab-df-container {\n",
              "      display:flex;\n",
              "      flex-wrap:wrap;\n",
              "      gap: 12px;\n",
              "    }\n",
              "\n",
              "    .colab-df-convert {\n",
              "      background-color: #E8F0FE;\n",
              "      border: none;\n",
              "      border-radius: 50%;\n",
              "      cursor: pointer;\n",
              "      display: none;\n",
              "      fill: #1967D2;\n",
              "      height: 32px;\n",
              "      padding: 0 0 0 0;\n",
              "      width: 32px;\n",
              "    }\n",
              "\n",
              "    .colab-df-convert:hover {\n",
              "      background-color: #E2EBFA;\n",
              "      box-shadow: 0px 1px 2px rgba(60, 64, 67, 0.3), 0px 1px 3px 1px rgba(60, 64, 67, 0.15);\n",
              "      fill: #174EA6;\n",
              "    }\n",
              "\n",
              "    [theme=dark] .colab-df-convert {\n",
              "      background-color: #3B4455;\n",
              "      fill: #D2E3FC;\n",
              "    }\n",
              "\n",
              "    [theme=dark] .colab-df-convert:hover {\n",
              "      background-color: #434B5C;\n",
              "      box-shadow: 0px 1px 3px 1px rgba(0, 0, 0, 0.15);\n",
              "      filter: drop-shadow(0px 1px 2px rgba(0, 0, 0, 0.3));\n",
              "      fill: #FFFFFF;\n",
              "    }\n",
              "  </style>\n",
              "\n",
              "      <script>\n",
              "        const buttonEl =\n",
              "          document.querySelector('#df-903dfd18-8a62-4561-b94b-9b4abe33b570 button.colab-df-convert');\n",
              "        buttonEl.style.display =\n",
              "          google.colab.kernel.accessAllowed ? 'block' : 'none';\n",
              "\n",
              "        async function convertToInteractive(key) {\n",
              "          const element = document.querySelector('#df-903dfd18-8a62-4561-b94b-9b4abe33b570');\n",
              "          const dataTable =\n",
              "            await google.colab.kernel.invokeFunction('convertToInteractive',\n",
              "                                                     [key], {});\n",
              "          if (!dataTable) return;\n",
              "\n",
              "          const docLinkHtml = 'Like what you see? Visit the ' +\n",
              "            '<a target=\"_blank\" href=https://colab.research.google.com/notebooks/data_table.ipynb>data table notebook</a>'\n",
              "            + ' to learn more about interactive tables.';\n",
              "          element.innerHTML = '';\n",
              "          dataTable['output_type'] = 'display_data';\n",
              "          await google.colab.output.renderOutput(dataTable, element);\n",
              "          const docLink = document.createElement('div');\n",
              "          docLink.innerHTML = docLinkHtml;\n",
              "          element.appendChild(docLink);\n",
              "        }\n",
              "      </script>\n",
              "    </div>\n",
              "  </div>\n",
              "  "
            ]
          },
          "metadata": {},
          "execution_count": 337
        }
      ],
      "source": [
        "#Encoding Data\n",
        "data_modelling = pd.get_dummies(data_modelling)\n",
        "data_modelling.head()"
      ]
    },
    {
      "cell_type": "markdown",
      "metadata": {
        "id": "XW5dIJ_qJ0AB"
      },
      "source": [
        "## Menentukan variabel prediktor dan variabel respon"
      ]
    },
    {
      "cell_type": "code",
      "execution_count": null,
      "metadata": {
        "id": "rCmdp6FRpzPF"
      },
      "outputs": [],
      "source": [
        "#Predictors\n",
        "X = data_modelling[['price','distance','surge_multiplier']]\n",
        "\n",
        "#Respons\n",
        "y = data_modelling['cab_type_Lyft']"
      ]
    },
    {
      "cell_type": "markdown",
      "metadata": {
        "id": "41my-YMgJ_Qy"
      },
      "source": [
        "## Korelasi antara variabel prediktor dengan variabel respon"
      ]
    },
    {
      "cell_type": "code",
      "execution_count": null,
      "metadata": {
        "colab": {
          "base_uri": "https://localhost:8080/",
          "height": 506
        },
        "id": "N5LjO6pIC4GS",
        "outputId": "64a5cde3-e32e-4556-8f47-94dca4acfb0b"
      },
      "outputs": [
        {
          "output_type": "execute_result",
          "data": {
            "text/plain": [
              "<Axes: >"
            ]
          },
          "metadata": {},
          "execution_count": 34
        },
        {
          "output_type": "display_data",
          "data": {
            "text/plain": [
              "<Figure size 800x550 with 2 Axes>"
            ],
            "image/png": "[encoded data removed]"
          },
          "metadata": {}
        }
      ],
      "source": [
        "#Menghitung matriks korelasi\n",
        "correlation_matrix = X.corr()\n",
        "\n",
        "#Visualisasi matriks korelasi menggunakan heatmap\n",
        "sns.heatmap(correlation_matrix, annot=True, cmap='coolwarm')"
      ]
    },
    {
      "cell_type": "code",
      "execution_count": null,
      "metadata": {
        "colab": {
          "base_uri": "https://localhost:8080/"
        },
        "id": "nWUv5lYQC-fc",
        "outputId": "94f1d700-fc26-44b0-b282-09199aa7acab"
      },
      "outputs": [
        {
          "output_type": "stream",
          "name": "stdout",
          "text": [
            "Korelasi dengan variabel respon:\n",
            "price               0.173225\n",
            "distance           -0.001205\n",
            "surge_multiplier    0.169218\n",
            "dtype: float64\n"
          ]
        }
      ],
      "source": [
        "#Menampilkan korelasi antara variabel prediktor dan variabel respon\n",
        "correlation_with_target = X.corrwith(y)\n",
        "print(\"Korelasi dengan variabel respon:\")\n",
        "print(correlation_with_target)"
      ]
    },
    {
      "cell_type": "markdown",
      "metadata": {
        "id": "1oRganhTGiYI"
      },
      "source": [
        "**Analisis**\n",
        "\n",
        "Berdasarkan hasil korelasi varibel prediktor dengan variabel respon, didapatkan informasi sebagai berikut:\n",
        "\n",
        "* Korelasi antara price dan cab_type_lyft menghasilkan nilai positif, artinya terdapat hubungan positif antara keduanya. Sehingga, semakin tinggi nilai price, kemungkinan nilai cab_type_lyft juga meningkat.\n",
        "* Korelasi antara distance dan cab_type_lyft menghasilkan nilai negatif, artinya terdapat hubungan yang lemah antara keduanya dan menunjukkan kecenderungan bahwa semakin jauh jaraknya, kemungkinan semakin sedikit pengguna taxi lyft.\n",
        "* Korelasi antara surge_multiplier dan cab_type_lyft menghasilkan nilai positif, artinya terdapat hubungan positif antara keduanya. Sehingga, semakin tinggi nilai surge_multiplier, kemungkinan nilai cab_type_lyft juga meningkat."
      ]
    },
    {
      "cell_type": "markdown",
      "metadata": {
        "id": "Cr9tvLRJKHx3"
      },
      "source": [
        "## Mengecek Multikolinearitas pada Variabel Prediktor"
      ]
    },
    {
      "cell_type": "code",
      "execution_count": null,
      "metadata": {
        "colab": {
          "base_uri": "https://localhost:8080/"
        },
        "id": "cwBFCmMDHa0a",
        "outputId": "95c5adae-c609-4967-c838-74a2f6abbe5b"
      },
      "outputs": [
        {
          "output_type": "stream",
          "name": "stdout",
          "text": [
            "            Feature       VIF\n",
            "0             price  4.132995\n",
            "1          distance  5.056096\n",
            "2  surge_multiplier  5.873394\n"
          ]
        }
      ],
      "source": [
        "def calculate_vif(X):\n",
        "    vif = pd.DataFrame()\n",
        "    vif[\"Feature\"] = X.columns\n",
        "    vif[\"VIF\"] = [variance_inflation_factor(X.values, i) for i in range(X.shape[1])]\n",
        "    return vif\n",
        "\n",
        "# Menghitung VIF untuk variabel prediktor\n",
        "vif_prediktor = calculate_vif(X)\n",
        "\n",
        "# Menampilkan hasil VIF untuk variabel prediktor\n",
        "print(vif_prediktor)"
      ]
    },
    {
      "cell_type": "markdown",
      "metadata": {
        "id": "ikY_LvmkJc9J"
      },
      "source": [
        "**Analisis**\n",
        "\n",
        "Berdasarkan hasil analisis multikolinearitas, didapatkan bahwa ketiga variabel prediktor memiliki nilai VIF di bawah angka 5. Artinya, tidak ada tanda multikolinearitas dan pemodelan dapat dilanjutkan."
      ]
    },
    {
      "cell_type": "markdown",
      "metadata": {
        "id": "xkP7Ip9iKbG5"
      },
      "source": [
        "## Data Latih dan Data Uji "
      ]
    },
    {
      "cell_type": "code",
      "execution_count": null,
      "metadata": {
        "id": "uCc9IZ-sqMM6"
      },
      "outputs": [],
      "source": [
        "X_train, X_test, y_train, y_test = train_test_split(X, y, test_size=0.3)"
      ]
    },
    {
      "cell_type": "markdown",
      "metadata": {
        "id": "xHQu9dw9rGuc"
      },
      "source": [
        "# G. Pendefinisian Model\n",
        "Menggunakan metode _Logistic Regression Model, K-Nearest Neighbors, Decision Tree, Random Forest, dan Naive Bayes_, kami berharap mendapatkan output untuk membantu menemukan probabilitas Sehingga, variabel respon yang kami gunakan memiliki tipe kategorik, dengan y=1 mengartikan pengguna menggunakan jasa taxi lyft dan y=0 mengartikan pengguna menggunakan jas ataxi uber.\n",
        "\n",
        "Parameter yang kami gunakan adalah harga (price), jarak (distance), dan lonjakan harga (surge_multiplier).\n",
        "\n",
        "Kami juga akan melakukan pemodelan menggunakan metode lainnya untuk mendapatkan model terbaik dari output yang diharapkan."
      ]
    },
    {
      "cell_type": "markdown",
      "metadata": {
        "id": "uzerMBNnxlLt"
      },
      "source": [
        "## Logistic Regression Model"
      ]
    },
    {
      "cell_type": "code",
      "execution_count": null,
      "metadata": {
        "id": "8hDh6xv5qfWM"
      },
      "outputs": [],
      "source": [
        "model_logit = LogisticRegression()"
      ]
    },
    {
      "cell_type": "markdown",
      "metadata": {
        "id": "P2DwzzBnxg7y"
      },
      "source": [
        "## K-Nearest Neighbors"
      ]
    },
    {
      "cell_type": "code",
      "execution_count": null,
      "metadata": {
        "id": "ITHN47fiyAfJ"
      },
      "outputs": [],
      "source": [
        "model_knn = KNeighborsClassifier(n_neighbors=5)"
      ]
    },
    {
      "cell_type": "markdown",
      "metadata": {
        "id": "UFHjoFxcZZip"
      },
      "source": [
        "## Support Vector Machine Model\n"
      ]
    },
    {
      "cell_type": "code",
      "execution_count": null,
      "metadata": {
        "id": "kJYk5KTUZkUr"
      },
      "outputs": [],
      "source": [
        "model_svm = SVR()"
      ]
    },
    {
      "cell_type": "markdown",
      "metadata": {
        "id": "7WV9yxFOyBrn"
      },
      "source": [
        "## Decision Tree"
      ]
    },
    {
      "cell_type": "code",
      "execution_count": null,
      "metadata": {
        "id": "7HpCjAQkyat9"
      },
      "outputs": [],
      "source": [
        "model_dt = DecisionTreeClassifier()"
      ]
    },
    {
      "cell_type": "markdown",
      "metadata": {
        "id": "5YgoPmZiVWiR"
      },
      "source": [
        "## Random Forest"
      ]
    },
    {
      "cell_type": "code",
      "execution_count": null,
      "metadata": {
        "id": "Dk9UF4FyVWiS"
      },
      "outputs": [],
      "source": [
        "model_rf = RandomForestRegressor()"
      ]
    },
    {
      "cell_type": "markdown",
      "metadata": {
        "id": "HcwMMHq8VWiV"
      },
      "source": [
        "## Naive Bayes"
      ]
    },
    {
      "cell_type": "code",
      "execution_count": null,
      "metadata": {
        "id": "IslmHQcWVWiV"
      },
      "outputs": [],
      "source": [
        "model_nb = GaussianNB()"
      ]
    },
    {
      "cell_type": "markdown",
      "metadata": {
        "id": "SJpYJpYSsGkk"
      },
      "source": [
        "# H. Pelatihan Model & I  Evaluasi Model"
      ]
    },
    {
      "cell_type": "markdown",
      "metadata": {
        "id": "yfOoj3P51ro9"
      },
      "source": [
        "## Logistic Regression Model"
      ]
    },
    {
      "cell_type": "code",
      "execution_count": null,
      "metadata": {
        "colab": {
          "base_uri": "https://localhost:8080/"
        },
        "id": "S4E9mL_zrpdA",
        "outputId": "cf28948e-bf82-4164-d5f0-a93218a12ac7"
      },
      "outputs": [
        {
          "output_type": "stream",
          "name": "stdout",
          "text": [
            "Intercept: [-18.84604376]\n",
            "Coefficients:  [[ 0.03443896 -0.10195141 18.25204706]]\n"
          ]
        }
      ],
      "source": [
        "#Melatih data model\n",
        "model_logit.fit(X_train, y_train)\n",
        "\n",
        "print('Intercept:', model_logit.intercept_)\n",
        "print('Coefficients: ', model_logit.coef_)"
      ]
    },
    {
      "cell_type": "markdown",
      "metadata": {
        "id": "Z3vFMF3T5iWh"
      },
      "source": [
        "**Analisis**\n",
        "\n",
        "Berdasarkan hasil pelatihan model diatas, didapatkan nilai log-odds ketika semua variabel prediktor memiliki nilai 0 sebesar -19.39694584. Selain itu juga didapatkan nilai koefisien setiap variabel prediktor, dengan interpretasi sebagai berikut:\n",
        "\n",
        "* Setiap kenaikan angka harga (price), maka akan meningkatkan probabilitas pengguna memilih lyft sebesar 0.03446727\n",
        "* Setiap kenaikan angka jarak (distance), maka akan menurunkan probabilitas pengguna memilih lyft sebesar -0.10075006\n",
        "* Setiap kenaikan angka surge_multiplier (lonjakan harga), maka akan meningkatkan probabilitas pengguna memilih lyft sebesar 18.79647255"
      ]
    },
    {
      "cell_type": "code",
      "execution_count": null,
      "metadata": {
        "id": "_HYQFgVJsBET"
      },
      "outputs": [],
      "source": [
        "#Melakukan prediksi menggunakan data uji\n",
        "y_pred_logit = model_nb.predict(X_test)"
      ]
    },
    {
      "cell_type": "code",
      "execution_count": null,
      "metadata": {
        "id": "Le_KonAR6Shm"
      },
      "outputs": [],
      "source": [
        "#Menghitung RMSE\n",
        "rmse_logit = mean_squared_error(y_test, y_pred_logit, squared=False)"
      ]
    },
    {
      "cell_type": "code",
      "execution_count": null,
      "metadata": {
        "id": "53KhQNYf7IPR"
      },
      "outputs": [],
      "source": [
        "#Menghitung MAE\n",
        "mae_logit = mean_absolute_error(y_test, y_pred_logit)"
      ]
    },
    {
      "cell_type": "code",
      "execution_count": null,
      "metadata": {
        "id": "ndyjMIezIIE1"
      },
      "outputs": [],
      "source": [
        "# Menghitung akurasi model\n",
        "accuracy_logit = accuracy_score(y_test, y_pred_logit)"
      ]
    },
    {
      "cell_type": "code",
      "execution_count": null,
      "metadata": {
        "colab": {
          "base_uri": "https://localhost:8080/"
        },
        "id": "TbPBLh8LIfbj",
        "outputId": "e397e2eb-3f11-4333-87e3-6c88e3fadb3f"
      },
      "outputs": [
        {
          "output_type": "stream",
          "name": "stdout",
          "text": [
            "Accuracy: 0.585069162603492\n",
            "RMSE: 0.6441512535084505\n",
            "MAE: 83.59194343836943\n",
            "Classification Report:\n",
            "              precision    recall  f1-score   support\n",
            "\n",
            "           0       0.59      0.84      0.69     99104\n",
            "           1       0.57      0.26      0.36     79533\n",
            "\n",
            "    accuracy                           0.59    178637\n",
            "   macro avg       0.58      0.55      0.53    178637\n",
            "weighted avg       0.58      0.59      0.55    178637\n",
            "\n"
          ]
        }
      ],
      "source": [
        "# Menampilkan hasil evaluasi\n",
        "print('Accuracy:', accuracy_logit)\n",
        "print('RMSE:', rmse_logit)\n",
        "print('MAE:', mae_logit)\n",
        "print('Classification Report:')\n",
        "print(classification_report(y_test, y_pred_logit))"
      ]
    },
    {
      "cell_type": "markdown",
      "metadata": {
        "id": "RS4J5Ruw5l2D"
      },
      "source": [
        "**Analisis**\n",
        "\n",
        "Berdasarkan hasil evaluasi model diatas, didapatkan beberapa informasi model sebagai berikut:\n",
        "* Model memiliki nilai akurasi sebesar 0.5846326988005117, artinya model mampu melakukan prediksi yang benar sekitar 58.46% dari total data.\n",
        "* RMSE sebesar 0.6444899543045557 menunjukkan tingkat kesalahan rata-rata model.\n",
        "* MAE sebesar 83.51429863121747 menunjukkan kesalahan rata-rata mutlak model."
      ]
    },
    {
      "cell_type": "markdown",
      "metadata": {
        "id": "m8vMoj5D8xRR"
      },
      "source": [
        "## K-Nearest Neighbors"
      ]
    },
    {
      "cell_type": "code",
      "execution_count": null,
      "metadata": {
        "colab": {
          "base_uri": "https://localhost:8080/",
          "height": 75
        },
        "id": "xOjE2qFl5qmC",
        "outputId": "32b2abcb-036a-4803-bf9c-bb4858ab1df1"
      },
      "outputs": [
        {
          "output_type": "execute_result",
          "data": {
            "text/plain": [
              "KNeighborsClassifier()"
            ],
            "text/html": [
              "<style>#sk-container-id-1 {color: black;background-color: white;}#sk-container-id-1 pre{padding: 0;}#sk-container-id-1 div.sk-toggleable {background-color: white;}#sk-container-id-1 label.sk-toggleable__label {cursor: pointer;display: block;width: 100%;margin-bottom: 0;padding: 0.3em;box-sizing: border-box;text-align: center;}#sk-container-id-1 label.sk-toggleable__label-arrow:before {content: \"▸\";float: left;margin-right: 0.25em;color: #696969;}#sk-container-id-1 label.sk-toggleable__label-arrow:hover:before {color: black;}#sk-container-id-1 div.sk-estimator:hover label.sk-toggleable__label-arrow:before {color: black;}#sk-container-id-1 div.sk-toggleable__content {max-height: 0;max-width: 0;overflow: hidden;text-align: left;background-color: #f0f8ff;}#sk-container-id-1 div.sk-toggleable__content pre {margin: 0.2em;color: black;border-radius: 0.25em;background-color: #f0f8ff;}#sk-container-id-1 input.sk-toggleable__control:checked~div.sk-toggleable__content {max-height: 200px;max-width: 100%;overflow: auto;}#sk-container-id-1 input.sk-toggleable__control:checked~label.sk-toggleable__label-arrow:before {content: \"▾\";}#sk-container-id-1 div.sk-estimator input.sk-toggleable__control:checked~label.sk-toggleable__label {background-color: #d4ebff;}#sk-container-id-1 div.sk-label input.sk-toggleable__control:checked~label.sk-toggleable__label {background-color: #d4ebff;}#sk-container-id-1 input.sk-hidden--visually {border: 0;clip: rect(1px 1px 1px 1px);clip: rect(1px, 1px, 1px, 1px);height: 1px;margin: -1px;overflow: hidden;padding: 0;position: absolute;width: 1px;}#sk-container-id-1 div.sk-estimator {font-family: monospace;background-color: #f0f8ff;border: 1px dotted black;border-radius: 0.25em;box-sizing: border-box;margin-bottom: 0.5em;}#sk-container-id-1 div.sk-estimator:hover {background-color: #d4ebff;}#sk-container-id-1 div.sk-parallel-item::after {content: \"\";width: 100%;border-bottom: 1px solid gray;flex-grow: 1;}#sk-container-id-1 div.sk-label:hover label.sk-toggleable__label {background-color: #d4ebff;}#sk-container-id-1 div.sk-serial::before {content: \"\";position: absolute;border-left: 1px solid gray;box-sizing: border-box;top: 0;bottom: 0;left: 50%;z-index: 0;}#sk-container-id-1 div.sk-serial {display: flex;flex-direction: column;align-items: center;background-color: white;padding-right: 0.2em;padding-left: 0.2em;position: relative;}#sk-container-id-1 div.sk-item {position: relative;z-index: 1;}#sk-container-id-1 div.sk-parallel {display: flex;align-items: stretch;justify-content: center;background-color: white;position: relative;}#sk-container-id-1 div.sk-item::before, #sk-container-id-1 div.sk-parallel-item::before {content: \"\";position: absolute;border-left: 1px solid gray;box-sizing: border-box;top: 0;bottom: 0;left: 50%;z-index: -1;}#sk-container-id-1 div.sk-parallel-item {display: flex;flex-direction: column;z-index: 1;position: relative;background-color: white;}#sk-container-id-1 div.sk-parallel-item:first-child::after {align-self: flex-end;width: 50%;}#sk-container-id-1 div.sk-parallel-item:last-child::after {align-self: flex-start;width: 50%;}#sk-container-id-1 div.sk-parallel-item:only-child::after {width: 0;}#sk-container-id-1 div.sk-dashed-wrapped {border: 1px dashed gray;margin: 0 0.4em 0.5em 0.4em;box-sizing: border-box;padding-bottom: 0.4em;background-color: white;}#sk-container-id-1 div.sk-label label {font-family: monospace;font-weight: bold;display: inline-block;line-height: 1.2em;}#sk-container-id-1 div.sk-label-container {text-align: center;}#sk-container-id-1 div.sk-container {/* jupyter's `normalize.less` sets `[hidden] { display: none; }` but bootstrap.min.css set `[hidden] { display: none !important; }` so we also need the `!important` here to be able to override the default hidden behavior on the sphinx rendered scikit-learn.org. See: https://github.com/scikit-learn/scikit-learn/issues/21755 */display: inline-block !important;position: relative;}#sk-container-id-1 div.sk-text-repr-fallback {display: none;}</style><div id=\"sk-container-id-1\" class=\"sk-top-container\"><div class=\"sk-text-repr-fallback\"><pre>KNeighborsClassifier()</pre><b>In a Jupyter environment, please rerun this cell to show the HTML representation or trust the notebook. <br />On GitHub, the HTML representation is unable to render, please try loading this page with nbviewer.org.</b></div><div class=\"sk-container\" hidden><div class=\"sk-item\"><div class=\"sk-estimator sk-toggleable\"><input class=\"sk-toggleable__control sk-hidden--visually\" id=\"sk-estimator-id-1\" type=\"checkbox\" checked><label for=\"sk-estimator-id-1\" class=\"sk-toggleable__label sk-toggleable__label-arrow\">KNeighborsClassifier</label><div class=\"sk-toggleable__content\"><pre>KNeighborsClassifier()</pre></div></div></div></div></div>"
            ]
          },
          "metadata": {},
          "execution_count": 50
        }
      ],
      "source": [
        "#Melatih data model\n",
        "model_knn.fit(X_train, y_train)"
      ]
    },
    {
      "cell_type": "code",
      "execution_count": null,
      "metadata": {
        "id": "Kd7_TZeHU4UK"
      },
      "outputs": [],
      "source": [
        "#Melakukan prediksi menggunakan data uji\n",
        "y_pred_knn = model_knn.predict(X_test)"
      ]
    },
    {
      "cell_type": "code",
      "execution_count": null,
      "metadata": {
        "id": "G3HbI1jAOS4v"
      },
      "outputs": [],
      "source": [
        "#Menghitung RMSE\n",
        "rmse_knn = mean_squared_error(y_test, y_pred_knn, squared=False)"
      ]
    },
    {
      "cell_type": "code",
      "execution_count": null,
      "metadata": {
        "id": "g0MFQms6Oe7P"
      },
      "outputs": [],
      "source": [
        "#Menghitung MAE\n",
        "mae_knn = mean_absolute_error(y_test, y_pred_knn)"
      ]
    },
    {
      "cell_type": "code",
      "execution_count": null,
      "metadata": {
        "id": "6r4v7L5LYtHf"
      },
      "outputs": [],
      "source": [
        "#Menghitung akurasi model\n",
        "accuracy_knn = accuracy_score(y_test, y_pred_knn)"
      ]
    },
    {
      "cell_type": "code",
      "execution_count": null,
      "metadata": {
        "colab": {
          "base_uri": "https://localhost:8080/"
        },
        "id": "g1pK99DzY7hb",
        "outputId": "7db767a0-0692-46e2-af21-57fe8f654969"
      },
      "outputs": [
        {
          "output_type": "stream",
          "name": "stdout",
          "text": [
            "Accuracy: 0.9270867737366839\n",
            "RMSE: 0.27002449196936956\n",
            "MAE: 8.784759036481804\n",
            "Classification Report:\n",
            "              precision    recall  f1-score   support\n",
            "\n",
            "           0       0.94      0.93      0.93     99104\n",
            "           1       0.91      0.92      0.92     79533\n",
            "\n",
            "    accuracy                           0.93    178637\n",
            "   macro avg       0.93      0.93      0.93    178637\n",
            "weighted avg       0.93      0.93      0.93    178637\n",
            "\n"
          ]
        }
      ],
      "source": [
        "#Menampilkan hasil evaluasi\n",
        "print('Accuracy:', accuracy_knn)\n",
        "print('RMSE:', rmse_knn)\n",
        "print('MAE:', mae_knn)\n",
        "print('Classification Report:')\n",
        "print(classification_report(y_test, y_pred_knn))"
      ]
    },
    {
      "cell_type": "markdown",
      "metadata": {
        "id": "BXxc-lkpEcuB"
      },
      "source": [
        "**Analisis**\n",
        "\n",
        "Berdasarkan hasil evaluasi model diatas, didapatkan beberapa informasi model sebagai berikut:\n",
        "* Model memiliki nilai akurasi sebesar 0.9250440068871981, artinya model mampu melakukan prediksi yang benar sekitar 92.50% dari total data.\n",
        "* RMSE sebesar 0.2737809217473013 menunjukkan tingkat kesalahan rata-rata model.\n",
        "* MAE sebesar 8.436889795211666 menunjukkan kesalahan rata-rata mutlak model."
      ]
    },
    {
      "cell_type": "markdown",
      "metadata": {
        "id": "KcaknjAFEuOu"
      },
      "source": [
        "## Decision Tree"
      ]
    },
    {
      "cell_type": "code",
      "execution_count": null,
      "metadata": {
        "colab": {
          "base_uri": "https://localhost:8080/",
          "height": 75
        },
        "id": "95m0Srd6Eezb",
        "outputId": "e2ee1913-6f2a-4ab7-e0c0-757b59809799"
      },
      "outputs": [
        {
          "output_type": "execute_result",
          "data": {
            "text/plain": [
              "DecisionTreeClassifier()"
            ],
            "text/html": [
              "<style>#sk-container-id-2 {color: black;background-color: white;}#sk-container-id-2 pre{padding: 0;}#sk-container-id-2 div.sk-toggleable {background-color: white;}#sk-container-id-2 label.sk-toggleable__label {cursor: pointer;display: block;width: 100%;margin-bottom: 0;padding: 0.3em;box-sizing: border-box;text-align: center;}#sk-container-id-2 label.sk-toggleable__label-arrow:before {content: \"▸\";float: left;margin-right: 0.25em;color: #696969;}#sk-container-id-2 label.sk-toggleable__label-arrow:hover:before {color: black;}#sk-container-id-2 div.sk-estimator:hover label.sk-toggleable__label-arrow:before {color: black;}#sk-container-id-2 div.sk-toggleable__content {max-height: 0;max-width: 0;overflow: hidden;text-align: left;background-color: #f0f8ff;}#sk-container-id-2 div.sk-toggleable__content pre {margin: 0.2em;color: black;border-radius: 0.25em;background-color: #f0f8ff;}#sk-container-id-2 input.sk-toggleable__control:checked~div.sk-toggleable__content {max-height: 200px;max-width: 100%;overflow: auto;}#sk-container-id-2 input.sk-toggleable__control:checked~label.sk-toggleable__label-arrow:before {content: \"▾\";}#sk-container-id-2 div.sk-estimator input.sk-toggleable__control:checked~label.sk-toggleable__label {background-color: #d4ebff;}#sk-container-id-2 div.sk-label input.sk-toggleable__control:checked~label.sk-toggleable__label {background-color: #d4ebff;}#sk-container-id-2 input.sk-hidden--visually {border: 0;clip: rect(1px 1px 1px 1px);clip: rect(1px, 1px, 1px, 1px);height: 1px;margin: -1px;overflow: hidden;padding: 0;position: absolute;width: 1px;}#sk-container-id-2 div.sk-estimator {font-family: monospace;background-color: #f0f8ff;border: 1px dotted black;border-radius: 0.25em;box-sizing: border-box;margin-bottom: 0.5em;}#sk-container-id-2 div.sk-estimator:hover {background-color: #d4ebff;}#sk-container-id-2 div.sk-parallel-item::after {content: \"\";width: 100%;border-bottom: 1px solid gray;flex-grow: 1;}#sk-container-id-2 div.sk-label:hover label.sk-toggleable__label {background-color: #d4ebff;}#sk-container-id-2 div.sk-serial::before {content: \"\";position: absolute;border-left: 1px solid gray;box-sizing: border-box;top: 0;bottom: 0;left: 50%;z-index: 0;}#sk-container-id-2 div.sk-serial {display: flex;flex-direction: column;align-items: center;background-color: white;padding-right: 0.2em;padding-left: 0.2em;position: relative;}#sk-container-id-2 div.sk-item {position: relative;z-index: 1;}#sk-container-id-2 div.sk-parallel {display: flex;align-items: stretch;justify-content: center;background-color: white;position: relative;}#sk-container-id-2 div.sk-item::before, #sk-container-id-2 div.sk-parallel-item::before {content: \"\";position: absolute;border-left: 1px solid gray;box-sizing: border-box;top: 0;bottom: 0;left: 50%;z-index: -1;}#sk-container-id-2 div.sk-parallel-item {display: flex;flex-direction: column;z-index: 1;position: relative;background-color: white;}#sk-container-id-2 div.sk-parallel-item:first-child::after {align-self: flex-end;width: 50%;}#sk-container-id-2 div.sk-parallel-item:last-child::after {align-self: flex-start;width: 50%;}#sk-container-id-2 div.sk-parallel-item:only-child::after {width: 0;}#sk-container-id-2 div.sk-dashed-wrapped {border: 1px dashed gray;margin: 0 0.4em 0.5em 0.4em;box-sizing: border-box;padding-bottom: 0.4em;background-color: white;}#sk-container-id-2 div.sk-label label {font-family: monospace;font-weight: bold;display: inline-block;line-height: 1.2em;}#sk-container-id-2 div.sk-label-container {text-align: center;}#sk-container-id-2 div.sk-container {/* jupyter's `normalize.less` sets `[hidden] { display: none; }` but bootstrap.min.css set `[hidden] { display: none !important; }` so we also need the `!important` here to be able to override the default hidden behavior on the sphinx rendered scikit-learn.org. See: https://github.com/scikit-learn/scikit-learn/issues/21755 */display: inline-block !important;position: relative;}#sk-container-id-2 div.sk-text-repr-fallback {display: none;}</style><div id=\"sk-container-id-2\" class=\"sk-top-container\"><div class=\"sk-text-repr-fallback\"><pre>DecisionTreeClassifier()</pre><b>In a Jupyter environment, please rerun this cell to show the HTML representation or trust the notebook. <br />On GitHub, the HTML representation is unable to render, please try loading this page with nbviewer.org.</b></div><div class=\"sk-container\" hidden><div class=\"sk-item\"><div class=\"sk-estimator sk-toggleable\"><input class=\"sk-toggleable__control sk-hidden--visually\" id=\"sk-estimator-id-2\" type=\"checkbox\" checked><label for=\"sk-estimator-id-2\" class=\"sk-toggleable__label sk-toggleable__label-arrow\">DecisionTreeClassifier</label><div class=\"sk-toggleable__content\"><pre>DecisionTreeClassifier()</pre></div></div></div></div></div>"
            ]
          },
          "metadata": {},
          "execution_count": 56
        }
      ],
      "source": [
        "#Melatih data model\n",
        "model_dt.fit(X_train, y_train)"
      ]
    },
    {
      "cell_type": "code",
      "execution_count": null,
      "metadata": {
        "id": "7y0wLuJq4DQX"
      },
      "outputs": [],
      "source": [
        "#Melakukan prediksi menggunakan data uji\n",
        "y_pred_dt = model_dt.predict(X_test)"
      ]
    },
    {
      "cell_type": "code",
      "execution_count": null,
      "metadata": {
        "id": "ovLPuXUTVWip"
      },
      "outputs": [],
      "source": [
        "#Menghitung RMSE\n",
        "rmse_dt = mean_squared_error(y_test, y_pred_dt, squared=False)"
      ]
    },
    {
      "cell_type": "code",
      "execution_count": null,
      "metadata": {
        "id": "KF9af076VWip"
      },
      "outputs": [],
      "source": [
        "#Menghitung MAE\n",
        "mae_dt = mean_absolute_error(y_test, y_pred_dt)"
      ]
    },
    {
      "cell_type": "code",
      "execution_count": null,
      "metadata": {
        "id": "iR5CcVTw4Kgd"
      },
      "outputs": [],
      "source": [
        "#Menghitung akurasi model\n",
        "accuracy_dt = accuracy_score(y_test, y_pred_dt)"
      ]
    },
    {
      "cell_type": "code",
      "execution_count": null,
      "metadata": {
        "colab": {
          "base_uri": "https://localhost:8080/"
        },
        "id": "Lrt--mX94RDD",
        "outputId": "fb07a1c4-708e-4f82-cfff-65a2f370e3d1"
      },
      "outputs": [
        {
          "output_type": "stream",
          "name": "stdout",
          "text": [
            "Accuracy: 0.9346551946125383\n",
            "RMSE: 0.2556263002655668\n",
            "MAE: 8.174314391755347\n",
            "Classification Report:\n",
            "              precision    recall  f1-score   support\n",
            "\n",
            "           0       0.94      0.94      0.94     99104\n",
            "           1       0.93      0.93      0.93     79533\n",
            "\n",
            "    accuracy                           0.93    178637\n",
            "   macro avg       0.93      0.93      0.93    178637\n",
            "weighted avg       0.93      0.93      0.93    178637\n",
            "\n"
          ]
        }
      ],
      "source": [
        "#Menampilkan hasil evaluasi\n",
        "print('Accuracy:', accuracy_dt)\n",
        "print('RMSE:', rmse_dt)\n",
        "print('MAE:', mae_dt)\n",
        "print('Classification Report:')\n",
        "print(classification_report(y_test, y_pred_dt))"
      ]
    },
    {
      "cell_type": "markdown",
      "metadata": {
        "id": "l8FGpkBtVWiw"
      },
      "source": [
        "**Analisis**\n",
        "\n",
        "Berdasarkan hasil evaluasi model diatas, didapatkan beberapa informasi model sebagai berikut:\n",
        "* Model memiliki nilai akurasi sebesar 0.9346629986244842, artinya model mampu melakukan prediksi yang benar sekitar 93.46% dari total data.\n",
        "* RMSE sebesar 0.2556110353163881 menunjukkan tingkat kesalahan rata-rata model.\n",
        "* MAE sebesar 7.976495993689942 menunjukkan kesalahan rata-rata mutlak model."
      ]
    },
    {
      "cell_type": "markdown",
      "metadata": {
        "id": "Gp4EI2YMVWix"
      },
      "source": [
        "## Random Forest"
      ]
    },
    {
      "cell_type": "code",
      "execution_count": null,
      "metadata": {
        "colab": {
          "base_uri": "https://localhost:8080/",
          "height": 75
        },
        "id": "U18C4Z0OVWiy",
        "outputId": "fd2dec6c-0842-43b8-fed1-b3114b052744"
      },
      "outputs": [
        {
          "output_type": "execute_result",
          "data": {
            "text/plain": [
              "RandomForestRegressor()"
            ],
            "text/html": [
              "<style>#sk-container-id-3 {color: black;background-color: white;}#sk-container-id-3 pre{padding: 0;}#sk-container-id-3 div.sk-toggleable {background-color: white;}#sk-container-id-3 label.sk-toggleable__label {cursor: pointer;display: block;width: 100%;margin-bottom: 0;padding: 0.3em;box-sizing: border-box;text-align: center;}#sk-container-id-3 label.sk-toggleable__label-arrow:before {content: \"▸\";float: left;margin-right: 0.25em;color: #696969;}#sk-container-id-3 label.sk-toggleable__label-arrow:hover:before {color: black;}#sk-container-id-3 div.sk-estimator:hover label.sk-toggleable__label-arrow:before {color: black;}#sk-container-id-3 div.sk-toggleable__content {max-height: 0;max-width: 0;overflow: hidden;text-align: left;background-color: #f0f8ff;}#sk-container-id-3 div.sk-toggleable__content pre {margin: 0.2em;color: black;border-radius: 0.25em;background-color: #f0f8ff;}#sk-container-id-3 input.sk-toggleable__control:checked~div.sk-toggleable__content {max-height: 200px;max-width: 100%;overflow: auto;}#sk-container-id-3 input.sk-toggleable__control:checked~label.sk-toggleable__label-arrow:before {content: \"▾\";}#sk-container-id-3 div.sk-estimator input.sk-toggleable__control:checked~label.sk-toggleable__label {background-color: #d4ebff;}#sk-container-id-3 div.sk-label input.sk-toggleable__control:checked~label.sk-toggleable__label {background-color: #d4ebff;}#sk-container-id-3 input.sk-hidden--visually {border: 0;clip: rect(1px 1px 1px 1px);clip: rect(1px, 1px, 1px, 1px);height: 1px;margin: -1px;overflow: hidden;padding: 0;position: absolute;width: 1px;}#sk-container-id-3 div.sk-estimator {font-family: monospace;background-color: #f0f8ff;border: 1px dotted black;border-radius: 0.25em;box-sizing: border-box;margin-bottom: 0.5em;}#sk-container-id-3 div.sk-estimator:hover {background-color: #d4ebff;}#sk-container-id-3 div.sk-parallel-item::after {content: \"\";width: 100%;border-bottom: 1px solid gray;flex-grow: 1;}#sk-container-id-3 div.sk-label:hover label.sk-toggleable__label {background-color: #d4ebff;}#sk-container-id-3 div.sk-serial::before {content: \"\";position: absolute;border-left: 1px solid gray;box-sizing: border-box;top: 0;bottom: 0;left: 50%;z-index: 0;}#sk-container-id-3 div.sk-serial {display: flex;flex-direction: column;align-items: center;background-color: white;padding-right: 0.2em;padding-left: 0.2em;position: relative;}#sk-container-id-3 div.sk-item {position: relative;z-index: 1;}#sk-container-id-3 div.sk-parallel {display: flex;align-items: stretch;justify-content: center;background-color: white;position: relative;}#sk-container-id-3 div.sk-item::before, #sk-container-id-3 div.sk-parallel-item::before {content: \"\";position: absolute;border-left: 1px solid gray;box-sizing: border-box;top: 0;bottom: 0;left: 50%;z-index: -1;}#sk-container-id-3 div.sk-parallel-item {display: flex;flex-direction: column;z-index: 1;position: relative;background-color: white;}#sk-container-id-3 div.sk-parallel-item:first-child::after {align-self: flex-end;width: 50%;}#sk-container-id-3 div.sk-parallel-item:last-child::after {align-self: flex-start;width: 50%;}#sk-container-id-3 div.sk-parallel-item:only-child::after {width: 0;}#sk-container-id-3 div.sk-dashed-wrapped {border: 1px dashed gray;margin: 0 0.4em 0.5em 0.4em;box-sizing: border-box;padding-bottom: 0.4em;background-color: white;}#sk-container-id-3 div.sk-label label {font-family: monospace;font-weight: bold;display: inline-block;line-height: 1.2em;}#sk-container-id-3 div.sk-label-container {text-align: center;}#sk-container-id-3 div.sk-container {/* jupyter's `normalize.less` sets `[hidden] { display: none; }` but bootstrap.min.css set `[hidden] { display: none !important; }` so we also need the `!important` here to be able to override the default hidden behavior on the sphinx rendered scikit-learn.org. See: https://github.com/scikit-learn/scikit-learn/issues/21755 */display: inline-block !important;position: relative;}#sk-container-id-3 div.sk-text-repr-fallback {display: none;}</style><div id=\"sk-container-id-3\" class=\"sk-top-container\"><div class=\"sk-text-repr-fallback\"><pre>RandomForestRegressor()</pre><b>In a Jupyter environment, please rerun this cell to show the HTML representation or trust the notebook. <br />On GitHub, the HTML representation is unable to render, please try loading this page with nbviewer.org.</b></div><div class=\"sk-container\" hidden><div class=\"sk-item\"><div class=\"sk-estimator sk-toggleable\"><input class=\"sk-toggleable__control sk-hidden--visually\" id=\"sk-estimator-id-3\" type=\"checkbox\" checked><label for=\"sk-estimator-id-3\" class=\"sk-toggleable__label sk-toggleable__label-arrow\">RandomForestRegressor</label><div class=\"sk-toggleable__content\"><pre>RandomForestRegressor()</pre></div></div></div></div></div>"
            ]
          },
          "metadata": {},
          "execution_count": 62
        }
      ],
      "source": [
        "#Melatih data model\n",
        "model_rf.fit(X_train, y_train)"
      ]
    },
    {
      "cell_type": "code",
      "execution_count": null,
      "metadata": {
        "id": "mPXiyb0wVWiy"
      },
      "outputs": [],
      "source": [
        "#Melakukan prediksi menggunakan data uji\n",
        "y_pred_rf = model_rf.predict(X_test)"
      ]
    },
    {
      "cell_type": "code",
      "execution_count": null,
      "metadata": {
        "id": "WUVmVtokVWiz"
      },
      "outputs": [],
      "source": [
        "#Menghitung RMSE\n",
        "rmse_rf = mean_squared_error(y_test, y_pred_rf, squared=False)"
      ]
    },
    {
      "cell_type": "code",
      "execution_count": null,
      "metadata": {
        "id": "BOZ0llUgVWi0"
      },
      "outputs": [],
      "source": [
        "#Menghitung MAE\n",
        "mae_rf = mean_absolute_error(y_test, y_pred_rf)"
      ]
    },
    {
      "cell_type": "code",
      "execution_count": null,
      "metadata": {
        "id": "su8iWV0MVWi0"
      },
      "outputs": [],
      "source": [
        "#Menghitung akurasi model\n",
        "accuracy_rf = model_rf.score(X_test, y_test)"
      ]
    },
    {
      "cell_type": "code",
      "execution_count": null,
      "metadata": {
        "id": "ztUwnCZVVWi1",
        "outputId": "e259db76-42ea-469a-fb1c-769853511959"
      },
      "outputs": [
        {
          "name": "stdout",
          "output_type": "stream",
          "text": [
            "Accuracy: 0.8118689420125064\n",
            "RMSE: 0.21542249096942853\n",
            "MAE: 0.09143338885331481\n"
          ]
        }
      ],
      "source": [
        "#Menampilkan hasil evaluasi\n",
        "print('Accuracy:', accuracy_rf)\n",
        "print('RMSE:', rmse_rf)\n",
        "print('MAE:', mae_rf)"
      ]
    },
    {
      "cell_type": "markdown",
      "metadata": {
        "id": "dq-1qQOVVWi1"
      },
      "source": [
        "**Analisis**\n",
        "\n",
        "Berdasarkan hasil evaluasi model diatas, didapatkan beberapa informasi model sebagai berikut:\n",
        "* Model memiliki nilai akurasi sebesar 0.8118689420125064, artinya model mampu melakukan prediksi yang benar sekitar 81.18% dari total data.\n",
        "* RMSE sebesar 0.21542249096942853 menunjukkan tingkat kesalahan rata-rata model.\n",
        "* MAE sebesar 0.09143338885331481 menunjukkan kesalahan rata-rata mutlak model."
      ]
    },
    {
      "cell_type": "markdown",
      "metadata": {
        "id": "TROFK3EWVWi2"
      },
      "source": [
        "## Naive Bayes"
      ]
    },
    {
      "cell_type": "code",
      "execution_count": null,
      "metadata": {
        "colab": {
          "base_uri": "https://localhost:8080/",
          "height": 75
        },
        "id": "Eda_MNuwVWi3",
        "outputId": "f4d339b6-7ffc-4cce-9c87-0154a039d43e"
      },
      "outputs": [
        {
          "output_type": "execute_result",
          "data": {
            "text/plain": [
              "GaussianNB()"
            ],
            "text/html": [
              "<style>#sk-container-id-4 {color: black;background-color: white;}#sk-container-id-4 pre{padding: 0;}#sk-container-id-4 div.sk-toggleable {background-color: white;}#sk-container-id-4 label.sk-toggleable__label {cursor: pointer;display: block;width: 100%;margin-bottom: 0;padding: 0.3em;box-sizing: border-box;text-align: center;}#sk-container-id-4 label.sk-toggleable__label-arrow:before {content: \"▸\";float: left;margin-right: 0.25em;color: #696969;}#sk-container-id-4 label.sk-toggleable__label-arrow:hover:before {color: black;}#sk-container-id-4 div.sk-estimator:hover label.sk-toggleable__label-arrow:before {color: black;}#sk-container-id-4 div.sk-toggleable__content {max-height: 0;max-width: 0;overflow: hidden;text-align: left;background-color: #f0f8ff;}#sk-container-id-4 div.sk-toggleable__content pre {margin: 0.2em;color: black;border-radius: 0.25em;background-color: #f0f8ff;}#sk-container-id-4 input.sk-toggleable__control:checked~div.sk-toggleable__content {max-height: 200px;max-width: 100%;overflow: auto;}#sk-container-id-4 input.sk-toggleable__control:checked~label.sk-toggleable__label-arrow:before {content: \"▾\";}#sk-container-id-4 div.sk-estimator input.sk-toggleable__control:checked~label.sk-toggleable__label {background-color: #d4ebff;}#sk-container-id-4 div.sk-label input.sk-toggleable__control:checked~label.sk-toggleable__label {background-color: #d4ebff;}#sk-container-id-4 input.sk-hidden--visually {border: 0;clip: rect(1px 1px 1px 1px);clip: rect(1px, 1px, 1px, 1px);height: 1px;margin: -1px;overflow: hidden;padding: 0;position: absolute;width: 1px;}#sk-container-id-4 div.sk-estimator {font-family: monospace;background-color: #f0f8ff;border: 1px dotted black;border-radius: 0.25em;box-sizing: border-box;margin-bottom: 0.5em;}#sk-container-id-4 div.sk-estimator:hover {background-color: #d4ebff;}#sk-container-id-4 div.sk-parallel-item::after {content: \"\";width: 100%;border-bottom: 1px solid gray;flex-grow: 1;}#sk-container-id-4 div.sk-label:hover label.sk-toggleable__label {background-color: #d4ebff;}#sk-container-id-4 div.sk-serial::before {content: \"\";position: absolute;border-left: 1px solid gray;box-sizing: border-box;top: 0;bottom: 0;left: 50%;z-index: 0;}#sk-container-id-4 div.sk-serial {display: flex;flex-direction: column;align-items: center;background-color: white;padding-right: 0.2em;padding-left: 0.2em;position: relative;}#sk-container-id-4 div.sk-item {position: relative;z-index: 1;}#sk-container-id-4 div.sk-parallel {display: flex;align-items: stretch;justify-content: center;background-color: white;position: relative;}#sk-container-id-4 div.sk-item::before, #sk-container-id-4 div.sk-parallel-item::before {content: \"\";position: absolute;border-left: 1px solid gray;box-sizing: border-box;top: 0;bottom: 0;left: 50%;z-index: -1;}#sk-container-id-4 div.sk-parallel-item {display: flex;flex-direction: column;z-index: 1;position: relative;background-color: white;}#sk-container-id-4 div.sk-parallel-item:first-child::after {align-self: flex-end;width: 50%;}#sk-container-id-4 div.sk-parallel-item:last-child::after {align-self: flex-start;width: 50%;}#sk-container-id-4 div.sk-parallel-item:only-child::after {width: 0;}#sk-container-id-4 div.sk-dashed-wrapped {border: 1px dashed gray;margin: 0 0.4em 0.5em 0.4em;box-sizing: border-box;padding-bottom: 0.4em;background-color: white;}#sk-container-id-4 div.sk-label label {font-family: monospace;font-weight: bold;display: inline-block;line-height: 1.2em;}#sk-container-id-4 div.sk-label-container {text-align: center;}#sk-container-id-4 div.sk-container {/* jupyter's `normalize.less` sets `[hidden] { display: none; }` but bootstrap.min.css set `[hidden] { display: none !important; }` so we also need the `!important` here to be able to override the default hidden behavior on the sphinx rendered scikit-learn.org. See: https://github.com/scikit-learn/scikit-learn/issues/21755 */display: inline-block !important;position: relative;}#sk-container-id-4 div.sk-text-repr-fallback {display: none;}</style><div id=\"sk-container-id-4\" class=\"sk-top-container\"><div class=\"sk-text-repr-fallback\"><pre>GaussianNB()</pre><b>In a Jupyter environment, please rerun this cell to show the HTML representation or trust the notebook. <br />On GitHub, the HTML representation is unable to render, please try loading this page with nbviewer.org.</b></div><div class=\"sk-container\" hidden><div class=\"sk-item\"><div class=\"sk-estimator sk-toggleable\"><input class=\"sk-toggleable__control sk-hidden--visually\" id=\"sk-estimator-id-4\" type=\"checkbox\" checked><label for=\"sk-estimator-id-4\" class=\"sk-toggleable__label sk-toggleable__label-arrow\">GaussianNB</label><div class=\"sk-toggleable__content\"><pre>GaussianNB()</pre></div></div></div></div></div>"
            ]
          },
          "metadata": {},
          "execution_count": 136
        }
      ],
      "source": [
        "#Melatih data model\n",
        "model_nb.fit(X_train, y_train)"
      ]
    },
    {
      "cell_type": "code",
      "execution_count": null,
      "metadata": {
        "id": "fMTreNSPVWi4"
      },
      "outputs": [],
      "source": [
        "#Melakukan prediksi menggunakan data uji\n",
        "y_pred_nb = model_nb.predict(X_test)"
      ]
    },
    {
      "cell_type": "code",
      "execution_count": null,
      "metadata": {
        "id": "RXZTXRufVWi4"
      },
      "outputs": [],
      "source": [
        "#Menghitung RMSE\n",
        "rmse_nb = mean_squared_error(y_test, y_pred_nb, squared=False)"
      ]
    },
    {
      "cell_type": "code",
      "execution_count": null,
      "metadata": {
        "id": "B63FXToCVWi5"
      },
      "outputs": [],
      "source": [
        "#Menghitung MAE\n",
        "mae_nb = mean_absolute_error(y_test, y_pred_nb)"
      ]
    },
    {
      "cell_type": "code",
      "execution_count": null,
      "metadata": {
        "id": "SFNarIa2VWi6"
      },
      "outputs": [],
      "source": [
        "#Menghitung akurasi model\n",
        "accuracy_nb = accuracy_score(y_test, y_pred_nb)"
      ]
    },
    {
      "cell_type": "code",
      "execution_count": null,
      "metadata": {
        "id": "OffDjZZkVWi6",
        "outputId": "26d2608c-d372-4e67-80c2-83c5923341fa"
      },
      "outputs": [
        {
          "name": "stdout",
          "output_type": "stream",
          "text": [
            "Accuracy: 0.5876626811977569\n",
            "RMSE: 0.6421349693033725\n",
            "MAE: 105.14479468262137\n",
            "Classification Report:\n",
            "              precision    recall  f1-score   support\n",
            "\n",
            "           0       0.57      1.00      0.73    115954\n",
            "           1       1.00      0.07      0.13     91968\n",
            "\n",
            "    accuracy                           0.59    207922\n",
            "   macro avg       0.79      0.53      0.43    207922\n",
            "weighted avg       0.76      0.59      0.46    207922\n",
            "\n"
          ]
        }
      ],
      "source": [
        "#Menampilkan hasil evaluasi\n",
        "print('Accuracy:', accuracy_nb)\n",
        "print('RMSE:', rmse_nb)\n",
        "print('MAE:', mae_nb)\n",
        "print('Classification Report:')\n",
        "print(classification_report(y_test, y_pred_nb))"
      ]
    },
    {
      "cell_type": "markdown",
      "metadata": {
        "id": "myFFWTEVVWi7"
      },
      "source": [
        "**Analisis**\n",
        "\n",
        "Berdasarkan hasil evaluasi model diatas, didapatkan beberapa informasi model sebagai berikut:\n",
        "* Model memiliki nilai akurasi sebesar 0.5876626811977569, artinya model mampu melakukan prediksi yang benar sekitar 58.76% dari total data.\n",
        "* RMSE sebesar 0.6421349693033725 menunjukkan tingkat kesalahan rata-rata model.\n",
        "* MAE sebesar 105.14479468262137 menunjukkan kesalahan rata-rata mutlak model."
      ]
    },
    {
      "cell_type": "markdown",
      "source": [
        "# J.  Model Inference"
      ],
      "metadata": {
        "id": "2h5qXU0FVfuh"
      }
    },
    {
      "cell_type": "markdown",
      "source": [
        "##Data Baru "
      ],
      "metadata": {
        "id": "4iXxAxaxOjgv"
      }
    },
    {
      "cell_type": "code",
      "source": [
        "distance=float(input('distance :'))\n",
        "surge=float(input('surge_multiplier :'))\n",
        "service=input('service_class :')\n",
        "dict_service={'Shared':0,'Lyft':1,'Lyft XL':2,\n",
        "              'Lux':3,'Lux Black':4,'Lux Black XL':5,\n",
        "              'UberX':6,'Uber XL':7,'UberPool':8,\n",
        "             'Black':9,'BlackSUV':10,'WAV':11}\n",
        "x_input=[distance,surge]\n",
        "for i in range(0,12):\n",
        "    if dict_service[service]==i:\n",
        "        x_input.append(1)\n",
        "    else:\n",
        "        x_input.append(0)\n",
        "pred= accuracy_score(y_test, y_pred_nb)\n",
        "pred"
      ],
      "metadata": {
        "colab": {
          "base_uri": "https://localhost:8080/"
        },
        "id": "7J7D0hpjVXbf",
        "outputId": "c1b979b0-53fa-4814-a563-c57b6c121860"
      },
      "execution_count": null,
      "outputs": [
        {
          "name": "stdout",
          "output_type": "stream",
          "text": [
            "distance :1.0\n",
            "surge_multiplier :2.0\n",
            "service_class :Black\n"
          ]
        },
        {
          "output_type": "execute_result",
          "data": {
            "text/plain": [
              "0.5854890084361023"
            ]
          },
          "metadata": {},
          "execution_count": 371
        }
      ]
    },
    {
      "cell_type": "markdown",
      "source": [
        "# k. Kesimpulan"
      ],
      "metadata": {
        "id": "h6_Wf9upDgMH"
      }
    },
    {
      "cell_type": "markdown",
      "source": [
        "**Dari Final Project yang telah dibuat dapat disimpulkan bahwa :**"
      ],
      "metadata": {
        "id": "D7TLqD08Fplc"
      }
    },
    {
      "cell_type": "markdown",
      "source": [
        "Dataset ini berisi 57 kolom dan 693071 baris, setelah melakukan data loading, selanjutnya dilakukan data cleaning dan eksplorasi data, dimana dalam pengeksplorasian data ini dilakukan analisis, diantaranya analisis  (price, distance, dan juga surge_multiplier), analisis berdasarkan layanan, analisis berdasarkan titik jemput dan titik sampai ini dibuat dan visualisasikan dengan data numerik dan data kategorik.\n",
        "\n",
        "\n",
        "Metode pengujian menggunakan 5 model, yaitu Logistic Regression Model, K-Nearest Neighbors, Support Vector Machine Model,Decision Tree,Random Forest, dan Naive Bayes, dengan masing - masing nilai akurasi 58.46%,92.50%,93.46%, 81.18%,58.76%\n"
      ],
      "metadata": {
        "id": "M9No13yPDlVZ"
      }
    }
  ],
  "metadata": {
    "colab": {
      "provenance": [],
      "toc_visible": true
    },
    "kernelspec": {
      "display_name": "Python 3 (ipykernel)",
      "language": "python",
      "name": "python3"
    },
    "language_info": {
      "codemirror_mode": {
        "name": "ipython",
        "version": 3
      },
      "file_extension": ".py",
      "mimetype": "text/x-python",
      "name": "python",
      "nbconvert_exporter": "python",
      "pygments_lexer": "ipython3",
      "version": "3.9.13"
    }
  },
  "nbformat": 4,
  "nbformat_minor": 0
}